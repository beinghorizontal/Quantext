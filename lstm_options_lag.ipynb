{
  "cells": [
    {
      "cell_type": "markdown",
      "metadata": {
        "id": "view-in-github",
        "colab_type": "text"
      },
      "source": [
        "<a href=\"https://colab.research.google.com/github/beinghorizontal/Quantext/blob/main/lstm_options_lag.ipynb\" target=\"_parent\"><img src=\"https://colab.research.google.com/assets/colab-badge.svg\" alt=\"Open In Colab\"/></a>"
      ]
    },
    {
      "cell_type": "code",
      "outputs": [],
      "source": [
        "\n",
        "# !pip install yfinance\n",
        "# !pip install pandas_ta\n",
        "# !pip install torch torchvision torchaudio --index-url https://download.pytorch.org/whl/cu118\n",
        "# !pip install keras==3.0.0"
      ],
      "metadata": {
        "id": "5a2cf7ecd15a94b1"
      },
      "id": "5a2cf7ecd15a94b1",
      "execution_count": 1
    },
    {
      "cell_type": "markdown",
      "source": [
        "# Import essential libraries"
      ],
      "metadata": {
        "collapsed": false,
        "id": "a17be93e31eef16b"
      },
      "id": "a17be93e31eef16b"
    },
    {
      "cell_type": "code",
      "outputs": [],
      "source": [
        "from preprocess_options_colab import get_options\n",
        "import numpy as np\n",
        "import matplotlib.pyplot as plt\n",
        "from sklearn.preprocessing import MinMaxScaler\n",
        "from keras.models import Sequential\n",
        "import torch\n",
        "from keras.layers import LSTM, Dense, Dropout, BatchNormalization\n",
        "from keras.callbacks import EarlyStopping, ModelCheckpoint\n",
        "from keras.utils import plot_model"
      ],
      "metadata": {
        "ExecuteTime": {
          "end_time": "2024-03-14T13:20:44.693459Z",
          "start_time": "2024-03-14T13:20:40.127739Z"
        },
        "id": "f682831893363ad3"
      },
      "id": "f682831893363ad3",
      "execution_count": 2
    },
    {
      "cell_type": "markdown",
      "source": [
        "# Get option chain data from preprocess_options.py"
      ],
      "metadata": {
        "collapsed": false,
        "id": "65ce73d0cb820883"
      },
      "id": "65ce73d0cb820883"
    },
    {
      "cell_type": "code",
      "outputs": [],
      "source": [
        "optionslist = get_options()\n",
        "\n",
        "df = optionslist[0]"
      ],
      "metadata": {
        "ExecuteTime": {
          "end_time": "2024-03-14T13:20:49.760938Z",
          "start_time": "2024-03-14T13:20:49.184583Z"
        },
        "id": "f641e6d2212871a9"
      },
      "id": "f641e6d2212871a9",
      "execution_count": null
    },
    {
      "cell_type": "markdown",
      "source": [
        "# Download the historical data from Yahoo finance for 15 years data, replace  'days=15' to change the years accordingly"
      ],
      "metadata": {
        "collapsed": false,
        "id": "ea567ffe036910c0"
      },
      "id": "ea567ffe036910c0"
    },
    {
      "cell_type": "code",
      "outputs": [
        {
          "output_type": "stream",
          "name": "stdout",
          "text": [
            "Using device: cuda\n"
          ]
        }
      ],
      "source": [
        "device = torch.device(\"cuda\" if torch.cuda.is_available() else \"cpu\")\n",
        "print(f\"Using device: {device}\")"
      ],
      "metadata": {
        "ExecuteTime": {
          "end_time": "2024-03-14T13:20:55.113689Z",
          "start_time": "2024-03-14T13:20:55.094773Z"
        },
        "colab": {
          "base_uri": "https://localhost:8080/"
        },
        "id": "4276d5cda9a9cef6",
        "outputId": "8a8698af-2a6e-480b-a6d1-d01bb066c255"
      },
      "id": "4276d5cda9a9cef6",
      "execution_count": 122
    },
    {
      "cell_type": "code",
      "outputs": [],
      "source": [
        "scaler = MinMaxScaler(feature_range=(0, 1))"
      ],
      "metadata": {
        "ExecuteTime": {
          "end_time": "2024-03-14T13:20:57.962363Z",
          "start_time": "2024-03-14T13:20:57.943755Z"
        },
        "id": "59a9983c9c3ab6e0"
      },
      "id": "59a9983c9c3ab6e0",
      "execution_count": 123
    },
    {
      "cell_type": "code",
      "outputs": [
        {
          "output_type": "stream",
          "name": "stdout",
          "text": [
            "['MX_PEOI', 'MX_CEOI', 'Nifty_Close', 'Nifty_V', 'CEIV', 'PEIV', 'PCR_OI', 'PCR_WT', 'ActivePEOI', 'ActiveCEOI', 'Long_Sum', 'Short_Sum', 'LongLiq_Sum', 'ShortCover_Sum', 'CE_Unwind_Sum', 'PE_Unwind_Sum', 'MaxPain', 'ActivePE', 'ActiveCE', 'MX_PE', 'MX_CE', 'peIvRank', 'ceIvRank', 'Close', 'MX_PEOI_mean', 'MX_CEOI_mean', 'Nifty_Close_mean', 'Nifty_V_mean', 'CEIV_mean', 'PEIV_mean', 'PCR_OI_mean', 'PCR_WT_mean', 'ActivePEOI_mean', 'ActiveCEOI_mean', 'Long_Sum_mean', 'Short_Sum_mean', 'LongLiq_Sum_mean', 'ShortCover_Sum_mean', 'CE_Unwind_Sum_mean', 'PE_Unwind_Sum_mean', 'MaxPain_mean', 'ActivePE_mean', 'ActiveCE_mean', 'MX_PE_mean', 'MX_CE_mean', 'peIvRank_mean', 'ceIvRank_mean']\n"
          ]
        }
      ],
      "source": [
        "print(df.columns.to_list())"
      ],
      "metadata": {
        "ExecuteTime": {
          "end_time": "2024-03-14T13:21:00.034987Z",
          "start_time": "2024-03-14T13:21:00.024389Z"
        },
        "colab": {
          "base_uri": "https://localhost:8080/"
        },
        "id": "b19277d4408a683e",
        "outputId": "0e29cb7c-0afe-41d7-d291-d1b47cbcaca5"
      },
      "id": "b19277d4408a683e",
      "execution_count": 124
    },
    {
      "cell_type": "code",
      "outputs": [],
      "source": [
        "\n",
        "\n",
        "columns_to_norm = ['MX_PEOI', 'MX_CEOI', 'Nifty_Close', 'Nifty_V', 'CEIV', 'PEIV', 'PCR_OI', 'PCR_WT', 'ActivePEOI', 'ActiveCEOI', 'Long_Sum', 'Short_Sum', 'LongLiq_Sum',\n",
        "                   'ShortCover_Sum', 'CE_Unwind_Sum', 'PE_Unwind_Sum', 'MaxPain', 'ActivePE', 'ActiveCE', 'MX_PE', 'MX_CE', 'peIvRank', 'ceIvRank', 'MX_PEOI_mean',\n",
        "                   'MX_CEOI_mean', 'Nifty_Close_mean', 'Nifty_V_mean', 'CEIV_mean', 'PEIV_mean', 'PCR_OI_mean', 'PCR_WT_mean', 'ActivePEOI_mean', 'ActiveCEOI_mean', 'Long_Sum_mean',\n",
        "                   'Short_Sum_mean', 'LongLiq_Sum_mean', 'ShortCover_Sum_mean', 'CE_Unwind_Sum_mean', 'PE_Unwind_Sum_mean', 'MaxPain_mean', 'ActivePE_mean', 'ActiveCE_mean', 'MX_PE_mean',\n",
        "                   'MX_CE_mean', 'peIvRank_mean', 'ceIvRank_mean']\n",
        "for col in columns_to_norm:\n",
        "    df[[col]] = scaler.fit_transform(df[[col]])\n"
      ],
      "metadata": {
        "ExecuteTime": {
          "end_time": "2024-03-14T13:21:06.360565Z",
          "start_time": "2024-03-14T13:21:06.249925Z"
        },
        "id": "665d6240d190c049"
      },
      "id": "665d6240d190c049",
      "execution_count": 125
    },
    {
      "cell_type": "markdown",
      "source": [
        "# check what dataframe looks like because we are going to normalize the remaining data later\n",
        "# Most of the values have positive and negative numbers. So we will use minmax scaler range is equal to -1, 1"
      ],
      "metadata": {
        "collapsed": false,
        "id": "16e1266d11bf14ab"
      },
      "id": "16e1266d11bf14ab"
    },
    {
      "cell_type": "markdown",
      "source": [
        "# Create 5 day sma for target"
      ],
      "metadata": {
        "collapsed": false,
        "id": "5c438ec74cbca7cc"
      },
      "id": "5c438ec74cbca7cc"
    },
    {
      "cell_type": "code",
      "outputs": [],
      "source": [
        "# df['5sma'] = df['Close'].shift(-5).rolling(5).mean()\n",
        "# # create binary target\n",
        "# df['target'] = (df['5sma'] > df['Close']).astype(int)\n",
        "# df = df.dropna()\n",
        "# df = df.drop(['Close','5sma'],axis=1)\n"
      ],
      "metadata": {
        "ExecuteTime": {
          "end_time": "2024-03-14T13:21:17.543407Z",
          "start_time": "2024-03-14T13:21:17.532406Z"
        },
        "id": "590213a661131013"
      },
      "id": "590213a661131013",
      "execution_count": 8
    },
    {
      "cell_type": "code",
      "source": [
        "df['5sma_lag'] = df['Close'].rolling(5).mean()\n",
        "# create binary target\n",
        "df['target'] = (df['Close'].shift(-1) > df['5sma_lag']).astype(int)\n",
        "df = df.dropna()\n",
        "print(df.head(10)[['Close','5sma_lag','target']])\n",
        "df = df.drop(['Close','5sma_lag'],axis=1)\n"
      ],
      "metadata": {
        "id": "mYvYtQuvK9Bv",
        "outputId": "917998ad-7378-4aff-c308-bf402ac196ae",
        "colab": {
          "base_uri": "https://localhost:8080/"
        }
      },
      "id": "mYvYtQuvK9Bv",
      "execution_count": 126,
      "outputs": [
        {
          "output_type": "stream",
          "name": "stdout",
          "text": [
            "             Close  5sma_lag  target\n",
            "TimeIndex                           \n",
            "20140516T  7244.40   7141.38       1\n",
            "20140519T  7279.90   7188.75       1\n",
            "20140520T  7300.60   7221.81       1\n",
            "20140521T  7280.00   7249.60       1\n",
            "20140522T  7293.70   7279.72       1\n",
            "20140523T  7382.10   7307.26       1\n",
            "20140526T  7361.80   7323.64       0\n",
            "20140527T  7320.10   7327.54       0\n",
            "20140529T  7265.70   7324.68       0\n",
            "20140530T  7233.65   7312.67       1\n"
          ]
        }
      ]
    },
    {
      "cell_type": "markdown",
      "source": [
        "# Create target and features"
      ],
      "metadata": {
        "collapsed": false,
        "id": "280dade0b5b2b1ca"
      },
      "id": "280dade0b5b2b1ca"
    },
    {
      "cell_type": "code",
      "outputs": [],
      "source": [
        "features = df.drop('target', axis=1).values\n",
        "target = df['target'].values"
      ],
      "metadata": {
        "ExecuteTime": {
          "end_time": "2024-03-14T13:21:20.974039Z",
          "start_time": "2024-03-14T13:21:20.962705Z"
        },
        "id": "cc520691a66eb24f"
      },
      "id": "cc520691a66eb24f",
      "execution_count": 127
    },
    {
      "cell_type": "code",
      "outputs": [],
      "source": [
        "def create_sequences(features, target, sequence_length):\n",
        "    X = []\n",
        "    y = []\n",
        "    for i in range(len(features) - sequence_length):\n",
        "        X.append(features[i:i+sequence_length])\n",
        "        y.append(target[i+(sequence_length-1)])\n",
        "    return np.array(X), np.array(y)\n",
        "\n",
        "sequence_length = 10\n",
        "X, y = create_sequences(features, target, sequence_length)"
      ],
      "metadata": {
        "ExecuteTime": {
          "end_time": "2024-03-14T13:21:22.924226Z",
          "start_time": "2024-03-14T13:21:22.904051Z"
        },
        "id": "c5d1e5bb0a0ce395"
      },
      "id": "c5d1e5bb0a0ce395",
      "execution_count": 128
    },
    {
      "cell_type": "code",
      "outputs": [
        {
          "output_type": "stream",
          "name": "stdout",
          "text": [
            "Training shape: (1311, 10, 46)\n",
            "Validation shape: (875, 10, 46)\n",
            "46\n"
          ]
        }
      ],
      "source": [
        "#prompt print first 10 values of X\n",
        "#print(X[:10])\n",
        "\n",
        "#prompt print first 10 values of y\n",
        "#print(y[:10])\n",
        "\n",
        "# split X and Y into training and validation sets\n",
        "from sklearn.model_selection import train_test_split\n",
        "X_train, X_val, y_train, y_val = train_test_split(X, y, test_size=0.4,shuffle=False)\n",
        "\n",
        "print(\"Training shape:\", X_train.shape)\n",
        "print(\"Validation shape:\", X_val.shape)\n",
        "num_features = X_train.shape[2]\n",
        "print(num_features)"
      ],
      "metadata": {
        "ExecuteTime": {
          "end_time": "2024-03-14T13:21:29.379987Z",
          "start_time": "2024-03-14T13:21:29.364405Z"
        },
        "id": "b70ac2070e6c5d88",
        "outputId": "8dcdfb4e-aed4-445a-f889-5d9066d08239",
        "colab": {
          "base_uri": "https://localhost:8080/"
        }
      },
      "id": "b70ac2070e6c5d88",
      "execution_count": 129
    },
    {
      "cell_type": "code",
      "outputs": [
        {
          "output_type": "stream",
          "name": "stderr",
          "text": [
            "WARNING:tensorflow:Layer lstm_65 will not use cuDNN kernels since it doesn't meet the criteria. It will use a generic GPU kernel as fallback when running on GPU.\n",
            "WARNING:tensorflow:Layer lstm_66 will not use cuDNN kernels since it doesn't meet the criteria. It will use a generic GPU kernel as fallback when running on GPU.\n",
            "WARNING:tensorflow:Layer lstm_67 will not use cuDNN kernels since it doesn't meet the criteria. It will use a generic GPU kernel as fallback when running on GPU.\n",
            "WARNING:tensorflow:Layer lstm_68 will not use cuDNN kernels since it doesn't meet the criteria. It will use a generic GPU kernel as fallback when running on GPU.\n"
          ]
        }
      ],
      "source": [
        "from keras.optimizers import Adam\n",
        "from keras.regularizers import l1_l2,l1,l2\n",
        "from keras.layers import LeakyReLU\n",
        "# inputs = Input(shape=(sequence_length, X_train.sha))  # Replace with appropriate values\n",
        "\n",
        "\n",
        "# Build the LSTM model\n",
        "model = Sequential()\n",
        "#model.add(LSTM(152, return_sequences=True, input_shape=(sequence_length, num_features), activation='relu', kernel_regularizer=l1_l2(l1=0.01, l2=0.01)))\n",
        "#model.add(LSTM(64, return_sequences=True, input_shape=(sequence_length, num_features), activation='relu', kernel_regularizer=l1(0.001)))\n",
        "model.add(LSTM(52, return_sequences=True, input_shape=(sequence_length, num_features), activation='relu'))\n",
        "#model.add(BatchNormalization())\n",
        "# model.add(Dropout(0.2))\n",
        "#model.add(LSTM(52, return_sequences=True, activation='relu'))  # Add an extra LSTM layer\n",
        "#model.add(BatchNormalization())\n",
        "# #model.add(Dropout(0.5))\n",
        "model.add(LSTM(32, return_sequences=True, activation='relu'))  # Add an extra LSTM layer\n",
        "#model.add(BatchNormalization())\n",
        "# model.add(Dropout(0.2))\n",
        "model.add(LSTM(32,return_sequences=True, activation='relu'))  # Add an extra LSTM layer\n",
        "# #model.add(BatchNormalization())\n",
        "# model.add(Dropout(0.2))\n",
        "#model.add(LSTM(32, return_sequences=True, activation='relu'))  # Add an extra LSTM layer\n",
        "#model.add(BatchNormalization())\n",
        "# model.add(Dropout(0.4))\n",
        "model.add(LSTM(16, return_sequences=True, activation='relu'))  # Add an extra LSTM layer\n",
        "#model.add(BatchNormalization())\n",
        "#model.add(Dropout(0.4))\n",
        "model.add(LSTM(8))  # Add an extra LSTM layer\n",
        "# model.add(Dense(1, activation='sigmoid',  kernel_regularizer=l1_l2(l1=0.01, l2=0.01)))\n",
        "model.add(Dense(1, activation='sigmoid'))\n",
        "optimizer = Adam(learning_rate=0.001) # default is 0.001\n",
        "model.compile(optimizer=optimizer, loss='binary_crossentropy', metrics=['accuracy'])"
      ],
      "metadata": {
        "ExecuteTime": {
          "end_time": "2024-03-14T13:39:32.508185Z",
          "start_time": "2024-03-14T13:39:32.353624Z"
        },
        "colab": {
          "base_uri": "https://localhost:8080/"
        },
        "id": "2cbb792350d1bb7d",
        "outputId": "391cba47-5241-4c47-9b03-3c15773af706"
      },
      "id": "2cbb792350d1bb7d",
      "execution_count": 138
    },
    {
      "cell_type": "code",
      "outputs": [],
      "source": [
        "early_stopping = EarlyStopping(monitor='val_loss',    # Monitor the val loss\n",
        "                               patience = 250,           # Num epochs; if no improvement training will be stopped\n",
        "                               verbose=1,\n",
        "                               mode='min',            # The training will stop when the quantity monitored has stopped decreasing\n",
        "                               restore_best_weights=True) # Restores model weights from the epoch with the best value of the monitored quantity.\n",
        "\n",
        "# Model checkpoint callback\n",
        "model_checkpoint = ModelCheckpoint('/content/best_model.keras',   # Path where to save the model\n",
        "                                   monitor='val_loss',   # Monitor the validation loss\n",
        "                                   save_best_only=True,  # The latest best model according to the quantity monitored will not be overwritten\n",
        "                                   mode='min',           # The training will save the model when the quantity monitored has decreased\n",
        "                                   verbose=1)\n"
      ],
      "metadata": {
        "ExecuteTime": {
          "end_time": "2024-03-14T13:39:35.496875Z",
          "start_time": "2024-03-14T13:39:35.478095Z"
        },
        "id": "66861e4281e8b142"
      },
      "id": "66861e4281e8b142",
      "execution_count": 139
    },
    {
      "cell_type": "code",
      "outputs": [],
      "source": [
        "!pip install livelossplot"
      ],
      "metadata": {
        "ExecuteTime": {
          "end_time": "2024-03-14T13:31:07.650421Z",
          "start_time": "2024-03-14T13:31:03.799754Z"
        },
        "id": "1c17a3cc5cba8d06"
      },
      "id": "1c17a3cc5cba8d06",
      "execution_count": null
    },
    {
      "cell_type": "code",
      "outputs": [],
      "source": [
        "from livelossplot import PlotLossesKeras\n",
        "\n",
        "plot_losses = PlotLossesKeras()  # Create the live plot callback"
      ],
      "metadata": {
        "ExecuteTime": {
          "end_time": "2024-03-14T13:39:41.625514Z",
          "start_time": "2024-03-14T13:39:41.618850Z"
        },
        "id": "7873735035e2ac1"
      },
      "id": "7873735035e2ac1",
      "execution_count": 140
    },
    {
      "cell_type": "code",
      "outputs": [
        {
          "output_type": "display_data",
          "data": {
            "text/plain": [
              "<Figure size 1200x800 with 2 Axes>"
            ],
            "image/png": "[encoded data removed]"
          },
          "metadata": {}
        },
        {
          "output_type": "stream",
          "name": "stdout",
          "text": [
            "accuracy\n",
            "\ttraining         \t (min:    0.562, max:    0.619, cur:    0.619)\n",
            "\tvalidation       \t (min:    0.395, max:    0.607, cur:    0.405)\n",
            "Loss\n",
            "\ttraining         \t (min:    0.647, max:    0.688, cur:    0.647)\n",
            "\tvalidation       \t (min:    0.671, max:    1.062, cur:    1.062)\n"
          ]
        }
      ],
      "source": [
        "model.fit(X_train, y_train,\n",
        "                    epochs=1000,\n",
        "                    batch_size=32,\n",
        "                    validation_data=(X_val, y_val),\n",
        "                    callbacks=[early_stopping, model_checkpoint, plot_losses],\n",
        "                    verbose=False)\n",
        "\n"
      ],
      "metadata": {
        "colab": {
          "base_uri": "https://localhost:8080/",
          "height": 911
        },
        "id": "e98dfc99b826ca1e",
        "outputId": "79d5dd74-7d46-4939-ecf2-4d468de3d420"
      },
      "id": "e98dfc99b826ca1e",
      "execution_count": null
    },
    {
      "cell_type": "markdown",
      "source": [
        "# plot val and train accuracy"
      ],
      "metadata": {
        "collapsed": false,
        "id": "e54834962e8a7b39"
      },
      "id": "e54834962e8a7b39"
    },
    {
      "cell_type": "code",
      "outputs": [],
      "source": [
        "# plt.plot(history.history['accuracy'], label='Training Accuracy')\n",
        "# plt.plot(history.history['val_accuracy'], label='Validation Accuracy')\n",
        "# plt.xlabel('Epochs')\n",
        "# plt.ylabel('Accuracy')\n",
        "# plt.title('Training and Validation Accuracy')\n",
        "# plt.legend()\n",
        "# plt.show()\n"
      ],
      "metadata": {
        "ExecuteTime": {
          "end_time": "2024-03-14T13:26:14.188142Z",
          "start_time": "2024-03-14T13:26:13.998002Z"
        },
        "id": "61feb195ea067404"
      },
      "id": "61feb195ea067404",
      "execution_count": null
    },
    {
      "cell_type": "markdown",
      "source": [
        "#plot model architecture"
      ],
      "metadata": {
        "collapsed": false,
        "id": "8fc8550975af0302"
      },
      "id": "8fc8550975af0302"
    },
    {
      "cell_type": "code",
      "outputs": [],
      "source": [
        "# plot_model(model, to_file='lstm_model.png', show_shapes=True, show_layer_names=True)\n",
        "\n"
      ],
      "metadata": {
        "ExecuteTime": {
          "end_time": "2024-03-13T15:26:29.428095Z",
          "start_time": "2024-03-13T15:26:29.193013Z"
        },
        "id": "d8b65a9608b0f851"
      },
      "id": "d8b65a9608b0f851",
      "execution_count": null
    },
    {
      "cell_type": "code",
      "outputs": [],
      "source": [
        "# print(model.summary())"
      ],
      "metadata": {
        "ExecuteTime": {
          "end_time": "2024-03-13T15:30:14.728733Z",
          "start_time": "2024-03-13T15:30:14.706529Z"
        },
        "id": "9975027641af22ac"
      },
      "id": "9975027641af22ac",
      "execution_count": null
    }
  ],
  "metadata": {
    "kernelspec": {
      "display_name": "Python 3",
      "name": "python3"
    },
    "language_info": {
      "codemirror_mode": {
        "name": "ipython",
        "version": 2
      },
      "file_extension": ".py",
      "mimetype": "text/x-python",
      "name": "python",
      "nbconvert_exporter": "python",
      "pygments_lexer": "ipython2",
      "version": "2.7.6"
    },
    "colab": {
      "provenance": [],
      "gpuType": "T4",
      "include_colab_link": true
    },
    "accelerator": "GPU"
  },
  "nbformat": 4,
  "nbformat_minor": 5
}