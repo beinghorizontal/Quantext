{
  "cells": [
    {
      "cell_type": "markdown",
      "metadata": {
        "id": "view-in-github",
        "colab_type": "text"
      },
      "source": [
        "<a href=\"https://colab.research.google.com/github/beinghorizontal/Quantext/blob/main/lstm_ohlc_denoised2.ipynb\" target=\"_parent\"><img src=\"https://colab.research.google.com/assets/colab-badge.svg\" alt=\"Open In Colab\"/></a>"
      ]
    },
    {
      "cell_type": "code",
      "execution_count": null,
      "id": "initial_id",
      "metadata": {
        "collapsed": true,
        "id": "initial_id"
      },
      "outputs": [],
      "source": []
    },
    {
      "cell_type": "code",
      "execution_count": 1,
      "outputs": [
        {
          "output_type": "stream",
          "name": "stdout",
          "text": [
            "Requirement already satisfied: yfinance in /usr/local/lib/python3.10/dist-packages (0.2.37)\n",
            "Requirement already satisfied: pandas>=1.3.0 in /usr/local/lib/python3.10/dist-packages (from yfinance) (1.5.3)\n",
            "Requirement already satisfied: numpy>=1.16.5 in /usr/local/lib/python3.10/dist-packages (from yfinance) (1.25.2)\n",
            "Requirement already satisfied: requests>=2.31 in /usr/local/lib/python3.10/dist-packages (from yfinance) (2.31.0)\n",
            "Requirement already satisfied: multitasking>=0.0.7 in /usr/local/lib/python3.10/dist-packages (from yfinance) (0.0.11)\n",
            "Requirement already satisfied: lxml>=4.9.1 in /usr/local/lib/python3.10/dist-packages (from yfinance) (4.9.4)\n",
            "Requirement already satisfied: appdirs>=1.4.4 in /usr/local/lib/python3.10/dist-packages (from yfinance) (1.4.4)\n",
            "Requirement already satisfied: pytz>=2022.5 in /usr/local/lib/python3.10/dist-packages (from yfinance) (2023.4)\n",
            "Requirement already satisfied: frozendict>=2.3.4 in /usr/local/lib/python3.10/dist-packages (from yfinance) (2.4.0)\n",
            "Requirement already satisfied: peewee>=3.16.2 in /usr/local/lib/python3.10/dist-packages (from yfinance) (3.17.1)\n",
            "Requirement already satisfied: beautifulsoup4>=4.11.1 in /usr/local/lib/python3.10/dist-packages (from yfinance) (4.12.3)\n",
            "Requirement already satisfied: html5lib>=1.1 in /usr/local/lib/python3.10/dist-packages (from yfinance) (1.1)\n",
            "Requirement already satisfied: soupsieve>1.2 in /usr/local/lib/python3.10/dist-packages (from beautifulsoup4>=4.11.1->yfinance) (2.5)\n",
            "Requirement already satisfied: six>=1.9 in /usr/local/lib/python3.10/dist-packages (from html5lib>=1.1->yfinance) (1.16.0)\n",
            "Requirement already satisfied: webencodings in /usr/local/lib/python3.10/dist-packages (from html5lib>=1.1->yfinance) (0.5.1)\n",
            "Requirement already satisfied: python-dateutil>=2.8.1 in /usr/local/lib/python3.10/dist-packages (from pandas>=1.3.0->yfinance) (2.8.2)\n",
            "Requirement already satisfied: charset-normalizer<4,>=2 in /usr/local/lib/python3.10/dist-packages (from requests>=2.31->yfinance) (3.3.2)\n",
            "Requirement already satisfied: idna<4,>=2.5 in /usr/local/lib/python3.10/dist-packages (from requests>=2.31->yfinance) (3.6)\n",
            "Requirement already satisfied: urllib3<3,>=1.21.1 in /usr/local/lib/python3.10/dist-packages (from requests>=2.31->yfinance) (2.0.7)\n",
            "Requirement already satisfied: certifi>=2017.4.17 in /usr/local/lib/python3.10/dist-packages (from requests>=2.31->yfinance) (2024.2.2)\n"
          ]
        }
      ],
      "source": [
        "!pip install yfinance"
      ],
      "metadata": {
        "colab": {
          "base_uri": "https://localhost:8080/"
        },
        "id": "9dc217f781c7c0ba",
        "outputId": "19a5d141-a2b1-4975-ae0d-4858560aa3a0"
      },
      "id": "9dc217f781c7c0ba"
    },
    {
      "cell_type": "markdown",
      "source": [
        "# Import essential libraries"
      ],
      "metadata": {
        "collapsed": false,
        "id": "d23ec81ad7522a42"
      },
      "id": "d23ec81ad7522a42"
    },
    {
      "cell_type": "code",
      "execution_count": 4,
      "outputs": [],
      "source": [
        "import yfinance as yf\n",
        "import datetime"
      ],
      "metadata": {
        "ExecuteTime": {
          "end_time": "2024-03-08T08:55:53.441015Z",
          "start_time": "2024-03-08T08:55:52.501832Z"
        },
        "id": "df7283778863139d"
      },
      "id": "df7283778863139d"
    },
    {
      "cell_type": "markdown",
      "source": [
        "# Download the historical data from Yahoo finance for 15 years data, replace  'days=15' to change the years accordingly"
      ],
      "metadata": {
        "collapsed": false,
        "id": "d88345d162a0dc09"
      },
      "id": "d88345d162a0dc09"
    },
    {
      "cell_type": "code",
      "execution_count": 9,
      "outputs": [
        {
          "output_type": "stream",
          "name": "stdout",
          "text": [
            "2009-03-12 10:50:23.164085 \n",
            " 2024-03-08 10:50:32.122308\n"
          ]
        }
      ],
      "source": [
        "ticker_symbol = \"RELIANCE.NS\"\n",
        "start_date = datetime.datetime.now() - datetime.timedelta(days=15 * 365)\n",
        "end_date = datetime.datetime.now()\n",
        "print(start_date,'\\n',end_date)"
      ],
      "metadata": {
        "ExecuteTime": {
          "end_time": "2024-03-08T08:55:57.228321Z",
          "start_time": "2024-03-08T08:55:57.208284Z"
        },
        "colab": {
          "base_uri": "https://localhost:8080/"
        },
        "id": "41c61a5c9d638a5b",
        "outputId": "0cfce6f1-6d0d-46f2-aca5-f6484c331e3b"
      },
      "id": "41c61a5c9d638a5b"
    },
    {
      "cell_type": "code",
      "execution_count": 10,
      "outputs": [
        {
          "output_type": "stream",
          "name": "stderr",
          "text": [
            "\r[*********************100%%**********************]  1 of 1 completed\n"
          ]
        }
      ],
      "source": [
        "df1 = yf.download(ticker_symbol, start=start_date, end=end_date)"
      ],
      "metadata": {
        "ExecuteTime": {
          "end_time": "2024-03-08T08:56:04.291635Z",
          "start_time": "2024-03-08T08:56:02.654355Z"
        },
        "colab": {
          "base_uri": "https://localhost:8080/"
        },
        "id": "f7d7ca20a88f90a3",
        "outputId": "06d2b422-64c2-4810-8199-bfa740f9e702"
      },
      "id": "f7d7ca20a88f90a3"
    },
    {
      "cell_type": "code",
      "execution_count": 54,
      "outputs": [],
      "source": [
        "df = df1.copy()"
      ],
      "metadata": {
        "ExecuteTime": {
          "end_time": "2024-03-08T10:10:06.489505Z",
          "start_time": "2024-03-08T10:10:06.471506Z"
        },
        "id": "5b7b896fa2a38699"
      },
      "id": "5b7b896fa2a38699"
    },
    {
      "cell_type": "code",
      "execution_count": 12,
      "outputs": [],
      "source": [
        "import keras\n",
        "import numpy as np\n",
        "import matplotlib.pyplot as plt\n",
        "from pandas_datareader import data\n",
        "from datetime import datetime\n",
        "from sklearn.preprocessing import MinMaxScaler\n",
        "from keras.models import Sequential\n",
        "import torch\n",
        "from keras.layers import LSTM, Dense, Dropout\n",
        "from keras.callbacks import EarlyStopping, ModelCheckpoint\n",
        "from keras.utils import plot_model\n",
        "from keras.layers import Input  # Replace with your backend's import syntax\n"
      ],
      "metadata": {
        "ExecuteTime": {
          "end_time": "2024-03-08T08:56:18.927296Z",
          "start_time": "2024-03-08T08:56:15.412520Z"
        },
        "id": "5a3cef738c7f0d65"
      },
      "id": "5a3cef738c7f0d65"
    },
    {
      "cell_type": "code",
      "execution_count": 13,
      "outputs": [
        {
          "output_type": "stream",
          "name": "stdout",
          "text": [
            "Using device: cuda\n"
          ]
        }
      ],
      "source": [
        "\n",
        "device = torch.device(\"cuda\" if torch.cuda.is_available() else \"cpu\")\n",
        "print(f\"Using device: {device}\")"
      ],
      "metadata": {
        "ExecuteTime": {
          "end_time": "2024-03-08T08:56:29.851331Z",
          "start_time": "2024-03-08T08:56:29.844812Z"
        },
        "colab": {
          "base_uri": "https://localhost:8080/"
        },
        "id": "ef77e5b373b7217f",
        "outputId": "32734561-9435-48c3-c2ec-66b0943f7697"
      },
      "id": "ef77e5b373b7217f"
    },
    {
      "cell_type": "markdown",
      "source": [
        "# Alternate method to download historical data You need Alpha Vantage free API key. Store that key in the text folder and replace the path. For this script I have Used  the Yahoo finance data the only difference will be the column name which will be capitalized Or in small letters"
      ],
      "metadata": {
        "collapsed": false,
        "id": "f06eee203466f08"
      },
      "id": "f06eee203466f08"
    },
    {
      "cell_type": "code",
      "execution_count": null,
      "outputs": [],
      "source": [
        "#!pip install pandas-dataloader\n",
        "#from pandas_datareader import data\n",
        "# Download stock market data (e.g., Apple Inc.)\n",
        "# with open('G:/anaconda/Scripts/data/alpha_vantage/key.txt', 'r') as f:\n",
        "#     key = f.read()\n",
        "# symbol = 'AAPL'  # Ticker symbol for Apple Inc.\n",
        "# df = data.DataReader(symbol, \"av-daily\", start=datetime(2017, 2, 9),\n",
        "#                     end=datetime(2024, 2, 26),\n",
        "#                     api_key=key)"
      ],
      "metadata": {
        "id": "ac3091694c200fab"
      },
      "id": "ac3091694c200fab"
    },
    {
      "cell_type": "markdown",
      "source": [
        "# We will try to normalize the values without calculating the returns. It just for the demonstration to see how it will be difficult for the LSTM model to learn effectively"
      ],
      "metadata": {
        "collapsed": false,
        "id": "4c894feaee84b881"
      },
      "id": "4c894feaee84b881"
    },
    {
      "cell_type": "markdown",
      "source": [
        "# Let's plot unscaled  data 1st"
      ],
      "metadata": {
        "collapsed": false,
        "id": "37e1c4d83951501c"
      },
      "id": "37e1c4d83951501c"
    },
    {
      "cell_type": "code",
      "execution_count": null,
      "outputs": [],
      "source": [
        "# df['Close'].plot()\n",
        "# plt.show()"
      ],
      "metadata": {
        "id": "8fc02961dc36558"
      },
      "id": "8fc02961dc36558"
    },
    {
      "cell_type": "markdown",
      "source": [
        "# Now we will normalize it without calculating the returns and plot the normalized closed value.This is the most frequent error I have seen traders do as you can see even after transforming the data only the scale will be different but you are not essentially removing any underlying trend.Model is still highly sensitive to the price itself so imagine if the price 0.2 in the skilled format has never come what is the point of the model to train on that kind of data"
      ],
      "metadata": {
        "collapsed": false,
        "id": "3cddb5cdea98ee7a"
      },
      "id": "3cddb5cdea98ee7a"
    },
    {
      "cell_type": "code",
      "execution_count": null,
      "outputs": [],
      "source": [
        "# scaler = MinMaxScaler(feature_range=(-1, 1))\n",
        "# df_test = df.copy()\n",
        "# scaled_data = scaler.fit_transform(df_test[['Open', 'High', 'Low', 'Close','Volume']])\n",
        "# plt.plot(scaled_data[:, 3])"
      ],
      "metadata": {
        "ExecuteTime": {
          "end_time": "2024-03-08T07:38:51.863191700Z",
          "start_time": "2024-03-08T07:38:51.833851200Z"
        },
        "id": "666e0abae777abdf"
      },
      "id": "666e0abae777abdf"
    },
    {
      "cell_type": "markdown",
      "source": [
        "# Add candlestick patterns using pandas-ta and ta-lib"
      ],
      "metadata": {
        "collapsed": false,
        "id": "bfe7f52ae541e0ec"
      },
      "id": "bfe7f52ae541e0ec"
    },
    {
      "cell_type": "markdown",
      "source": [
        "# This is for colab notebook only or Linux , for Windows use <conda install -c conda-forge ta-lib>\n"
      ],
      "metadata": {
        "id": "1wJm2gPhtSZv"
      },
      "id": "1wJm2gPhtSZv"
    },
    {
      "cell_type": "code",
      "source": [
        "!wget http://prdownloads.sourceforge.net/ta-lib/ta-lib-0.4.0-src.tar.gz\n",
        "!tar -xzvf ta-lib-0.4.0-src.tar.gz\n",
        "%cd ta-lib\n",
        "!./configure --prefix=/usr\n",
        "!make\n",
        "!make install\n",
        "!pip install Ta-Lib\n",
        "#import talib"
      ],
      "metadata": {
        "id": "UMCLJf49s66a"
      },
      "id": "UMCLJf49s66a",
      "execution_count": null,
      "outputs": []
    },
    {
      "cell_type": "code",
      "execution_count": 19,
      "outputs": [
        {
          "output_type": "stream",
          "name": "stdout",
          "text": [
            "Requirement already satisfied: pandas_ta in /usr/local/lib/python3.10/dist-packages (0.3.14b0)\n",
            "Requirement already satisfied: pandas in /usr/local/lib/python3.10/dist-packages (from pandas_ta) (1.5.3)\n",
            "Requirement already satisfied: python-dateutil>=2.8.1 in /usr/local/lib/python3.10/dist-packages (from pandas->pandas_ta) (2.8.2)\n",
            "Requirement already satisfied: pytz>=2020.1 in /usr/local/lib/python3.10/dist-packages (from pandas->pandas_ta) (2023.4)\n",
            "Requirement already satisfied: numpy>=1.21.0 in /usr/local/lib/python3.10/dist-packages (from pandas->pandas_ta) (1.25.2)\n",
            "Requirement already satisfied: six>=1.5 in /usr/local/lib/python3.10/dist-packages (from python-dateutil>=2.8.1->pandas->pandas_ta) (1.16.0)\n"
          ]
        }
      ],
      "source": [
        "!pip install pandas_ta"
      ],
      "metadata": {
        "colab": {
          "base_uri": "https://localhost:8080/"
        },
        "id": "7b41933480b28ce5",
        "outputId": "b856932a-3337-4823-f13c-735c5b5dffd8"
      },
      "id": "7b41933480b28ce5"
    },
    {
      "cell_type": "code",
      "execution_count": null,
      "outputs": [],
      "source": [
        "import pandas_ta as ta\n",
        "import pandas as pd\n",
        "#df_patterns = df.ta.cdl_pattern(name=\"all\")\n",
        "#single_column_df = pd.DataFrame(df_patterns.sum(axis=1), columns=[\"All_Candle_Patterns\"])\n",
        "#df = pd.concat([df,single_column_df],axis=1)"
      ],
      "metadata": {
        "ExecuteTime": {
          "end_time": "2024-03-08T10:10:13.971779Z",
          "start_time": "2024-03-08T10:10:13.940765Z"
        },
        "id": "c8e4fa1f83cae23d"
      },
      "id": "c8e4fa1f83cae23d"
    },
    {
      "cell_type": "markdown",
      "source": [
        "# Create Various columns with indicators based on pandas_ta  library, binary output methodThat is less noise but less opportunities to learn the pattern due to loss of information"
      ],
      "metadata": {
        "collapsed": false,
        "id": "d17ce6d6fd0e52b0"
      },
      "id": "d17ce6d6fd0e52b0"
    },
    {
      "cell_type": "code",
      "execution_count": null,
      "outputs": [],
      "source": [
        "# df['sma_small_delta'] = np.where(df.ta.sma(length=5) > df.ta.sma(length=10),1,0)\n",
        "# df['wma_small_delta'] = np.where(df.ta.wma(length=10) > df.ta.wma(length=20),1,0)\n",
        "# df['sma_long_delta'] = np.where(df.ta.sma(length=20) > df.ta.sma(length=50),1,0)\n",
        "# df['rsi_delta'] = np.where(df.ta.rsi(length=7) > df.ta.rsi(length=14),1,0)\n",
        "# df['vwma_small_delta'] = np.where(df.ta.vwma(length=5) > df.ta.vwma(length=10),1,0)\n",
        "# df['vwma_long_delta'] = np.where(df.ta.vwma(length=10) > df.ta.vwma(length=20),1,0)\n",
        "#df['percent_return_20'] = df.ta.percent_return(length=20)\n",
        "# df_vortex = df.ta.vortex(length=14)  # Vortex indicator has two oscillators positive and negative. We calculate the delta\n",
        "# df_vortex['plus_delta'] = np.where(df_vortex['VTXP_14'] > df_vortex['VTXM_14'],1,0)\n",
        "# df['vortex_plus_delta'] = df_vortex['plus_delta']\n"
      ],
      "metadata": {
        "ExecuteTime": {
          "end_time": "2024-03-08T09:01:49.835217Z",
          "start_time": "2024-03-08T09:01:49.810991Z"
        },
        "id": "36bf30c6c7035383"
      },
      "id": "36bf30c6c7035383"
    },
    {
      "cell_type": "markdown",
      "source": [
        "# Create columns best on pandas_ta library, non binary method that is more noise but more opportunities to learn the pattern"
      ],
      "metadata": {
        "collapsed": false,
        "id": "1ec33e3025847641"
      },
      "id": "1ec33e3025847641"
    },
    {
      "cell_type": "code",
      "outputs": [],
      "source": [
        "df['sma_small_delta'] = (df.ta.sma(length=5) - df.ta.sma(length=10))/df.ta.sma(length=10)\n",
        "df['wma_small_delta'] = (df.ta.wma(length=10) - df.ta.wma(length=20))/df.ta.wma(length=20)\n",
        "df['sma_long_delta'] = (df.ta.sma(length=20) - df.ta.sma(length=50))/df.ta.sma(length=50)\n",
        "df['rsi_delta'] = (df.ta.rsi(length=7) - df.ta.rsi(length=14)) / df.ta.rsi(length=14)\n",
        "df['vwma_small_delta'] = (df.ta.vwma(length=5) - df.ta.vwma(length=10))/df.ta.vwma(length=10) # Volume weighted moving average\n",
        "df['vwma_long_delta'] = (df.ta.vwma(length=10) - df.ta.vwma(length=20))/df.ta.vwma(length=20)\n",
        "df['percent_return_20'] = df.ta.percent_return(length=20)\n",
        "df['atr'] = df.ta.atr()/df['Close']\n",
        "df['roc5'] = df.ta.roc(length=5)\n",
        "df['roc'] = df.ta.roc()\n"
      ],
      "metadata": {
        "ExecuteTime": {
          "end_time": "2024-03-08T10:10:20.490842Z",
          "start_time": "2024-03-08T10:10:20.342241Z"
        },
        "id": "8f0231de7f836460"
      },
      "id": "8f0231de7f836460",
      "execution_count": 55
    },
    {
      "cell_type": "markdown",
      "source": [
        "# plot 1 by 1 to confirm stationary properties"
      ],
      "metadata": {
        "collapsed": false,
        "id": "f392100af22e15b8"
      },
      "id": "f392100af22e15b8"
    },
    {
      "cell_type": "code",
      "execution_count": null,
      "outputs": [],
      "source": [
        "#df[['sma_small_delta']].tail(200).plot() # Zoom in view to see if there is randomness or some cyclical pattern\n"
      ],
      "metadata": {
        "id": "30ff6d23611cf146"
      },
      "id": "30ff6d23611cf146"
    },
    {
      "cell_type": "code",
      "execution_count": null,
      "outputs": [],
      "source": [
        "#df.ta.percent_return(length=20)"
      ],
      "metadata": {
        "id": "59823321b443b3ac"
      },
      "id": "59823321b443b3ac"
    },
    {
      "cell_type": "code",
      "execution_count": null,
      "outputs": [],
      "source": [
        "#df.ta.indicators()"
      ],
      "metadata": {
        "id": "10faaa5702a76674"
      },
      "id": "10faaa5702a76674"
    },
    {
      "cell_type": "code",
      "execution_count": null,
      "outputs": [],
      "source": [
        "#help(ta.vwma)\n"
      ],
      "metadata": {
        "id": "52fbb2a9ad0712f"
      },
      "id": "52fbb2a9ad0712f"
    },
    {
      "cell_type": "code",
      "execution_count": 23,
      "outputs": [
        {
          "output_type": "execute_result",
          "data": {
            "text/plain": [
              "<Axes: xlabel='Date'>"
            ]
          },
          "metadata": {},
          "execution_count": 23
        },
        {
          "output_type": "display_data",
          "data": {
            "text/plain": [
              "<Figure size 640x480 with 1 Axes>"
            ],
            "image/png": "[encoded data removed]"
          },
          "metadata": {}
        }
      ],
      "source": [
        "df.ta.roc().tail(200).plot()\n",
        "#plt.show()"
      ],
      "metadata": {
        "ExecuteTime": {
          "end_time": "2024-03-08T09:01:58.320357Z",
          "start_time": "2024-03-08T09:01:58.033339Z"
        },
        "colab": {
          "base_uri": "https://localhost:8080/",
          "height": 451
        },
        "id": "b90f1b00b2445db7",
        "outputId": "266fc634-543a-4b87-d2c9-a1eb3e2cc8d2"
      },
      "id": "b90f1b00b2445db7"
    },
    {
      "cell_type": "code",
      "execution_count": 56,
      "outputs": [],
      "source": [
        "df = df.dropna()"
      ],
      "metadata": {
        "ExecuteTime": {
          "end_time": "2024-03-08T10:12:17.174827Z",
          "start_time": "2024-03-08T10:12:17.162257Z"
        },
        "id": "5ec35e89dac95f85"
      },
      "id": "5ec35e89dac95f85"
    },
    {
      "cell_type": "markdown",
      "source": [
        "# check what dataframe looks like because we are going to normalize the remaining data later\n",
        "# Most of the values have positive and negative numbers. So we will use minmax scaler range is equal to -1, 1"
      ],
      "metadata": {
        "collapsed": false,
        "id": "b2240803c95ce304"
      },
      "id": "b2240803c95ce304"
    },
    {
      "cell_type": "code",
      "execution_count": 57,
      "outputs": [],
      "source": [
        "scaler = MinMaxScaler(feature_range=(0, 1))"
      ],
      "metadata": {
        "ExecuteTime": {
          "end_time": "2024-03-08T10:12:42.083031Z",
          "start_time": "2024-03-08T10:12:42.069940Z"
        },
        "id": "64a8263100287c9f"
      },
      "id": "64a8263100287c9f"
    },
    {
      "cell_type": "code",
      "outputs": [
        {
          "output_type": "stream",
          "name": "stdout",
          "text": [
            "['Open', 'High', 'Low', 'Close', 'Adj Close', 'Volume', 'sma_small_delta', 'wma_small_delta', 'sma_long_delta', 'rsi_delta', 'vwma_small_delta', 'vwma_long_delta', 'percent_return_20', 'atr', 'roc5', 'roc']\n"
          ]
        }
      ],
      "source": [
        "print(df.columns.to_list())"
      ],
      "metadata": {
        "ExecuteTime": {
          "end_time": "2024-03-08T10:14:50.640232Z",
          "start_time": "2024-03-08T10:14:50.622127Z"
        },
        "colab": {
          "base_uri": "https://localhost:8080/"
        },
        "id": "2817bcddaf640bea",
        "outputId": "b921ee97-3a2c-4bbe-ae6a-e529b71e3b56"
      },
      "id": "2817bcddaf640bea",
      "execution_count": 58
    },
    {
      "cell_type": "code",
      "execution_count": 59,
      "outputs": [
        {
          "output_type": "stream",
          "name": "stderr",
          "text": [
            "<ipython-input-59-005119d364f6>:5: SettingWithCopyWarning: \n",
            "A value is trying to be set on a copy of a slice from a DataFrame.\n",
            "Try using .loc[row_indexer,col_indexer] = value instead\n",
            "\n",
            "See the caveats in the documentation: https://pandas.pydata.org/pandas-docs/stable/user_guide/indexing.html#returning-a-view-versus-a-copy\n",
            "  df[[col]] = scaler.fit_transform(df[[col]])\n",
            "<ipython-input-59-005119d364f6>:5: SettingWithCopyWarning: \n",
            "A value is trying to be set on a copy of a slice from a DataFrame.\n",
            "Try using .loc[row_indexer,col_indexer] = value instead\n",
            "\n",
            "See the caveats in the documentation: https://pandas.pydata.org/pandas-docs/stable/user_guide/indexing.html#returning-a-view-versus-a-copy\n",
            "  df[[col]] = scaler.fit_transform(df[[col]])\n",
            "<ipython-input-59-005119d364f6>:5: SettingWithCopyWarning: \n",
            "A value is trying to be set on a copy of a slice from a DataFrame.\n",
            "Try using .loc[row_indexer,col_indexer] = value instead\n",
            "\n",
            "See the caveats in the documentation: https://pandas.pydata.org/pandas-docs/stable/user_guide/indexing.html#returning-a-view-versus-a-copy\n",
            "  df[[col]] = scaler.fit_transform(df[[col]])\n",
            "<ipython-input-59-005119d364f6>:5: SettingWithCopyWarning: \n",
            "A value is trying to be set on a copy of a slice from a DataFrame.\n",
            "Try using .loc[row_indexer,col_indexer] = value instead\n",
            "\n",
            "See the caveats in the documentation: https://pandas.pydata.org/pandas-docs/stable/user_guide/indexing.html#returning-a-view-versus-a-copy\n",
            "  df[[col]] = scaler.fit_transform(df[[col]])\n",
            "<ipython-input-59-005119d364f6>:5: SettingWithCopyWarning: \n",
            "A value is trying to be set on a copy of a slice from a DataFrame.\n",
            "Try using .loc[row_indexer,col_indexer] = value instead\n",
            "\n",
            "See the caveats in the documentation: https://pandas.pydata.org/pandas-docs/stable/user_guide/indexing.html#returning-a-view-versus-a-copy\n",
            "  df[[col]] = scaler.fit_transform(df[[col]])\n",
            "<ipython-input-59-005119d364f6>:5: SettingWithCopyWarning: \n",
            "A value is trying to be set on a copy of a slice from a DataFrame.\n",
            "Try using .loc[row_indexer,col_indexer] = value instead\n",
            "\n",
            "See the caveats in the documentation: https://pandas.pydata.org/pandas-docs/stable/user_guide/indexing.html#returning-a-view-versus-a-copy\n",
            "  df[[col]] = scaler.fit_transform(df[[col]])\n",
            "<ipython-input-59-005119d364f6>:5: SettingWithCopyWarning: \n",
            "A value is trying to be set on a copy of a slice from a DataFrame.\n",
            "Try using .loc[row_indexer,col_indexer] = value instead\n",
            "\n",
            "See the caveats in the documentation: https://pandas.pydata.org/pandas-docs/stable/user_guide/indexing.html#returning-a-view-versus-a-copy\n",
            "  df[[col]] = scaler.fit_transform(df[[col]])\n",
            "<ipython-input-59-005119d364f6>:5: SettingWithCopyWarning: \n",
            "A value is trying to be set on a copy of a slice from a DataFrame.\n",
            "Try using .loc[row_indexer,col_indexer] = value instead\n",
            "\n",
            "See the caveats in the documentation: https://pandas.pydata.org/pandas-docs/stable/user_guide/indexing.html#returning-a-view-versus-a-copy\n",
            "  df[[col]] = scaler.fit_transform(df[[col]])\n",
            "<ipython-input-59-005119d364f6>:5: SettingWithCopyWarning: \n",
            "A value is trying to be set on a copy of a slice from a DataFrame.\n",
            "Try using .loc[row_indexer,col_indexer] = value instead\n",
            "\n",
            "See the caveats in the documentation: https://pandas.pydata.org/pandas-docs/stable/user_guide/indexing.html#returning-a-view-versus-a-copy\n",
            "  df[[col]] = scaler.fit_transform(df[[col]])\n",
            "<ipython-input-59-005119d364f6>:5: SettingWithCopyWarning: \n",
            "A value is trying to be set on a copy of a slice from a DataFrame.\n",
            "Try using .loc[row_indexer,col_indexer] = value instead\n",
            "\n",
            "See the caveats in the documentation: https://pandas.pydata.org/pandas-docs/stable/user_guide/indexing.html#returning-a-view-versus-a-copy\n",
            "  df[[col]] = scaler.fit_transform(df[[col]])\n"
          ]
        }
      ],
      "source": [
        "columns_to_norm = ['sma_small_delta', 'wma_small_delta', 'sma_long_delta', 'rsi_delta', 'vwma_small_delta', 'vwma_long_delta', 'percent_return_20', 'atr', 'roc5', 'roc']\n",
        "#columns_to_norm = ['All_Candle_Patterns']\n",
        "\n",
        "for col in columns_to_norm:\n",
        "    df[[col]] = scaler.fit_transform(df[[col]])\n"
      ],
      "metadata": {
        "ExecuteTime": {
          "end_time": "2024-03-08T10:15:38.494692Z",
          "start_time": "2024-03-08T10:15:38.453866Z"
        },
        "colab": {
          "base_uri": "https://localhost:8080/"
        },
        "id": "c18f3474b3023e8a",
        "outputId": "2c3b4e32-0c95-4d4c-bcef-45eaef093547"
      },
      "id": "c18f3474b3023e8a"
    },
    {
      "cell_type": "markdown",
      "source": [
        "# Create 5day sma for target"
      ],
      "metadata": {
        "collapsed": false,
        "id": "b10e0987a2fffa2f"
      },
      "id": "b10e0987a2fffa2f"
    },
    {
      "cell_type": "code",
      "execution_count": 60,
      "outputs": [
        {
          "output_type": "stream",
          "name": "stderr",
          "text": [
            "<ipython-input-60-17c4efc8a48e>:1: SettingWithCopyWarning: \n",
            "A value is trying to be set on a copy of a slice from a DataFrame.\n",
            "Try using .loc[row_indexer,col_indexer] = value instead\n",
            "\n",
            "See the caveats in the documentation: https://pandas.pydata.org/pandas-docs/stable/user_guide/indexing.html#returning-a-view-versus-a-copy\n",
            "  df['15sma'] = df['Close'].shift(-15).rolling(15).mean()\n"
          ]
        }
      ],
      "source": [
        "df['15sma'] = df['Close'].shift(-15).rolling(15).mean()"
      ],
      "metadata": {
        "ExecuteTime": {
          "end_time": "2024-03-08T10:17:35.140372Z",
          "start_time": "2024-03-08T10:17:35.131428Z"
        },
        "colab": {
          "base_uri": "https://localhost:8080/"
        },
        "id": "b33b790f9726f29b",
        "outputId": "3bdc05ef-b27c-4454-dd5a-d398de660d34"
      },
      "id": "b33b790f9726f29b"
    },
    {
      "cell_type": "markdown",
      "source": [
        "# create binary target"
      ],
      "metadata": {
        "collapsed": false,
        "id": "ac5f5ae8a3808d4d"
      },
      "id": "ac5f5ae8a3808d4d"
    },
    {
      "cell_type": "code",
      "execution_count": 61,
      "outputs": [
        {
          "output_type": "stream",
          "name": "stderr",
          "text": [
            "<ipython-input-61-ccec5cb6c056>:1: SettingWithCopyWarning: \n",
            "A value is trying to be set on a copy of a slice from a DataFrame.\n",
            "Try using .loc[row_indexer,col_indexer] = value instead\n",
            "\n",
            "See the caveats in the documentation: https://pandas.pydata.org/pandas-docs/stable/user_guide/indexing.html#returning-a-view-versus-a-copy\n",
            "  df['target'] = (df['15sma'] > df['Close']).astype(int)\n"
          ]
        }
      ],
      "source": [
        "df['target'] = (df['15sma'] > df['Close']).astype(int)"
      ],
      "metadata": {
        "ExecuteTime": {
          "end_time": "2024-03-08T10:17:42.091912Z",
          "start_time": "2024-03-08T10:17:42.086012Z"
        },
        "colab": {
          "base_uri": "https://localhost:8080/"
        },
        "id": "ff90722e61d7dd6c",
        "outputId": "ac95a2b5-ae41-4b46-df39-01561fd3d0e8"
      },
      "id": "ff90722e61d7dd6c"
    },
    {
      "cell_type": "code",
      "execution_count": 62,
      "outputs": [
        {
          "output_type": "stream",
          "name": "stdout",
          "text": [
            "                 15sma  target\n",
            "Date                          \n",
            "2009-06-16  457.656287       0\n",
            "2009-06-17  454.277826       0\n",
            "2009-06-18  451.662073       0\n",
            "2009-06-19  447.603198       0\n",
            "2009-06-22  444.531801       0\n",
            "2009-06-23  441.464978       0\n",
            "2009-06-24  439.544118       0\n",
            "2009-06-25  439.198195       0\n",
            "2009-06-26  437.793933       0\n",
            "2009-06-29  436.975604       0\n"
          ]
        }
      ],
      "source": [
        "df = df.dropna()\n",
        "print(df[['15sma','target']].head(10))"
      ],
      "metadata": {
        "ExecuteTime": {
          "end_time": "2024-03-08T10:17:54.609705Z",
          "start_time": "2024-03-08T10:17:54.601120Z"
        },
        "colab": {
          "base_uri": "https://localhost:8080/"
        },
        "id": "b27c0410305400ff",
        "outputId": "6d9c076d-69dc-4751-dc10-1d5f64ceac96"
      },
      "id": "b27c0410305400ff"
    },
    {
      "cell_type": "markdown",
      "source": [
        "# drop unwanted columns"
      ],
      "metadata": {
        "collapsed": false,
        "id": "d43b73565e06bd49"
      },
      "id": "d43b73565e06bd49"
    },
    {
      "cell_type": "code",
      "execution_count": 63,
      "outputs": [],
      "source": [
        "df = df.drop(['Open', 'High','Low', 'Close', 'Adj Close', 'Volume','15sma','atr','rsi_delta'],axis=1)"
      ],
      "metadata": {
        "ExecuteTime": {
          "end_time": "2024-03-08T10:21:53.843951Z",
          "start_time": "2024-03-08T10:21:53.824939Z"
        },
        "id": "c7cbe55f7a05f8ad"
      },
      "id": "c7cbe55f7a05f8ad"
    },
    {
      "cell_type": "code",
      "execution_count": 64,
      "outputs": [],
      "source": [
        "df = df.dropna()"
      ],
      "metadata": {
        "ExecuteTime": {
          "end_time": "2024-03-08T10:22:18.835669Z",
          "start_time": "2024-03-08T10:22:18.828815Z"
        },
        "id": "ad64184d035e6747"
      },
      "id": "ad64184d035e6747"
    },
    {
      "cell_type": "markdown",
      "source": [
        "# Create target and features"
      ],
      "metadata": {
        "collapsed": false,
        "id": "2eda59574e7365d9"
      },
      "id": "2eda59574e7365d9"
    },
    {
      "cell_type": "code",
      "execution_count": 65,
      "outputs": [],
      "source": [
        "features = df.drop('target', axis=1).values\n",
        "target = df['target'].values"
      ],
      "metadata": {
        "ExecuteTime": {
          "end_time": "2024-03-08T10:22:24.452669Z",
          "start_time": "2024-03-08T10:22:24.441833Z"
        },
        "id": "46a977f111f7d888"
      },
      "id": "46a977f111f7d888"
    },
    {
      "cell_type": "markdown",
      "source": [
        "# create sequences of a specific length for features and the corresponding target."
      ],
      "metadata": {
        "collapsed": false,
        "id": "2b722f02445cf4ce"
      },
      "id": "2b722f02445cf4ce"
    },
    {
      "cell_type": "code",
      "execution_count": 66,
      "outputs": [],
      "source": [
        "def create_sequences(features, target, sequence_length):\n",
        "    X = []\n",
        "    y = []\n",
        "    for i in range(len(features) - sequence_length):\n",
        "        X.append(features[i:i+sequence_length])\n",
        "        y.append(target[i+sequence_length])\n",
        "    return np.array(X), np.array(y)\n",
        "\n",
        "sequence_length = 15\n",
        "X, y = create_sequences(features, target, sequence_length)"
      ],
      "metadata": {
        "ExecuteTime": {
          "end_time": "2024-03-08T10:23:39.212716Z",
          "start_time": "2024-03-08T10:23:39.202717Z"
        },
        "id": "654eb5a943f22991"
      },
      "id": "654eb5a943f22991"
    },
    {
      "cell_type": "markdown",
      "source": [
        "# split X and Y into training and validation sets"
      ],
      "metadata": {
        "collapsed": false,
        "id": "d6dc44a26c1dc982"
      },
      "id": "d6dc44a26c1dc982"
    },
    {
      "cell_type": "code",
      "execution_count": 67,
      "outputs": [],
      "source": [
        "from sklearn.model_selection import train_test_split\n",
        "X_train, X_val, y_train, y_val = train_test_split(X, y, test_size=0.4,shuffle=False)\n"
      ],
      "metadata": {
        "ExecuteTime": {
          "end_time": "2024-03-08T10:23:56.657504Z",
          "start_time": "2024-03-08T10:23:56.640222Z"
        },
        "id": "e555a4a424d364f0"
      },
      "id": "e555a4a424d364f0"
    },
    {
      "cell_type": "code",
      "execution_count": 68,
      "outputs": [
        {
          "output_type": "stream",
          "name": "stdout",
          "text": [
            "Training shape: (2164, 15, 8)\n",
            "Validation shape: (1443, 15, 8)\n"
          ]
        }
      ],
      "source": [
        "print(\"Training shape:\", X_train.shape)\n",
        "print(\"Validation shape:\", X_val.shape)"
      ],
      "metadata": {
        "ExecuteTime": {
          "end_time": "2024-03-08T10:23:59.782650Z",
          "start_time": "2024-03-08T10:23:59.775650Z"
        },
        "colab": {
          "base_uri": "https://localhost:8080/"
        },
        "id": "8ca4c5fd359407e",
        "outputId": "e3aa443c-e2b4-4fc7-fe05-daafee439a1e"
      },
      "id": "8ca4c5fd359407e"
    },
    {
      "cell_type": "code",
      "execution_count": 69,
      "outputs": [
        {
          "output_type": "stream",
          "name": "stdout",
          "text": [
            "8\n"
          ]
        }
      ],
      "source": [
        "num_features = X_train.shape[2]\n",
        "print(num_features)"
      ],
      "metadata": {
        "ExecuteTime": {
          "end_time": "2024-03-08T10:24:02.213831Z",
          "start_time": "2024-03-08T10:24:02.202653Z"
        },
        "colab": {
          "base_uri": "https://localhost:8080/"
        },
        "id": "782d09d5d89c3fa1",
        "outputId": "118f3702-a715-41d3-cba5-c4bf3a4c81ee"
      },
      "id": "782d09d5d89c3fa1"
    },
    {
      "cell_type": "code",
      "source": [
        "print(features)"
      ],
      "metadata": {
        "colab": {
          "base_uri": "https://localhost:8080/"
        },
        "id": "jDB5DzRZvLtY",
        "outputId": "36dfd611-16f6-4eff-834f-b3a8f3aa63a5"
      },
      "id": "jDB5DzRZvLtY",
      "execution_count": 70,
      "outputs": [
        {
          "output_type": "stream",
          "name": "stdout",
          "text": [
            "[[0.58532283 0.62382787 0.86333379 ... 0.36294508 0.38185516 0.38491264]\n",
            " [0.49482834 0.57051281 0.84050139 ... 0.35528032 0.23103367 0.34418919]\n",
            " [0.40872254 0.51846815 0.82209399 ... 0.35948355 0.21851638 0.31701686]\n",
            " ...\n",
            " [0.59138932 0.70725512 0.69827439 ... 0.47019135 0.59287339 0.53628348]\n",
            " [0.60088597 0.70607256 0.69458252 ... 0.46397417 0.59561246 0.53258512]\n",
            " [0.59952646 0.6985444  0.69297978 ... 0.47115234 0.56228317 0.52117469]]\n"
          ]
        }
      ]
    },
    {
      "cell_type": "code",
      "execution_count": 71,
      "outputs": [
        {
          "output_type": "stream",
          "name": "stderr",
          "text": [
            "WARNING:tensorflow:Layer lstm_9 will not use cuDNN kernels since it doesn't meet the criteria. It will use a generic GPU kernel as fallback when running on GPU.\n",
            "WARNING:tensorflow:Layer lstm_10 will not use cuDNN kernels since it doesn't meet the criteria. It will use a generic GPU kernel as fallback when running on GPU.\n",
            "WARNING:tensorflow:Layer lstm_11 will not use cuDNN kernels since it doesn't meet the criteria. It will use a generic GPU kernel as fallback when running on GPU.\n",
            "WARNING:tensorflow:Layer lstm_12 will not use cuDNN kernels since it doesn't meet the criteria. It will use a generic GPU kernel as fallback when running on GPU.\n"
          ]
        }
      ],
      "source": [
        "from keras.optimizers import Adam\n",
        "from keras.regularizers import l1_l2,l1,l2\n",
        "from keras.layers import LeakyReLU\n",
        "# inputs = Input(shape=(sequence_length, X_train.sha))  # Replace with appropriate values\n",
        "\n",
        "\n",
        "# Build the LSTM model\n",
        "model = Sequential()\n",
        "# model.add(LSTM(64, return_sequences=True, input_shape=(sequence_length, num_features), activation='relu', kernel_regularizer=l1_l2(l1=0.01, l2=0.01)))\n",
        "# model.add(LSTM(64, return_sequences=True, input_shape=(sequence_length, num_features), activation='relu', kernel_regularizer=l1(0.001)))\n",
        "model.add(LSTM(152, return_sequences=True, activation='relu'))  # Add an extra LSTM layer\n",
        "#model.add(Dropout(0.5))\n",
        "model.add(LSTM(92, return_sequences=True, activation='relu'))  # Add an extra LSTM layer\n",
        "#model.add(Dropout(0.4))\n",
        "model.add(LSTM(52, return_sequences=True, activation='relu'))  # Add an extra LSTM layer\n",
        "# # model.add(Dropout(0.4))\n",
        "model.add(LSTM(32, return_sequences=True, activation='relu'))  # Add an extra LSTM layer\n",
        "# # model.add(Dropout(0.4))\n",
        "# model.add(LSTM(8, return_sequences=True, activation='tanh'))  # Add an extra LSTM layer\n",
        "# # # model.add(Dropout(0.4))\n",
        "model.add(LSTM(8))  # Add an extra LSTM layer\n",
        "# model.add(Dense(1, activation='sigmoid',  kernel_regularizer=l1_l2(l1=0.01, l2=0.01)))\n",
        "model.add(Dense(1, activation='sigmoid'))\n",
        "optimizer = Adam(learning_rate=0.001) # default is 0.001\n",
        "model.compile(optimizer=optimizer, loss='binary_crossentropy', metrics=['accuracy'])"
      ],
      "metadata": {
        "ExecuteTime": {
          "end_time": "2024-03-08T10:24:06.401708Z",
          "start_time": "2024-03-08T10:24:06.371111Z"
        },
        "colab": {
          "base_uri": "https://localhost:8080/"
        },
        "id": "3d8b1598cf5ade1f",
        "outputId": "1cbcdbd1-7607-4015-9558-f45e2e1ecd20"
      },
      "id": "3d8b1598cf5ade1f"
    },
    {
      "cell_type": "code",
      "execution_count": 72,
      "outputs": [],
      "source": [
        "early_stopping = EarlyStopping(monitor='val_loss',    # Monitor the val loss\n",
        "                               patience=150,           # Num epochs; if no improvement training will be stopped\n",
        "                               verbose=1,\n",
        "                               mode='min',            # The training will stop when the quantity monitored has stopped decreasing\n",
        "                               restore_best_weights=True) # Restores model weights from the epoch with the best value of the monitored quantity."
      ],
      "metadata": {
        "ExecuteTime": {
          "end_time": "2024-03-08T10:24:08.682347Z",
          "start_time": "2024-03-08T10:24:08.675348Z"
        },
        "id": "9aa67cde5d85bfc8"
      },
      "id": "9aa67cde5d85bfc8"
    },
    {
      "cell_type": "code",
      "execution_count": 73,
      "outputs": [],
      "source": [
        "\n",
        "# Model checkpoint callback\n",
        "model_checkpoint = ModelCheckpoint('/content/best_model.keras',   # Path where to save the model\n",
        "                                   monitor='val_loss',   # Monitor the validation loss\n",
        "                                   save_best_only=True,  # The latest best model according to the quantity monitored will not be overwritten\n",
        "                                   mode='min',           # The training will save the model when the quantity monitored has decreased\n",
        "                                   verbose=1)\n"
      ],
      "metadata": {
        "ExecuteTime": {
          "end_time": "2024-03-08T10:24:09.488786Z",
          "start_time": "2024-03-08T10:24:09.481787Z"
        },
        "id": "1536e75f7b9f13c5"
      },
      "id": "1536e75f7b9f13c5"
    },
    {
      "cell_type": "code",
      "execution_count": null,
      "outputs": [
        {
          "output_type": "stream",
          "name": "stdout",
          "text": [
            "Epoch 1/1000\n",
            "136/136 [==============================] - ETA: 0s - loss: 0.6922 - accuracy: 0.5240\n",
            "Epoch 1: val_loss improved from inf to 0.68581, saving model to /content/best_model.keras\n",
            "136/136 [==============================] - 21s 108ms/step - loss: 0.6922 - accuracy: 0.5240 - val_loss: 0.6858 - val_accuracy: 0.5731\n",
            "Epoch 2/1000\n",
            "136/136 [==============================] - ETA: 0s - loss: 0.6916 - accuracy: 0.5305\n",
            "Epoch 2: val_loss improved from 0.68581 to 0.68496, saving model to /content/best_model.keras\n",
            "136/136 [==============================] - 14s 102ms/step - loss: 0.6916 - accuracy: 0.5305 - val_loss: 0.6850 - val_accuracy: 0.5731\n",
            "Epoch 3/1000\n",
            "136/136 [==============================] - ETA: 0s - loss: 0.6919 - accuracy: 0.5305\n",
            "Epoch 3: val_loss improved from 0.68496 to 0.68435, saving model to /content/best_model.keras\n",
            "136/136 [==============================] - 13s 96ms/step - loss: 0.6919 - accuracy: 0.5305 - val_loss: 0.6844 - val_accuracy: 0.5731\n",
            "Epoch 4/1000\n",
            "136/136 [==============================] - ETA: 0s - loss: 0.6912 - accuracy: 0.5291\n",
            "Epoch 4: val_loss did not improve from 0.68435\n",
            "136/136 [==============================] - 13s 98ms/step - loss: 0.6912 - accuracy: 0.5291 - val_loss: 0.6859 - val_accuracy: 0.5731\n",
            "Epoch 5/1000\n",
            "136/136 [==============================] - ETA: 0s - loss: 0.6914 - accuracy: 0.5273\n",
            "Epoch 5: val_loss did not improve from 0.68435\n",
            "136/136 [==============================] - 13s 96ms/step - loss: 0.6914 - accuracy: 0.5273 - val_loss: 0.6866 - val_accuracy: 0.5731\n",
            "Epoch 6/1000\n",
            "136/136 [==============================] - ETA: 0s - loss: 0.6907 - accuracy: 0.5245\n",
            "Epoch 6: val_loss did not improve from 0.68435\n",
            "136/136 [==============================] - 13s 96ms/step - loss: 0.6907 - accuracy: 0.5245 - val_loss: 0.6920 - val_accuracy: 0.5218\n",
            "Epoch 7/1000\n",
            "136/136 [==============================] - ETA: 0s - loss: 0.6902 - accuracy: 0.5245\n",
            "Epoch 7: val_loss did not improve from 0.68435\n",
            "136/136 [==============================] - 13s 97ms/step - loss: 0.6902 - accuracy: 0.5245 - val_loss: 0.6879 - val_accuracy: 0.5343\n",
            "Epoch 8/1000\n",
            "136/136 [==============================] - ETA: 0s - loss: 0.6864 - accuracy: 0.5439\n",
            "Epoch 8: val_loss did not improve from 0.68435\n",
            "136/136 [==============================] - 13s 97ms/step - loss: 0.6864 - accuracy: 0.5439 - val_loss: 0.6857 - val_accuracy: 0.5398\n",
            "Epoch 9/1000\n",
            "136/136 [==============================] - ETA: 0s - loss: 0.6841 - accuracy: 0.5444\n",
            "Epoch 9: val_loss did not improve from 0.68435\n",
            "136/136 [==============================] - 13s 95ms/step - loss: 0.6841 - accuracy: 0.5444 - val_loss: 0.6908 - val_accuracy: 0.5031\n",
            "Epoch 10/1000\n",
            "136/136 [==============================] - ETA: 0s - loss: 0.6843 - accuracy: 0.5559\n",
            "Epoch 10: val_loss did not improve from 0.68435\n",
            "136/136 [==============================] - 13s 97ms/step - loss: 0.6843 - accuracy: 0.5559 - val_loss: 0.6868 - val_accuracy: 0.5419\n",
            "Epoch 11/1000\n",
            "136/136 [==============================] - ETA: 0s - loss: 0.6826 - accuracy: 0.5642\n",
            "Epoch 11: val_loss did not improve from 0.68435\n",
            "136/136 [==============================] - 13s 96ms/step - loss: 0.6826 - accuracy: 0.5642 - val_loss: 0.6911 - val_accuracy: 0.5135\n",
            "Epoch 12/1000\n",
            "136/136 [==============================] - ETA: 0s - loss: 0.6766 - accuracy: 0.5809\n",
            "Epoch 12: val_loss did not improve from 0.68435\n",
            "136/136 [==============================] - 14s 100ms/step - loss: 0.6766 - accuracy: 0.5809 - val_loss: 0.7074 - val_accuracy: 0.4699\n",
            "Epoch 13/1000\n",
            "136/136 [==============================] - ETA: 0s - loss: 0.6781 - accuracy: 0.5716\n",
            "Epoch 13: val_loss did not improve from 0.68435\n",
            "136/136 [==============================] - 13s 99ms/step - loss: 0.6781 - accuracy: 0.5716 - val_loss: 0.7032 - val_accuracy: 0.5135\n",
            "Epoch 14/1000\n",
            "136/136 [==============================] - ETA: 0s - loss: 0.6752 - accuracy: 0.5726\n",
            "Epoch 14: val_loss did not improve from 0.68435\n",
            "136/136 [==============================] - 13s 96ms/step - loss: 0.6752 - accuracy: 0.5726 - val_loss: 0.7002 - val_accuracy: 0.5121\n",
            "Epoch 15/1000\n",
            "136/136 [==============================] - ETA: 0s - loss: 0.6748 - accuracy: 0.5804\n",
            "Epoch 15: val_loss did not improve from 0.68435\n",
            "136/136 [==============================] - 13s 95ms/step - loss: 0.6748 - accuracy: 0.5804 - val_loss: 0.7207 - val_accuracy: 0.4733\n",
            "Epoch 16/1000\n",
            "136/136 [==============================] - ETA: 0s - loss: 0.6768 - accuracy: 0.5823\n",
            "Epoch 16: val_loss did not improve from 0.68435\n",
            "136/136 [==============================] - 14s 106ms/step - loss: 0.6768 - accuracy: 0.5823 - val_loss: 0.7098 - val_accuracy: 0.4865\n",
            "Epoch 17/1000\n",
            "136/136 [==============================] - ETA: 0s - loss: 0.6700 - accuracy: 0.5933\n",
            "Epoch 17: val_loss did not improve from 0.68435\n",
            "136/136 [==============================] - 13s 96ms/step - loss: 0.6700 - accuracy: 0.5933 - val_loss: 0.7050 - val_accuracy: 0.5100\n",
            "Epoch 18/1000\n",
            "136/136 [==============================] - ETA: 0s - loss: 0.6717 - accuracy: 0.5781\n",
            "Epoch 18: val_loss did not improve from 0.68435\n",
            "136/136 [==============================] - 13s 99ms/step - loss: 0.6717 - accuracy: 0.5781 - val_loss: 0.7000 - val_accuracy: 0.5218\n",
            "Epoch 19/1000\n",
            "136/136 [==============================] - ETA: 0s - loss: 0.6777 - accuracy: 0.5809\n",
            "Epoch 19: val_loss did not improve from 0.68435\n",
            "136/136 [==============================] - 13s 97ms/step - loss: 0.6777 - accuracy: 0.5809 - val_loss: 0.7106 - val_accuracy: 0.4865\n",
            "Epoch 20/1000\n",
            "136/136 [==============================] - ETA: 0s - loss: 0.6726 - accuracy: 0.5933\n",
            "Epoch 20: val_loss did not improve from 0.68435\n",
            "136/136 [==============================] - 13s 96ms/step - loss: 0.6726 - accuracy: 0.5933 - val_loss: 0.7025 - val_accuracy: 0.5121\n",
            "Epoch 21/1000\n",
            "136/136 [==============================] - ETA: 0s - loss: 0.6719 - accuracy: 0.5827\n",
            "Epoch 21: val_loss did not improve from 0.68435\n",
            "136/136 [==============================] - 13s 95ms/step - loss: 0.6719 - accuracy: 0.5827 - val_loss: 0.6994 - val_accuracy: 0.5135\n",
            "Epoch 22/1000\n",
            "136/136 [==============================] - ETA: 0s - loss: 0.6749 - accuracy: 0.5827\n",
            "Epoch 22: val_loss did not improve from 0.68435\n",
            "136/136 [==============================] - 13s 96ms/step - loss: 0.6749 - accuracy: 0.5827 - val_loss: 0.7000 - val_accuracy: 0.5184\n",
            "Epoch 23/1000\n",
            "136/136 [==============================] - ETA: 0s - loss: 0.6706 - accuracy: 0.5887\n",
            "Epoch 23: val_loss did not improve from 0.68435\n",
            "136/136 [==============================] - 14s 100ms/step - loss: 0.6706 - accuracy: 0.5887 - val_loss: 0.7044 - val_accuracy: 0.5128\n",
            "Epoch 24/1000\n",
            "136/136 [==============================] - ETA: 0s - loss: 0.6746 - accuracy: 0.5869\n",
            "Epoch 24: val_loss did not improve from 0.68435\n",
            "136/136 [==============================] - 14s 103ms/step - loss: 0.6746 - accuracy: 0.5869 - val_loss: 0.7001 - val_accuracy: 0.5156\n",
            "Epoch 25/1000\n",
            "136/136 [==============================] - ETA: 0s - loss: 0.6742 - accuracy: 0.5786\n",
            "Epoch 25: val_loss did not improve from 0.68435\n",
            "136/136 [==============================] - 14s 101ms/step - loss: 0.6742 - accuracy: 0.5786 - val_loss: 0.6993 - val_accuracy: 0.5156\n",
            "Epoch 26/1000\n",
            "136/136 [==============================] - ETA: 0s - loss: 0.6773 - accuracy: 0.5813\n",
            "Epoch 26: val_loss did not improve from 0.68435\n",
            "136/136 [==============================] - 14s 100ms/step - loss: 0.6773 - accuracy: 0.5813 - val_loss: 0.6983 - val_accuracy: 0.5204\n",
            "Epoch 27/1000\n",
            "136/136 [==============================] - ETA: 0s - loss: 0.6738 - accuracy: 0.5804\n",
            "Epoch 27: val_loss did not improve from 0.68435\n",
            "136/136 [==============================] - 13s 99ms/step - loss: 0.6738 - accuracy: 0.5804 - val_loss: 0.6980 - val_accuracy: 0.5177\n",
            "Epoch 28/1000\n",
            "136/136 [==============================] - ETA: 0s - loss: 0.6732 - accuracy: 0.5832\n",
            "Epoch 28: val_loss did not improve from 0.68435\n",
            "136/136 [==============================] - 14s 100ms/step - loss: 0.6732 - accuracy: 0.5832 - val_loss: 0.7027 - val_accuracy: 0.5163\n",
            "Epoch 29/1000\n",
            "136/136 [==============================] - ETA: 0s - loss: 0.6713 - accuracy: 0.5929\n",
            "Epoch 29: val_loss did not improve from 0.68435\n",
            "136/136 [==============================] - 13s 98ms/step - loss: 0.6713 - accuracy: 0.5929 - val_loss: 0.6993 - val_accuracy: 0.5149\n",
            "Epoch 30/1000\n",
            "136/136 [==============================] - ETA: 0s - loss: 0.6701 - accuracy: 0.5910\n",
            "Epoch 30: val_loss did not improve from 0.68435\n",
            "136/136 [==============================] - 15s 107ms/step - loss: 0.6701 - accuracy: 0.5910 - val_loss: 0.7030 - val_accuracy: 0.5156\n",
            "Epoch 31/1000\n",
            "136/136 [==============================] - ETA: 0s - loss: 0.6694 - accuracy: 0.5855\n",
            "Epoch 31: val_loss did not improve from 0.68435\n",
            "136/136 [==============================] - 13s 96ms/step - loss: 0.6694 - accuracy: 0.5855 - val_loss: 0.7003 - val_accuracy: 0.5177\n",
            "Epoch 32/1000\n",
            "136/136 [==============================] - ETA: 0s - loss: 0.6713 - accuracy: 0.5920\n",
            "Epoch 32: val_loss did not improve from 0.68435\n",
            "136/136 [==============================] - 13s 98ms/step - loss: 0.6713 - accuracy: 0.5920 - val_loss: 0.6995 - val_accuracy: 0.5163\n",
            "Epoch 33/1000\n",
            "136/136 [==============================] - ETA: 0s - loss: 0.6711 - accuracy: 0.6007\n",
            "Epoch 33: val_loss did not improve from 0.68435\n",
            "136/136 [==============================] - 14s 106ms/step - loss: 0.6711 - accuracy: 0.6007 - val_loss: 0.7028 - val_accuracy: 0.5191\n",
            "Epoch 34/1000\n",
            "136/136 [==============================] - ETA: 0s - loss: 0.6696 - accuracy: 0.5836\n",
            "Epoch 34: val_loss did not improve from 0.68435\n",
            "136/136 [==============================] - 13s 94ms/step - loss: 0.6696 - accuracy: 0.5836 - val_loss: 0.7028 - val_accuracy: 0.5198\n",
            "Epoch 35/1000\n",
            "136/136 [==============================] - ETA: 0s - loss: 0.6706 - accuracy: 0.6007\n",
            "Epoch 35: val_loss did not improve from 0.68435\n",
            "136/136 [==============================] - 13s 97ms/step - loss: 0.6706 - accuracy: 0.6007 - val_loss: 0.7012 - val_accuracy: 0.5239\n",
            "Epoch 36/1000\n",
            "136/136 [==============================] - ETA: 0s - loss: 0.6736 - accuracy: 0.5855\n",
            "Epoch 36: val_loss did not improve from 0.68435\n",
            "136/136 [==============================] - 13s 98ms/step - loss: 0.6736 - accuracy: 0.5855 - val_loss: 0.7012 - val_accuracy: 0.5246\n",
            "Epoch 37/1000\n",
            "136/136 [==============================] - ETA: 0s - loss: 0.6702 - accuracy: 0.6012\n",
            "Epoch 37: val_loss did not improve from 0.68435\n",
            "136/136 [==============================] - 13s 96ms/step - loss: 0.6702 - accuracy: 0.6012 - val_loss: 0.7049 - val_accuracy: 0.5073\n",
            "Epoch 38/1000\n",
            "136/136 [==============================] - ETA: 0s - loss: 0.6732 - accuracy: 0.5832\n",
            "Epoch 38: val_loss did not improve from 0.68435\n",
            "136/136 [==============================] - 13s 96ms/step - loss: 0.6732 - accuracy: 0.5832 - val_loss: 0.7010 - val_accuracy: 0.5191\n",
            "Epoch 39/1000\n",
            "136/136 [==============================] - ETA: 0s - loss: 0.6684 - accuracy: 0.5915\n",
            "Epoch 39: val_loss did not improve from 0.68435\n",
            "136/136 [==============================] - 13s 96ms/step - loss: 0.6684 - accuracy: 0.5915 - val_loss: 0.7035 - val_accuracy: 0.5128\n",
            "Epoch 40/1000\n",
            "136/136 [==============================] - ETA: 0s - loss: 0.6723 - accuracy: 0.5790\n",
            "Epoch 40: val_loss did not improve from 0.68435\n",
            "136/136 [==============================] - 13s 99ms/step - loss: 0.6723 - accuracy: 0.5790 - val_loss: 0.7019 - val_accuracy: 0.5191\n",
            "Epoch 41/1000\n",
            "136/136 [==============================] - ETA: 0s - loss: 0.6749 - accuracy: 0.5707\n",
            "Epoch 41: val_loss did not improve from 0.68435\n",
            "136/136 [==============================] - 13s 98ms/step - loss: 0.6749 - accuracy: 0.5707 - val_loss: 0.7020 - val_accuracy: 0.5087\n",
            "Epoch 42/1000\n",
            "136/136 [==============================] - ETA: 0s - loss: 0.6727 - accuracy: 0.5818\n",
            "Epoch 42: val_loss did not improve from 0.68435\n",
            "136/136 [==============================] - 14s 99ms/step - loss: 0.6727 - accuracy: 0.5818 - val_loss: 0.6997 - val_accuracy: 0.5211\n",
            "Epoch 43/1000\n",
            "136/136 [==============================] - ETA: 0s - loss: 0.6692 - accuracy: 0.5827\n",
            "Epoch 43: val_loss did not improve from 0.68435\n",
            "136/136 [==============================] - 15s 108ms/step - loss: 0.6692 - accuracy: 0.5827 - val_loss: 0.7005 - val_accuracy: 0.5218\n",
            "Epoch 44/1000\n",
            "136/136 [==============================] - ETA: 0s - loss: 0.6693 - accuracy: 0.5943\n",
            "Epoch 44: val_loss did not improve from 0.68435\n",
            "136/136 [==============================] - 14s 99ms/step - loss: 0.6693 - accuracy: 0.5943 - val_loss: 0.6995 - val_accuracy: 0.5204\n",
            "Epoch 45/1000\n",
            "136/136 [==============================] - ETA: 0s - loss: 0.6699 - accuracy: 0.5952\n",
            "Epoch 45: val_loss did not improve from 0.68435\n",
            "136/136 [==============================] - 13s 96ms/step - loss: 0.6699 - accuracy: 0.5952 - val_loss: 0.7010 - val_accuracy: 0.5184\n",
            "Epoch 46/1000\n",
            "136/136 [==============================] - ETA: 0s - loss: 0.6693 - accuracy: 0.5887\n",
            "Epoch 46: val_loss did not improve from 0.68435\n",
            "136/136 [==============================] - 13s 95ms/step - loss: 0.6693 - accuracy: 0.5887 - val_loss: 0.7124 - val_accuracy: 0.5010\n",
            "Epoch 47/1000\n",
            "136/136 [==============================] - ETA: 0s - loss: 0.6689 - accuracy: 0.5887\n",
            "Epoch 47: val_loss did not improve from 0.68435\n",
            "136/136 [==============================] - 13s 98ms/step - loss: 0.6689 - accuracy: 0.5887 - val_loss: 0.7012 - val_accuracy: 0.5163\n",
            "Epoch 48/1000\n",
            "136/136 [==============================] - ETA: 0s - loss: 0.6698 - accuracy: 0.5883\n",
            "Epoch 48: val_loss did not improve from 0.68435\n",
            "136/136 [==============================] - 13s 98ms/step - loss: 0.6698 - accuracy: 0.5883 - val_loss: 0.7018 - val_accuracy: 0.5170\n",
            "Epoch 49/1000\n",
            "136/136 [==============================] - ETA: 0s - loss: 0.6703 - accuracy: 0.5961\n",
            "Epoch 49: val_loss did not improve from 0.68435\n",
            "136/136 [==============================] - 13s 96ms/step - loss: 0.6703 - accuracy: 0.5961 - val_loss: 0.7025 - val_accuracy: 0.5225\n",
            "Epoch 50/1000\n",
            "136/136 [==============================] - ETA: 0s - loss: 0.6705 - accuracy: 0.5887\n",
            "Epoch 50: val_loss did not improve from 0.68435\n",
            "136/136 [==============================] - 13s 95ms/step - loss: 0.6705 - accuracy: 0.5887 - val_loss: 0.7026 - val_accuracy: 0.5253\n",
            "Epoch 51/1000\n",
            "136/136 [==============================] - ETA: 0s - loss: 0.6707 - accuracy: 0.5906\n",
            "Epoch 51: val_loss did not improve from 0.68435\n",
            "136/136 [==============================] - 13s 96ms/step - loss: 0.6707 - accuracy: 0.5906 - val_loss: 0.7034 - val_accuracy: 0.5177\n",
            "Epoch 52/1000\n",
            "136/136 [==============================] - ETA: 0s - loss: 0.6683 - accuracy: 0.5929\n",
            "Epoch 52: val_loss did not improve from 0.68435\n",
            "136/136 [==============================] - 13s 98ms/step - loss: 0.6683 - accuracy: 0.5929 - val_loss: 0.7025 - val_accuracy: 0.5198\n",
            "Epoch 53/1000\n",
            "136/136 [==============================] - ETA: 0s - loss: 0.6692 - accuracy: 0.5966\n",
            "Epoch 53: val_loss did not improve from 0.68435\n",
            "136/136 [==============================] - 13s 94ms/step - loss: 0.6692 - accuracy: 0.5966 - val_loss: 0.7026 - val_accuracy: 0.5156\n",
            "Epoch 54/1000\n",
            "136/136 [==============================] - ETA: 0s - loss: 0.6712 - accuracy: 0.5943\n",
            "Epoch 54: val_loss did not improve from 0.68435\n",
            "136/136 [==============================] - 13s 94ms/step - loss: 0.6712 - accuracy: 0.5943 - val_loss: 0.7033 - val_accuracy: 0.5260\n",
            "Epoch 55/1000\n",
            "136/136 [==============================] - ETA: 0s - loss: 0.6678 - accuracy: 0.6017\n",
            "Epoch 55: val_loss did not improve from 0.68435\n",
            "136/136 [==============================] - 13s 97ms/step - loss: 0.6678 - accuracy: 0.6017 - val_loss: 0.7028 - val_accuracy: 0.5142\n",
            "Epoch 56/1000\n",
            "136/136 [==============================] - ETA: 0s - loss: 0.6672 - accuracy: 0.6040\n",
            "Epoch 56: val_loss did not improve from 0.68435\n",
            "136/136 [==============================] - 13s 97ms/step - loss: 0.6672 - accuracy: 0.6040 - val_loss: 0.7028 - val_accuracy: 0.5184\n",
            "Epoch 57/1000\n",
            "136/136 [==============================] - ETA: 0s - loss: 0.6687 - accuracy: 0.5961\n",
            "Epoch 57: val_loss did not improve from 0.68435\n",
            "136/136 [==============================] - 13s 98ms/step - loss: 0.6687 - accuracy: 0.5961 - val_loss: 0.7038 - val_accuracy: 0.5211\n",
            "Epoch 58/1000\n",
            "136/136 [==============================] - ETA: 0s - loss: 0.6684 - accuracy: 0.5892\n",
            "Epoch 58: val_loss did not improve from 0.68435\n",
            "136/136 [==============================] - 14s 99ms/step - loss: 0.6684 - accuracy: 0.5892 - val_loss: 0.7036 - val_accuracy: 0.5239\n",
            "Epoch 59/1000\n",
            "136/136 [==============================] - ETA: 0s - loss: 0.6678 - accuracy: 0.5938\n",
            "Epoch 59: val_loss did not improve from 0.68435\n",
            "136/136 [==============================] - 13s 94ms/step - loss: 0.6678 - accuracy: 0.5938 - val_loss: 0.7035 - val_accuracy: 0.5260\n",
            "Epoch 60/1000\n",
            "136/136 [==============================] - ETA: 0s - loss: 0.6657 - accuracy: 0.6054\n",
            "Epoch 60: val_loss did not improve from 0.68435\n",
            "136/136 [==============================] - 13s 94ms/step - loss: 0.6657 - accuracy: 0.6054 - val_loss: 0.7142 - val_accuracy: 0.5080\n",
            "Epoch 61/1000\n",
            "136/136 [==============================] - ETA: 0s - loss: 0.6719 - accuracy: 0.5832\n",
            "Epoch 61: val_loss did not improve from 0.68435\n",
            "136/136 [==============================] - 13s 98ms/step - loss: 0.6719 - accuracy: 0.5832 - val_loss: 0.7032 - val_accuracy: 0.5274\n",
            "Epoch 62/1000\n",
            "136/136 [==============================] - ETA: 0s - loss: 0.6667 - accuracy: 0.6017\n",
            "Epoch 62: val_loss did not improve from 0.68435\n",
            "136/136 [==============================] - 13s 97ms/step - loss: 0.6667 - accuracy: 0.6017 - val_loss: 0.7049 - val_accuracy: 0.5156\n",
            "Epoch 63/1000\n",
            " 66/136 [=============>................] - ETA: 6s - loss: 0.6731 - accuracy: 0.5795"
          ]
        }
      ],
      "source": [
        "history = model.fit(X_train, y_train,\n",
        "                    epochs=1000,\n",
        "                    batch_size=16,\n",
        "                    validation_data=(X_val, y_val),\n",
        "                    callbacks=[early_stopping, model_checkpoint],\n",
        "                    verbose=1)\n"
      ],
      "metadata": {
        "is_executing": true,
        "ExecuteTime": {
          "start_time": "2024-03-08T10:24:11.179729Z"
        },
        "colab": {
          "base_uri": "https://localhost:8080/"
        },
        "id": "e0525fda238b3308",
        "outputId": "34ca79b4-136b-4761-a0b5-43eb28737ccf"
      },
      "id": "e0525fda238b3308"
    },
    {
      "cell_type": "markdown",
      "source": [
        "# plot val and train accuracy"
      ],
      "metadata": {
        "collapsed": false,
        "id": "25fb0890dc9a64fc"
      },
      "id": "25fb0890dc9a64fc"
    },
    {
      "cell_type": "code",
      "execution_count": 53,
      "outputs": [
        {
          "output_type": "display_data",
          "data": {
            "text/plain": [
              "<Figure size 640x480 with 1 Axes>"
            ],
            "image/png": "[encoded data removed]"
          },
          "metadata": {}
        }
      ],
      "source": [
        "plt.plot(history.history['accuracy'], label='Training Accuracy')\n",
        "plt.plot(history.history['val_accuracy'], label='Validation Accuracy')\n",
        "plt.xlabel('Epochs')\n",
        "plt.ylabel('Accuracy')\n",
        "plt.title('Training and Validation Accuracy')\n",
        "plt.legend()\n",
        "plt.show()\n"
      ],
      "metadata": {
        "ExecuteTime": {
          "end_time": "2024-03-08T05:19:43.759363300Z",
          "start_time": "2024-03-08T05:19:43.520363600Z"
        },
        "colab": {
          "base_uri": "https://localhost:8080/",
          "height": 472
        },
        "id": "6662615c470de959",
        "outputId": "b6ff2909-06a8-4699-b93e-f0a52ccfa853"
      },
      "id": "6662615c470de959"
    },
    {
      "cell_type": "markdown",
      "source": [
        "#plot model architecture"
      ],
      "metadata": {
        "collapsed": false,
        "id": "73272159e33e1d05"
      },
      "id": "73272159e33e1d05"
    },
    {
      "cell_type": "code",
      "execution_count": null,
      "outputs": [],
      "source": [
        "plot_model(model, to_file='lstm_model.png', show_shapes=True, show_layer_names=True)\n"
      ],
      "metadata": {
        "id": "814ec0626ef56309"
      },
      "id": "814ec0626ef56309"
    }
  ],
  "metadata": {
    "kernelspec": {
      "display_name": "Python 3",
      "name": "python3"
    },
    "language_info": {
      "codemirror_mode": {
        "name": "ipython",
        "version": 2
      },
      "file_extension": ".py",
      "mimetype": "text/x-python",
      "name": "python",
      "nbconvert_exporter": "python",
      "pygments_lexer": "ipython2",
      "version": "2.7.6"
    },
    "colab": {
      "provenance": [],
      "gpuType": "T4",
      "include_colab_link": true
    },
    "accelerator": "GPU"
  },
  "nbformat": 4,
  "nbformat_minor": 5
}