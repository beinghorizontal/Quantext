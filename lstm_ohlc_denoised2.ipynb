{
  "cells": [
    {
      "cell_type": "markdown",
      "metadata": {
        "id": "view-in-github",
        "colab_type": "text"
      },
      "source": [
        "<a href=\"https://colab.research.google.com/github/beinghorizontal/Quantext/blob/main/lstm_ohlc_denoised2.ipynb\" target=\"_parent\"><img src=\"https://colab.research.google.com/assets/colab-badge.svg\" alt=\"Open In Colab\"/></a>"
      ]
    },
    {
      "cell_type": "code",
      "execution_count": null,
      "id": "initial_id",
      "metadata": {
        "collapsed": true,
        "id": "initial_id"
      },
      "outputs": [],
      "source": []
    },
    {
      "cell_type": "code",
      "execution_count": 1,
      "outputs": [
        {
          "output_type": "stream",
          "name": "stdout",
          "text": [
            "Requirement already satisfied: yfinance in /usr/local/lib/python3.10/dist-packages (0.2.37)\n",
            "Requirement already satisfied: pandas>=1.3.0 in /usr/local/lib/python3.10/dist-packages (from yfinance) (1.5.3)\n",
            "Requirement already satisfied: numpy>=1.16.5 in /usr/local/lib/python3.10/dist-packages (from yfinance) (1.25.2)\n",
            "Requirement already satisfied: requests>=2.31 in /usr/local/lib/python3.10/dist-packages (from yfinance) (2.31.0)\n",
            "Requirement already satisfied: multitasking>=0.0.7 in /usr/local/lib/python3.10/dist-packages (from yfinance) (0.0.11)\n",
            "Requirement already satisfied: lxml>=4.9.1 in /usr/local/lib/python3.10/dist-packages (from yfinance) (4.9.4)\n",
            "Requirement already satisfied: appdirs>=1.4.4 in /usr/local/lib/python3.10/dist-packages (from yfinance) (1.4.4)\n",
            "Requirement already satisfied: pytz>=2022.5 in /usr/local/lib/python3.10/dist-packages (from yfinance) (2023.4)\n",
            "Requirement already satisfied: frozendict>=2.3.4 in /usr/local/lib/python3.10/dist-packages (from yfinance) (2.4.0)\n",
            "Requirement already satisfied: peewee>=3.16.2 in /usr/local/lib/python3.10/dist-packages (from yfinance) (3.17.1)\n",
            "Requirement already satisfied: beautifulsoup4>=4.11.1 in /usr/local/lib/python3.10/dist-packages (from yfinance) (4.12.3)\n",
            "Requirement already satisfied: html5lib>=1.1 in /usr/local/lib/python3.10/dist-packages (from yfinance) (1.1)\n",
            "Requirement already satisfied: soupsieve>1.2 in /usr/local/lib/python3.10/dist-packages (from beautifulsoup4>=4.11.1->yfinance) (2.5)\n",
            "Requirement already satisfied: six>=1.9 in /usr/local/lib/python3.10/dist-packages (from html5lib>=1.1->yfinance) (1.16.0)\n",
            "Requirement already satisfied: webencodings in /usr/local/lib/python3.10/dist-packages (from html5lib>=1.1->yfinance) (0.5.1)\n",
            "Requirement already satisfied: python-dateutil>=2.8.1 in /usr/local/lib/python3.10/dist-packages (from pandas>=1.3.0->yfinance) (2.8.2)\n",
            "Requirement already satisfied: charset-normalizer<4,>=2 in /usr/local/lib/python3.10/dist-packages (from requests>=2.31->yfinance) (3.3.2)\n",
            "Requirement already satisfied: idna<4,>=2.5 in /usr/local/lib/python3.10/dist-packages (from requests>=2.31->yfinance) (3.6)\n",
            "Requirement already satisfied: urllib3<3,>=1.21.1 in /usr/local/lib/python3.10/dist-packages (from requests>=2.31->yfinance) (2.0.7)\n",
            "Requirement already satisfied: certifi>=2017.4.17 in /usr/local/lib/python3.10/dist-packages (from requests>=2.31->yfinance) (2024.2.2)\n"
          ]
        }
      ],
      "source": [
        "!pip install yfinance"
      ],
      "metadata": {
        "colab": {
          "base_uri": "https://localhost:8080/"
        },
        "id": "9dc217f781c7c0ba",
        "outputId": "7668943d-af84-41f9-8382-4546a2ceb4ce"
      },
      "id": "9dc217f781c7c0ba"
    },
    {
      "cell_type": "markdown",
      "source": [
        "# Import essential libraries"
      ],
      "metadata": {
        "collapsed": false,
        "id": "d23ec81ad7522a42"
      },
      "id": "d23ec81ad7522a42"
    },
    {
      "cell_type": "code",
      "execution_count": 2,
      "outputs": [],
      "source": [
        "import yfinance as yf\n",
        "import datetime"
      ],
      "metadata": {
        "ExecuteTime": {
          "end_time": "2024-03-08T08:55:53.441015Z",
          "start_time": "2024-03-08T08:55:52.501832Z"
        },
        "id": "df7283778863139d"
      },
      "id": "df7283778863139d"
    },
    {
      "cell_type": "markdown",
      "source": [
        "# Download the historical data from Yahoo finance for 15 years data, replace  'days=15' to change the years accordingly"
      ],
      "metadata": {
        "collapsed": false,
        "id": "d88345d162a0dc09"
      },
      "id": "d88345d162a0dc09"
    },
    {
      "cell_type": "code",
      "execution_count": 3,
      "outputs": [
        {
          "output_type": "stream",
          "name": "stdout",
          "text": [
            "2009-03-12 12:02:00.162176 \n",
            " 2024-03-08 12:02:00.162236\n"
          ]
        }
      ],
      "source": [
        "ticker_symbol = \"RELIANCE.NS\"\n",
        "start_date = datetime.datetime.now() - datetime.timedelta(days=15 * 365)\n",
        "end_date = datetime.datetime.now()\n",
        "print(start_date,'\\n',end_date)"
      ],
      "metadata": {
        "ExecuteTime": {
          "end_time": "2024-03-08T08:55:57.228321Z",
          "start_time": "2024-03-08T08:55:57.208284Z"
        },
        "colab": {
          "base_uri": "https://localhost:8080/"
        },
        "id": "41c61a5c9d638a5b",
        "outputId": "03795310-601c-47f0-f822-b5f234a35f15"
      },
      "id": "41c61a5c9d638a5b"
    },
    {
      "cell_type": "code",
      "execution_count": 4,
      "outputs": [
        {
          "output_type": "stream",
          "name": "stderr",
          "text": [
            "\r[*********************100%%**********************]  1 of 1 completed\n"
          ]
        }
      ],
      "source": [
        "df1 = yf.download(ticker_symbol, start=start_date, end=end_date)"
      ],
      "metadata": {
        "ExecuteTime": {
          "end_time": "2024-03-08T08:56:04.291635Z",
          "start_time": "2024-03-08T08:56:02.654355Z"
        },
        "colab": {
          "base_uri": "https://localhost:8080/"
        },
        "id": "f7d7ca20a88f90a3",
        "outputId": "211f27d4-e99d-4c24-ea63-b33b63f26d89"
      },
      "id": "f7d7ca20a88f90a3"
    },
    {
      "cell_type": "markdown",
      "source": [
        "# To experiment with various features keep original copy safe so you don't need to download the file from yahoo server everytime you want to change the features."
      ],
      "metadata": {
        "id": "yj63QE1m8HyV"
      },
      "id": "yj63QE1m8HyV"
    },
    {
      "cell_type": "code",
      "execution_count": 5,
      "outputs": [],
      "source": [
        "df = df1.copy()"
      ],
      "metadata": {
        "ExecuteTime": {
          "end_time": "2024-03-08T11:37:29.037022Z",
          "start_time": "2024-03-08T11:37:29.032021Z"
        },
        "id": "5b7b896fa2a38699"
      },
      "id": "5b7b896fa2a38699"
    },
    {
      "cell_type": "code",
      "execution_count": 6,
      "outputs": [],
      "source": [
        "import keras\n",
        "import numpy as np\n",
        "import matplotlib.pyplot as plt\n",
        "from pandas_datareader import data\n",
        "from datetime import datetime\n",
        "from sklearn.preprocessing import MinMaxScaler\n",
        "from keras.models import Sequential\n",
        "import torch\n",
        "from keras.layers import LSTM, Dense, Dropout\n",
        "from keras.callbacks import EarlyStopping, ModelCheckpoint\n",
        "from keras.utils import plot_model\n",
        "from keras.layers import Input  # Replace with your backend's import syntax\n"
      ],
      "metadata": {
        "ExecuteTime": {
          "end_time": "2024-03-08T08:56:18.927296Z",
          "start_time": "2024-03-08T08:56:15.412520Z"
        },
        "id": "5a3cef738c7f0d65"
      },
      "id": "5a3cef738c7f0d65"
    },
    {
      "cell_type": "code",
      "execution_count": 7,
      "outputs": [
        {
          "output_type": "stream",
          "name": "stdout",
          "text": [
            "Using device: cuda\n"
          ]
        }
      ],
      "source": [
        "\n",
        "device = torch.device(\"cuda\" if torch.cuda.is_available() else \"cpu\")\n",
        "print(f\"Using device: {device}\")"
      ],
      "metadata": {
        "ExecuteTime": {
          "end_time": "2024-03-08T08:56:29.851331Z",
          "start_time": "2024-03-08T08:56:29.844812Z"
        },
        "colab": {
          "base_uri": "https://localhost:8080/"
        },
        "id": "ef77e5b373b7217f",
        "outputId": "c9a744b1-c995-4108-e89a-31da65a0fe27"
      },
      "id": "ef77e5b373b7217f"
    },
    {
      "cell_type": "markdown",
      "source": [
        "# Alternate method to download historical data You need Alpha Vantage free API key. Store that key in the text folder and replace the path. For this script I have Used  the Yahoo finance data the only difference will be the column name which will be capitalized Or in small letters"
      ],
      "metadata": {
        "collapsed": false,
        "id": "f06eee203466f08"
      },
      "id": "f06eee203466f08"
    },
    {
      "cell_type": "code",
      "execution_count": null,
      "outputs": [],
      "source": [
        "#!pip install pandas-dataloader\n",
        "#from pandas_datareader import data\n",
        "# Download stock market data (e.g., Apple Inc.)\n",
        "# with open('G:/anaconda/Scripts/data/alpha_vantage/key.txt', 'r') as f:\n",
        "#     key = f.read()\n",
        "# symbol = 'AAPL'  # Ticker symbol for Apple Inc.\n",
        "# df = data.DataReader(symbol, \"av-daily\", start=datetime(2017, 2, 9),\n",
        "#                     end=datetime(2024, 2, 26),\n",
        "#                     api_key=key)"
      ],
      "metadata": {
        "id": "ac3091694c200fab"
      },
      "id": "ac3091694c200fab"
    },
    {
      "cell_type": "markdown",
      "source": [
        "# We will try to normalize the values without calculating the returns. It just for the demonstration to see how it will be difficult for the LSTM model to learn effectively"
      ],
      "metadata": {
        "collapsed": false,
        "id": "4c894feaee84b881"
      },
      "id": "4c894feaee84b881"
    },
    {
      "cell_type": "markdown",
      "source": [
        "# Let's plot unscaled  data 1st"
      ],
      "metadata": {
        "collapsed": false,
        "id": "37e1c4d83951501c"
      },
      "id": "37e1c4d83951501c"
    },
    {
      "cell_type": "code",
      "execution_count": null,
      "outputs": [],
      "source": [
        "# df['Close'].plot()\n",
        "# plt.show()"
      ],
      "metadata": {
        "id": "8fc02961dc36558"
      },
      "id": "8fc02961dc36558"
    },
    {
      "cell_type": "markdown",
      "source": [
        "# Now we will normalize it without calculating the returns and plot the normalized closed value.This is the most frequent error I have seen traders do as you can see even after transforming the data only the scale will be different but you are not essentially removing any underlying trend.Model is still highly sensitive to the price itself so imagine if the price 0.2 in the skilled format has never come what is the point of the model to train on that kind of data"
      ],
      "metadata": {
        "collapsed": false,
        "id": "3cddb5cdea98ee7a"
      },
      "id": "3cddb5cdea98ee7a"
    },
    {
      "cell_type": "code",
      "execution_count": null,
      "outputs": [],
      "source": [
        "# scaler = MinMaxScaler(feature_range=(-1, 1))\n",
        "# df_test = df.copy()\n",
        "# scaled_data = scaler.fit_transform(df_test[['Open', 'High', 'Low', 'Close','Volume']])\n",
        "# plt.plot(scaled_data[:, 3])"
      ],
      "metadata": {
        "ExecuteTime": {
          "end_time": "2024-03-08T07:38:51.863191700Z",
          "start_time": "2024-03-08T07:38:51.833851200Z"
        },
        "id": "666e0abae777abdf"
      },
      "id": "666e0abae777abdf"
    },
    {
      "cell_type": "markdown",
      "source": [
        "# Add candlestick patterns using pandas-ta and ta-lib"
      ],
      "metadata": {
        "collapsed": false,
        "id": "bfe7f52ae541e0ec"
      },
      "id": "bfe7f52ae541e0ec"
    },
    {
      "cell_type": "code",
      "execution_count": 8,
      "outputs": [
        {
          "output_type": "stream",
          "name": "stdout",
          "text": [
            "Collecting pandas_ta\n",
            "  Downloading pandas_ta-0.3.14b.tar.gz (115 kB)\n",
            "\u001b[?25l     \u001b[90m━━━━━━━━━━━━━━━━━━━━━━━━━━━━━━━━━━━━━━━━\u001b[0m \u001b[32m0.0/115.1 kB\u001b[0m \u001b[31m?\u001b[0m eta \u001b[36m-:--:--\u001b[0m\r\u001b[2K     \u001b[90m━━━━━━━━━━━━━━━━━━━━━━━━━━━━━━━━━━━━━━━━\u001b[0m \u001b[32m115.1/115.1 kB\u001b[0m \u001b[31m4.0 MB/s\u001b[0m eta \u001b[36m0:00:00\u001b[0m\n",
            "\u001b[?25h  Preparing metadata (setup.py) ... \u001b[?25l\u001b[?25hdone\n",
            "Requirement already satisfied: pandas in /usr/local/lib/python3.10/dist-packages (from pandas_ta) (1.5.3)\n",
            "Requirement already satisfied: python-dateutil>=2.8.1 in /usr/local/lib/python3.10/dist-packages (from pandas->pandas_ta) (2.8.2)\n",
            "Requirement already satisfied: pytz>=2020.1 in /usr/local/lib/python3.10/dist-packages (from pandas->pandas_ta) (2023.4)\n",
            "Requirement already satisfied: numpy>=1.21.0 in /usr/local/lib/python3.10/dist-packages (from pandas->pandas_ta) (1.25.2)\n",
            "Requirement already satisfied: six>=1.5 in /usr/local/lib/python3.10/dist-packages (from python-dateutil>=2.8.1->pandas->pandas_ta) (1.16.0)\n",
            "Building wheels for collected packages: pandas_ta\n",
            "  Building wheel for pandas_ta (setup.py) ... \u001b[?25l\u001b[?25hdone\n",
            "  Created wheel for pandas_ta: filename=pandas_ta-0.3.14b0-py3-none-any.whl size=218907 sha256=8d180388267df0f18f1b21075dfd06f3d8358f5940ee93f7fe346331de8f1da0\n",
            "  Stored in directory: /root/.cache/pip/wheels/69/00/ac/f7fa862c34b0e2ef320175100c233377b4c558944f12474cf0\n",
            "Successfully built pandas_ta\n",
            "Installing collected packages: pandas_ta\n",
            "Successfully installed pandas_ta-0.3.14b0\n"
          ]
        }
      ],
      "source": [
        "!pip install pandas_ta"
      ],
      "metadata": {
        "colab": {
          "base_uri": "https://localhost:8080/"
        },
        "id": "7b41933480b28ce5",
        "outputId": "81a831fc-630e-43e1-e752-5fd6e20507f6"
      },
      "id": "7b41933480b28ce5"
    },
    {
      "cell_type": "markdown",
      "source": [
        "# To install TA_Lib in terminal use this line\n",
        "# conda install -c conda-forge ta-lib\n",
        "# (pip install TA-Lib will give errors on Windows)"
      ],
      "metadata": {
        "collapsed": false,
        "id": "fdbd9447028e917"
      },
      "id": "fdbd9447028e917"
    },
    {
      "cell_type": "code",
      "execution_count": 9,
      "outputs": [],
      "source": [
        "import pandas_ta as ta\n",
        "import pandas as pd\n",
        "# df_patterns = df.ta.cdl_pattern(name=\"all\")\n",
        "# single_column_df = pd.DataFrame(df_patterns.sum(axis=1), columns=[\"All_Candle_Patterns\"])\n",
        "# df = pd.concat([df,single_column_df],axis=1)"
      ],
      "metadata": {
        "ExecuteTime": {
          "end_time": "2024-03-08T11:16:06.396211Z",
          "start_time": "2024-03-08T11:16:06.352212Z"
        },
        "id": "c8e4fa1f83cae23d"
      },
      "id": "c8e4fa1f83cae23d"
    },
    {
      "cell_type": "markdown",
      "source": [
        "# Create Various columns with indicators based on pandas_ta  library, binary output method that is less noise but less opportunities to learn the pattern due to loss of information"
      ],
      "metadata": {
        "collapsed": false,
        "id": "d17ce6d6fd0e52b0"
      },
      "id": "d17ce6d6fd0e52b0"
    },
    {
      "cell_type": "code",
      "execution_count": null,
      "outputs": [],
      "source": [
        "# df['sma_small_delta'] = np.where(df.ta.sma(length=5) > df.ta.sma(length=10),1,0)\n",
        "# df['wma_small_delta'] = np.where(df.ta.wma(length=10) > df.ta.wma(length=20),1,0)\n",
        "# df['sma_long_delta'] = np.where(df.ta.sma(length=20) > df.ta.sma(length=50),1,0)\n",
        "# df['rsi_delta'] = np.where(df.ta.rsi(length=7) > df.ta.rsi(length=14),1,0)\n",
        "# df['vwma_small_delta'] = np.where(df.ta.vwma(length=5) > df.ta.vwma(length=10),1,0)\n",
        "# df['vwma_long_delta'] = np.where(df.ta.vwma(length=10) > df.ta.vwma(length=20),1,0)\n",
        "#df['percent_return_20'] = df.ta.percent_return(length=20)\n",
        "# df_vortex = df.ta.vortex(length=14)  # Vortex indicator has two oscillators positive and negative. We calculate the delta\n",
        "# df_vortex['plus_delta'] = np.where(df_vortex['VTXP_14'] > df_vortex['VTXM_14'],1,0)\n",
        "# df['vortex_plus_delta'] = df_vortex['plus_delta']\n"
      ],
      "metadata": {
        "ExecuteTime": {
          "end_time": "2024-03-08T09:01:49.835217Z",
          "start_time": "2024-03-08T09:01:49.810991Z"
        },
        "id": "36bf30c6c7035383"
      },
      "id": "36bf30c6c7035383"
    },
    {
      "cell_type": "markdown",
      "source": [
        "# Create columns best on pandas_ta library, non binary method that is more noise but more opportunities to learn the pattern"
      ],
      "metadata": {
        "collapsed": false,
        "id": "1ec33e3025847641"
      },
      "id": "1ec33e3025847641"
    },
    {
      "cell_type": "code",
      "outputs": [],
      "source": [
        "df['sma_small_delta'] = (df.ta.sma(length=5) - df.ta.sma(length=10))/df.ta.sma(length=10)\n",
        "df['wma_small_delta'] = (df.ta.wma(length=10) - df.ta.wma(length=20))/df.ta.wma(length=20)\n",
        "df['sma_long_delta'] = (df.ta.sma(length=20) - df.ta.sma(length=50))/df.ta.sma(length=50)\n",
        "df['rsi_delta'] = (df.ta.rsi(length=7) - df.ta.rsi(length=14)) / df.ta.rsi(length=14)\n",
        "df['vwma_small_delta'] = (df.ta.vwma(length=5) - df.ta.vwma(length=10))/df.ta.vwma(length=10) # Volume weighted moving average\n",
        "df['vwma_long_delta'] = (df.ta.vwma(length=10) - df.ta.vwma(length=20))/df.ta.vwma(length=20)\n",
        "df['percent_return_20'] = df.ta.percent_return(length=20)\n",
        "# df_vortex = df.ta.vortex(length=14)  # Vortex indicator has two oscillators positive and negative. We calculate the delta\n",
        "# df_vortex['plus_delta'] = (df_vortex['VTXP_14'] - df_vortex['VTXM_14'])/df_vortex['VTXM_14']\n",
        "# df['vortex_plus_delta'] = df_vortex['plus_delta']\n",
        "df['atr'] = df.ta.atr()/df['Close']\n",
        "df['roc5'] = df.ta.roc(length=5)\n",
        "df['roc'] = df.ta.roc()\n"
      ],
      "metadata": {
        "ExecuteTime": {
          "end_time": "2024-03-08T11:37:54.441214Z",
          "start_time": "2024-03-08T11:37:54.408883Z"
        },
        "id": "8f0231de7f836460"
      },
      "id": "8f0231de7f836460",
      "execution_count": 10
    },
    {
      "cell_type": "markdown",
      "source": [
        "# plot 1 by 1 to confirm stationary properties"
      ],
      "metadata": {
        "collapsed": false,
        "id": "f392100af22e15b8"
      },
      "id": "f392100af22e15b8"
    },
    {
      "cell_type": "code",
      "execution_count": null,
      "outputs": [],
      "source": [
        "#df[['sma_small_delta']].tail(200).plot() # Zoom in view to see if there is randomness or some cyclical pattern\n"
      ],
      "metadata": {
        "id": "30ff6d23611cf146"
      },
      "id": "30ff6d23611cf146"
    },
    {
      "cell_type": "code",
      "execution_count": null,
      "outputs": [],
      "source": [
        "#df.ta.percent_return(length=20)"
      ],
      "metadata": {
        "id": "59823321b443b3ac"
      },
      "id": "59823321b443b3ac"
    },
    {
      "cell_type": "code",
      "execution_count": null,
      "outputs": [],
      "source": [
        "#df.ta.indicators()"
      ],
      "metadata": {
        "id": "10faaa5702a76674"
      },
      "id": "10faaa5702a76674"
    },
    {
      "cell_type": "code",
      "execution_count": null,
      "outputs": [],
      "source": [
        "#help(ta.vwma)\n"
      ],
      "metadata": {
        "id": "52fbb2a9ad0712f"
      },
      "id": "52fbb2a9ad0712f"
    },
    {
      "cell_type": "code",
      "execution_count": 11,
      "outputs": [
        {
          "output_type": "display_data",
          "data": {
            "text/plain": [
              "<Figure size 640x480 with 1 Axes>"
            ],
            "image/png": "[encoded data removed]"
          },
          "metadata": {}
        }
      ],
      "source": [
        "df.ta.roc().tail(200).plot()\n",
        "plt.show()"
      ],
      "metadata": {
        "ExecuteTime": {
          "end_time": "2024-03-08T09:01:58.320357Z",
          "start_time": "2024-03-08T09:01:58.033339Z"
        },
        "colab": {
          "base_uri": "https://localhost:8080/",
          "height": 433
        },
        "id": "b90f1b00b2445db7",
        "outputId": "3891cfea-3508-4d04-aa37-a7f9cc6e5e22"
      },
      "id": "b90f1b00b2445db7"
    },
    {
      "cell_type": "code",
      "execution_count": 12,
      "outputs": [],
      "source": [
        "df = df.dropna()"
      ],
      "metadata": {
        "ExecuteTime": {
          "end_time": "2024-03-08T11:38:03.925367Z",
          "start_time": "2024-03-08T11:38:03.915367Z"
        },
        "id": "5ec35e89dac95f85"
      },
      "id": "5ec35e89dac95f85"
    },
    {
      "cell_type": "markdown",
      "source": [
        "# check what dataframe looks like because we are going to normalize the remaining data later\n",
        "# Most of the values have positive and negative numbers. So we will use minmax scaler range is equal to -1, 1"
      ],
      "metadata": {
        "collapsed": false,
        "id": "b2240803c95ce304"
      },
      "id": "b2240803c95ce304"
    },
    {
      "cell_type": "code",
      "execution_count": 13,
      "outputs": [],
      "source": [
        "scaler = MinMaxScaler(feature_range=(0, 1))"
      ],
      "metadata": {
        "ExecuteTime": {
          "end_time": "2024-03-08T11:38:34.526219Z",
          "start_time": "2024-03-08T11:38:34.509220Z"
        },
        "id": "64a8263100287c9f"
      },
      "id": "64a8263100287c9f"
    },
    {
      "cell_type": "code",
      "outputs": [
        {
          "output_type": "stream",
          "name": "stdout",
          "text": [
            "['Open', 'High', 'Low', 'Close', 'Adj Close', 'Volume', 'sma_small_delta', 'wma_small_delta', 'sma_long_delta', 'rsi_delta', 'vwma_small_delta', 'vwma_long_delta', 'percent_return_20', 'atr', 'roc5', 'roc']\n"
          ]
        }
      ],
      "source": [
        "print(df.columns.to_list())"
      ],
      "metadata": {
        "ExecuteTime": {
          "end_time": "2024-03-08T11:39:17.966195Z",
          "start_time": "2024-03-08T11:39:17.961194Z"
        },
        "colab": {
          "base_uri": "https://localhost:8080/"
        },
        "id": "2817bcddaf640bea",
        "outputId": "d106239c-1ced-4c8c-9495-96e738f4a8dd"
      },
      "id": "2817bcddaf640bea",
      "execution_count": 14
    },
    {
      "cell_type": "code",
      "execution_count": 15,
      "outputs": [
        {
          "output_type": "stream",
          "name": "stderr",
          "text": [
            "<ipython-input-15-005119d364f6>:5: SettingWithCopyWarning: \n",
            "A value is trying to be set on a copy of a slice from a DataFrame.\n",
            "Try using .loc[row_indexer,col_indexer] = value instead\n",
            "\n",
            "See the caveats in the documentation: https://pandas.pydata.org/pandas-docs/stable/user_guide/indexing.html#returning-a-view-versus-a-copy\n",
            "  df[[col]] = scaler.fit_transform(df[[col]])\n",
            "<ipython-input-15-005119d364f6>:5: SettingWithCopyWarning: \n",
            "A value is trying to be set on a copy of a slice from a DataFrame.\n",
            "Try using .loc[row_indexer,col_indexer] = value instead\n",
            "\n",
            "See the caveats in the documentation: https://pandas.pydata.org/pandas-docs/stable/user_guide/indexing.html#returning-a-view-versus-a-copy\n",
            "  df[[col]] = scaler.fit_transform(df[[col]])\n",
            "<ipython-input-15-005119d364f6>:5: SettingWithCopyWarning: \n",
            "A value is trying to be set on a copy of a slice from a DataFrame.\n",
            "Try using .loc[row_indexer,col_indexer] = value instead\n",
            "\n",
            "See the caveats in the documentation: https://pandas.pydata.org/pandas-docs/stable/user_guide/indexing.html#returning-a-view-versus-a-copy\n",
            "  df[[col]] = scaler.fit_transform(df[[col]])\n",
            "<ipython-input-15-005119d364f6>:5: SettingWithCopyWarning: \n",
            "A value is trying to be set on a copy of a slice from a DataFrame.\n",
            "Try using .loc[row_indexer,col_indexer] = value instead\n",
            "\n",
            "See the caveats in the documentation: https://pandas.pydata.org/pandas-docs/stable/user_guide/indexing.html#returning-a-view-versus-a-copy\n",
            "  df[[col]] = scaler.fit_transform(df[[col]])\n",
            "<ipython-input-15-005119d364f6>:5: SettingWithCopyWarning: \n",
            "A value is trying to be set on a copy of a slice from a DataFrame.\n",
            "Try using .loc[row_indexer,col_indexer] = value instead\n",
            "\n",
            "See the caveats in the documentation: https://pandas.pydata.org/pandas-docs/stable/user_guide/indexing.html#returning-a-view-versus-a-copy\n",
            "  df[[col]] = scaler.fit_transform(df[[col]])\n",
            "<ipython-input-15-005119d364f6>:5: SettingWithCopyWarning: \n",
            "A value is trying to be set on a copy of a slice from a DataFrame.\n",
            "Try using .loc[row_indexer,col_indexer] = value instead\n",
            "\n",
            "See the caveats in the documentation: https://pandas.pydata.org/pandas-docs/stable/user_guide/indexing.html#returning-a-view-versus-a-copy\n",
            "  df[[col]] = scaler.fit_transform(df[[col]])\n",
            "<ipython-input-15-005119d364f6>:5: SettingWithCopyWarning: \n",
            "A value is trying to be set on a copy of a slice from a DataFrame.\n",
            "Try using .loc[row_indexer,col_indexer] = value instead\n",
            "\n",
            "See the caveats in the documentation: https://pandas.pydata.org/pandas-docs/stable/user_guide/indexing.html#returning-a-view-versus-a-copy\n",
            "  df[[col]] = scaler.fit_transform(df[[col]])\n",
            "<ipython-input-15-005119d364f6>:5: SettingWithCopyWarning: \n",
            "A value is trying to be set on a copy of a slice from a DataFrame.\n",
            "Try using .loc[row_indexer,col_indexer] = value instead\n",
            "\n",
            "See the caveats in the documentation: https://pandas.pydata.org/pandas-docs/stable/user_guide/indexing.html#returning-a-view-versus-a-copy\n",
            "  df[[col]] = scaler.fit_transform(df[[col]])\n",
            "<ipython-input-15-005119d364f6>:5: SettingWithCopyWarning: \n",
            "A value is trying to be set on a copy of a slice from a DataFrame.\n",
            "Try using .loc[row_indexer,col_indexer] = value instead\n",
            "\n",
            "See the caveats in the documentation: https://pandas.pydata.org/pandas-docs/stable/user_guide/indexing.html#returning-a-view-versus-a-copy\n",
            "  df[[col]] = scaler.fit_transform(df[[col]])\n",
            "<ipython-input-15-005119d364f6>:5: SettingWithCopyWarning: \n",
            "A value is trying to be set on a copy of a slice from a DataFrame.\n",
            "Try using .loc[row_indexer,col_indexer] = value instead\n",
            "\n",
            "See the caveats in the documentation: https://pandas.pydata.org/pandas-docs/stable/user_guide/indexing.html#returning-a-view-versus-a-copy\n",
            "  df[[col]] = scaler.fit_transform(df[[col]])\n"
          ]
        }
      ],
      "source": [
        "columns_to_norm = ['sma_small_delta', 'wma_small_delta', 'sma_long_delta', 'rsi_delta', 'vwma_small_delta', 'vwma_long_delta', 'percent_return_20', 'atr', 'roc5', 'roc']\n",
        "#columns_to_norm = ['All_Candle_Patterns']\n",
        "\n",
        "for col in columns_to_norm:\n",
        "    df[[col]] = scaler.fit_transform(df[[col]])\n"
      ],
      "metadata": {
        "ExecuteTime": {
          "end_time": "2024-03-08T11:39:21.808683Z",
          "start_time": "2024-03-08T11:39:21.768380Z"
        },
        "colab": {
          "base_uri": "https://localhost:8080/"
        },
        "id": "c18f3474b3023e8a",
        "outputId": "d2982b5d-fd0f-46bf-d80d-8513aa1983a1"
      },
      "id": "c18f3474b3023e8a"
    },
    {
      "cell_type": "markdown",
      "source": [
        "# Create 5 day sma for target"
      ],
      "metadata": {
        "collapsed": false,
        "id": "b10e0987a2fffa2f"
      },
      "id": "b10e0987a2fffa2f"
    },
    {
      "cell_type": "code",
      "execution_count": 16,
      "outputs": [
        {
          "output_type": "stream",
          "name": "stderr",
          "text": [
            "<ipython-input-16-1a2fc7e8dcd0>:1: SettingWithCopyWarning: \n",
            "A value is trying to be set on a copy of a slice from a DataFrame.\n",
            "Try using .loc[row_indexer,col_indexer] = value instead\n",
            "\n",
            "See the caveats in the documentation: https://pandas.pydata.org/pandas-docs/stable/user_guide/indexing.html#returning-a-view-versus-a-copy\n",
            "  df['5sma'] = df['Close'].shift(-5).rolling(5).mean()\n"
          ]
        }
      ],
      "source": [
        "df['5sma'] = df['Close'].shift(-5).rolling(5).mean()"
      ],
      "metadata": {
        "ExecuteTime": {
          "end_time": "2024-03-08T11:39:28.025611Z",
          "start_time": "2024-03-08T11:39:28.017119Z"
        },
        "colab": {
          "base_uri": "https://localhost:8080/"
        },
        "id": "b33b790f9726f29b",
        "outputId": "dba6774d-73b0-4378-d329-92ed0ff71528"
      },
      "id": "b33b790f9726f29b"
    },
    {
      "cell_type": "markdown",
      "source": [
        "# create binary target"
      ],
      "metadata": {
        "collapsed": false,
        "id": "ac5f5ae8a3808d4d"
      },
      "id": "ac5f5ae8a3808d4d"
    },
    {
      "cell_type": "code",
      "execution_count": 17,
      "outputs": [
        {
          "output_type": "stream",
          "name": "stderr",
          "text": [
            "<ipython-input-17-6f7d1879af51>:1: SettingWithCopyWarning: \n",
            "A value is trying to be set on a copy of a slice from a DataFrame.\n",
            "Try using .loc[row_indexer,col_indexer] = value instead\n",
            "\n",
            "See the caveats in the documentation: https://pandas.pydata.org/pandas-docs/stable/user_guide/indexing.html#returning-a-view-versus-a-copy\n",
            "  df['target'] = (df['5sma'] > df['Close']).astype(int)\n"
          ]
        }
      ],
      "source": [
        "df['target'] = (df['5sma'] > df['Close']).astype(int)"
      ],
      "metadata": {
        "ExecuteTime": {
          "end_time": "2024-03-08T11:39:33.515157Z",
          "start_time": "2024-03-08T11:39:33.495287Z"
        },
        "colab": {
          "base_uri": "https://localhost:8080/"
        },
        "id": "ff90722e61d7dd6c",
        "outputId": "e2424a25-e32e-4c88-c609-81b34c1d2cbe"
      },
      "id": "ff90722e61d7dd6c"
    },
    {
      "cell_type": "code",
      "execution_count": 20,
      "outputs": [
        {
          "output_type": "stream",
          "name": "stdout",
          "text": [
            "                 Close        5sma  target\n",
            "Date                                      \n",
            "2009-06-02  520.986755  511.411420       0\n",
            "2009-06-03  513.374939  514.808173       1\n",
            "2009-06-04  516.997986  516.705414       0\n",
            "2009-06-05  505.797424  523.533197       1\n",
            "2009-06-08  501.511505  522.838300       1\n",
            "2009-06-09  519.375244  516.950000       0\n",
            "2009-06-10  530.358704  504.659082       0\n",
            "2009-06-11  526.484192  491.940717       0\n",
            "2009-06-12  539.936340  477.283960       0\n",
            "2009-06-15  498.037018  466.938287       0\n"
          ]
        }
      ],
      "source": [
        "df = df.dropna()\n",
        "print(df[['Close','5sma','target']].head(10))"
      ],
      "metadata": {
        "ExecuteTime": {
          "end_time": "2024-03-08T11:39:38.804670Z",
          "start_time": "2024-03-08T11:39:38.791656Z"
        },
        "colab": {
          "base_uri": "https://localhost:8080/"
        },
        "id": "b27c0410305400ff",
        "outputId": "5eec0920-298f-42e3-89bd-0612861dfe73"
      },
      "id": "b27c0410305400ff"
    },
    {
      "cell_type": "markdown",
      "source": [
        "# drop unwanted columns"
      ],
      "metadata": {
        "collapsed": false,
        "id": "d43b73565e06bd49"
      },
      "id": "d43b73565e06bd49"
    },
    {
      "cell_type": "code",
      "execution_count": 21,
      "outputs": [],
      "source": [
        "df = df.drop(['Open', 'High','Low', 'Close', 'Adj Close', 'Volume','5sma','atr','rsi_delta'],axis=1)"
      ],
      "metadata": {
        "ExecuteTime": {
          "end_time": "2024-03-08T11:40:37.989664Z",
          "start_time": "2024-03-08T11:40:37.978665Z"
        },
        "id": "c7cbe55f7a05f8ad"
      },
      "id": "c7cbe55f7a05f8ad"
    },
    {
      "cell_type": "code",
      "execution_count": 22,
      "outputs": [],
      "source": [
        "df = df.dropna()"
      ],
      "metadata": {
        "ExecuteTime": {
          "end_time": "2024-03-08T11:41:02.895414Z",
          "start_time": "2024-03-08T11:41:02.882414Z"
        },
        "id": "ad64184d035e6747"
      },
      "id": "ad64184d035e6747"
    },
    {
      "cell_type": "markdown",
      "source": [
        "# Create target and features"
      ],
      "metadata": {
        "collapsed": false,
        "id": "2eda59574e7365d9"
      },
      "id": "2eda59574e7365d9"
    },
    {
      "cell_type": "code",
      "execution_count": 23,
      "outputs": [],
      "source": [
        "features = df.drop('target', axis=1).values\n",
        "target = df['target'].values"
      ],
      "metadata": {
        "ExecuteTime": {
          "end_time": "2024-03-08T11:41:05.114920Z",
          "start_time": "2024-03-08T11:41:05.104919Z"
        },
        "id": "46a977f111f7d888"
      },
      "id": "46a977f111f7d888"
    },
    {
      "cell_type": "markdown",
      "source": [
        "# create sequences of a specific length for features and the corresponding target."
      ],
      "metadata": {
        "collapsed": false,
        "id": "2b722f02445cf4ce"
      },
      "id": "2b722f02445cf4ce"
    },
    {
      "cell_type": "code",
      "execution_count": 56,
      "outputs": [],
      "source": [
        "def create_sequences(features, target, sequence_length):\n",
        "    X = []\n",
        "    y = []\n",
        "    for i in range(len(features) - sequence_length):\n",
        "        X.append(features[i:i+sequence_length])\n",
        "        y.append(target[i+(sequence_length-1)])\n",
        "    return np.array(X), np.array(y)\n",
        "\n",
        "sequence_length = 25\n",
        "X, y = create_sequences(features, target, sequence_length)"
      ],
      "metadata": {
        "ExecuteTime": {
          "end_time": "2024-03-08T11:42:03.390256Z",
          "start_time": "2024-03-08T11:42:03.367256Z"
        },
        "id": "654eb5a943f22991"
      },
      "id": "654eb5a943f22991"
    },
    {
      "cell_type": "markdown",
      "source": [
        "# split X and Y into training and validation sets"
      ],
      "metadata": {
        "collapsed": false,
        "id": "d6dc44a26c1dc982"
      },
      "id": "d6dc44a26c1dc982"
    },
    {
      "cell_type": "code",
      "execution_count": 57,
      "outputs": [],
      "source": [
        "from sklearn.model_selection import train_test_split\n",
        "X_train, X_val, y_train, y_val = train_test_split(X, y, test_size=0.4,shuffle=False)\n"
      ],
      "metadata": {
        "ExecuteTime": {
          "end_time": "2024-03-08T11:42:06.469871Z",
          "start_time": "2024-03-08T11:42:06.463853Z"
        },
        "id": "e555a4a424d364f0"
      },
      "id": "e555a4a424d364f0"
    },
    {
      "cell_type": "code",
      "execution_count": 58,
      "outputs": [
        {
          "output_type": "stream",
          "name": "stdout",
          "text": [
            "Training shape: (2170, 25, 8)\n",
            "Validation shape: (1447, 25, 8)\n"
          ]
        }
      ],
      "source": [
        "print(\"Training shape:\", X_train.shape)\n",
        "print(\"Validation shape:\", X_val.shape)"
      ],
      "metadata": {
        "ExecuteTime": {
          "end_time": "2024-03-08T11:18:01.565514Z",
          "start_time": "2024-03-08T11:18:01.546504Z"
        },
        "colab": {
          "base_uri": "https://localhost:8080/"
        },
        "id": "8ca4c5fd359407e",
        "outputId": "a577f6fe-0f73-4f12-c9f0-a38057b10236"
      },
      "id": "8ca4c5fd359407e"
    },
    {
      "cell_type": "code",
      "execution_count": 59,
      "outputs": [
        {
          "output_type": "stream",
          "name": "stdout",
          "text": [
            "8\n"
          ]
        }
      ],
      "source": [
        "num_features = X_train.shape[2]\n",
        "print(num_features)"
      ],
      "metadata": {
        "ExecuteTime": {
          "end_time": "2024-03-08T11:43:30.979813Z",
          "start_time": "2024-03-08T11:43:30.970241Z"
        },
        "colab": {
          "base_uri": "https://localhost:8080/"
        },
        "id": "782d09d5d89c3fa1",
        "outputId": "20bbd4f6-64bb-4391-ba14-82a2ae0e432f"
      },
      "id": "782d09d5d89c3fa1"
    },
    {
      "cell_type": "code",
      "execution_count": 60,
      "outputs": [
        {
          "output_type": "stream",
          "name": "stderr",
          "text": [
            "WARNING:tensorflow:Layer lstm_8 will not use cuDNN kernels since it doesn't meet the criteria. It will use a generic GPU kernel as fallback when running on GPU.\n",
            "WARNING:tensorflow:Layer lstm_9 will not use cuDNN kernels since it doesn't meet the criteria. It will use a generic GPU kernel as fallback when running on GPU.\n"
          ]
        }
      ],
      "source": [
        "from keras.optimizers import Adam\n",
        "from keras.regularizers import l1_l2,l1,l2\n",
        "from keras.layers import LeakyReLU\n",
        "# inputs = Input(shape=(sequence_length, X_train.sha))  # Replace with appropriate values\n",
        "\n",
        "\n",
        "# Build the LSTM model\n",
        "model = Sequential()\n",
        "# model.add(LSTM(64, return_sequences=True, input_shape=(sequence_length, num_features), activation='relu', kernel_regularizer=l1_l2(l1=0.01, l2=0.01)))\n",
        "# model.add(LSTM(64, return_sequences=True, input_shape=(sequence_length, num_features), activation='relu', kernel_regularizer=l1(0.001)))\n",
        "#model.add(LSTM(152, return_sequences=True, activation='relu'))  # Add an extra LSTM layer\n",
        "#model.add(Dropout(0.5))\n",
        "#model.add(LSTM(92, return_sequences=True, activation='relu'))  # Add an extra LSTM layer\n",
        "#model.add(Dropout(0.4))\n",
        "model.add(LSTM(64, return_sequences=True, activation='relu'))  # Add an extra LSTM layer\n",
        "# # model.add(Dropout(0.4))\n",
        "model.add(LSTM(32, return_sequences=True, activation='relu'))  # Add an extra LSTM layer\n",
        "# # model.add(Dropout(0.4))\n",
        "# model.add(LSTM(8, return_sequences=True, activation='tanh'))  # Add an extra LSTM layer\n",
        "# # # model.add(Dropout(0.4))\n",
        "model.add(LSTM(8))  # Add an extra LSTM layer\n",
        "# model.add(Dense(1, activation='sigmoid',  kernel_regularizer=l1_l2(l1=0.01, l2=0.01)))\n",
        "model.add(Dense(1, activation='sigmoid'))\n",
        "optimizer = Adam(learning_rate=0.001) # default is 0.001\n",
        "model.compile(optimizer=optimizer, loss='binary_crossentropy', metrics=['accuracy'])"
      ],
      "metadata": {
        "ExecuteTime": {
          "end_time": "2024-03-08T11:43:44.643323Z",
          "start_time": "2024-03-08T11:43:44.609073Z"
        },
        "colab": {
          "base_uri": "https://localhost:8080/"
        },
        "id": "3d8b1598cf5ade1f",
        "outputId": "feb14c49-4ccf-4ed0-d869-ed6973558c87"
      },
      "id": "3d8b1598cf5ade1f"
    },
    {
      "cell_type": "code",
      "execution_count": 45,
      "outputs": [],
      "source": [
        "early_stopping = EarlyStopping(monitor='val_loss',    # Monitor the val loss\n",
        "                               patience=150,           # Num epochs; if no improvement training will be stopped\n",
        "                               verbose=1,\n",
        "                               mode='min',            # The training will stop when the quantity monitored has stopped decreasing\n",
        "                               restore_best_weights=True) # Restores model weights from the epoch with the best value of the monitored quantity."
      ],
      "metadata": {
        "ExecuteTime": {
          "end_time": "2024-03-08T11:18:10.030170Z",
          "start_time": "2024-03-08T11:18:10.019171Z"
        },
        "id": "9aa67cde5d85bfc8"
      },
      "id": "9aa67cde5d85bfc8"
    },
    {
      "cell_type": "code",
      "execution_count": 46,
      "outputs": [],
      "source": [
        "\n",
        "# Model checkpoint callback\n",
        "model_checkpoint = ModelCheckpoint('/content/best_model.keras',   # Path where to save the model\n",
        "                                   monitor='val_loss',   # Monitor the validation loss\n",
        "                                   save_best_only=True,  # The latest best model according to the quantity monitored will not be overwritten\n",
        "                                   mode='min',           # The training will save the model when the quantity monitored has decreased\n",
        "                                   verbose=1)\n"
      ],
      "metadata": {
        "ExecuteTime": {
          "end_time": "2024-03-08T11:18:10.973183Z",
          "start_time": "2024-03-08T11:18:10.968181Z"
        },
        "id": "1536e75f7b9f13c5"
      },
      "id": "1536e75f7b9f13c5"
    },
    {
      "cell_type": "code",
      "execution_count": null,
      "outputs": [],
      "source": [
        "history = model.fit(X_train, y_train,\n",
        "                    epochs=1000,\n",
        "                    batch_size=16,\n",
        "                    validation_data=(X_val, y_val),\n",
        "                    callbacks=[early_stopping, model_checkpoint],\n",
        "                    verbose=1)\n"
      ],
      "metadata": {
        "is_executing": true,
        "ExecuteTime": {
          "start_time": "2024-03-08T11:43:49.078451Z"
        },
        "id": "e0525fda238b3308"
      },
      "id": "e0525fda238b3308"
    },
    {
      "cell_type": "markdown",
      "source": [
        "# plot val and train accuracy"
      ],
      "metadata": {
        "collapsed": false,
        "id": "25fb0890dc9a64fc"
      },
      "id": "25fb0890dc9a64fc"
    },
    {
      "cell_type": "code",
      "execution_count": 55,
      "outputs": [
        {
          "output_type": "display_data",
          "data": {
            "text/plain": [
              "<Figure size 640x480 with 1 Axes>"
            ],
            "image/png": "[encoded data removed]"
          },
          "metadata": {}
        }
      ],
      "source": [
        "plt.plot(history.history['accuracy'], label='Training Accuracy')\n",
        "plt.plot(history.history['val_accuracy'], label='Validation Accuracy')\n",
        "plt.xlabel('Epochs')\n",
        "plt.ylabel('Accuracy')\n",
        "plt.title('Training and Validation Accuracy')\n",
        "plt.legend()\n",
        "plt.show()\n"
      ],
      "metadata": {
        "ExecuteTime": {
          "end_time": "2024-03-08T11:14:51.263097Z",
          "start_time": "2024-03-08T11:14:51.063333Z"
        },
        "id": "6662615c470de959",
        "outputId": "695cc373-7dec-401c-dd84-5564d664b59e",
        "colab": {
          "base_uri": "https://localhost:8080/",
          "height": 472
        }
      },
      "id": "6662615c470de959"
    },
    {
      "cell_type": "markdown",
      "source": [
        "#plot model architecture"
      ],
      "metadata": {
        "collapsed": false,
        "id": "73272159e33e1d05"
      },
      "id": "73272159e33e1d05"
    },
    {
      "cell_type": "code",
      "execution_count": null,
      "outputs": [],
      "source": [
        "plot_model(model, to_file='lstm_model.png', show_shapes=True, show_layer_names=True)\n"
      ],
      "metadata": {
        "id": "814ec0626ef56309"
      },
      "id": "814ec0626ef56309"
    }
  ],
  "metadata": {
    "kernelspec": {
      "display_name": "Python 3",
      "name": "python3"
    },
    "language_info": {
      "codemirror_mode": {
        "name": "ipython",
        "version": 2
      },
      "file_extension": ".py",
      "mimetype": "text/x-python",
      "name": "python",
      "nbconvert_exporter": "python",
      "pygments_lexer": "ipython2",
      "version": "2.7.6"
    },
    "colab": {
      "provenance": [],
      "gpuType": "T4",
      "include_colab_link": true
    },
    "accelerator": "GPU"
  },
  "nbformat": 4,
  "nbformat_minor": 5
}