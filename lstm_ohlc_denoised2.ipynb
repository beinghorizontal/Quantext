{
  "cells": [
    {
      "cell_type": "markdown",
      "metadata": {
        "id": "view-in-github",
        "colab_type": "text"
      },
      "source": [
        "<a href=\"https://colab.research.google.com/github/beinghorizontal/Quantext/blob/main/lstm_ohlc_denoised2.ipynb\" target=\"_parent\"><img src=\"https://colab.research.google.com/assets/colab-badge.svg\" alt=\"Open In Colab\"/></a>"
      ]
    },
    {
      "cell_type": "code",
      "execution_count": null,
      "id": "initial_id",
      "metadata": {
        "collapsed": true,
        "id": "initial_id"
      },
      "outputs": [],
      "source": []
    },
    {
      "cell_type": "code",
      "execution_count": null,
      "outputs": [],
      "source": [
        "\n",
        "!pip install yfinance\n",
        "!pip install pandas_ta\n",
        "!pip install torch torchvision torchaudio --index-url https://download.pytorch.org/whl/cu118\n",
        "!pip install keras==3.0.0"
      ],
      "metadata": {
        "id": "9dc217f781c7c0ba"
      },
      "id": "9dc217f781c7c0ba"
    },
    {
      "cell_type": "markdown",
      "source": [
        "# Import essential libraries"
      ],
      "metadata": {
        "collapsed": false,
        "id": "d23ec81ad7522a42"
      },
      "id": "d23ec81ad7522a42"
    },
    {
      "cell_type": "code",
      "execution_count": null,
      "outputs": [],
      "source": [
        "import yfinance as yf\n",
        "import datetime\n",
        "import keras\n",
        "import numpy as np\n",
        "import matplotlib.pyplot as plt\n",
        "from pandas_datareader import data\n",
        "# from datetime import datetime\n",
        "from sklearn.preprocessing import MinMaxScaler\n",
        "from keras.models import Sequential\n",
        "import torch\n",
        "from keras.layers import LSTM, Dense, Dropout\n",
        "from keras.callbacks import EarlyStopping, ModelCheckpoint\n",
        "from keras.utils import plot_model"
      ],
      "metadata": {
        "ExecuteTime": {
          "end_time": "2024-03-08T08:55:53.441015Z",
          "start_time": "2024-03-08T08:55:52.501832Z"
        },
        "id": "df7283778863139d"
      },
      "id": "df7283778863139d"
    },
    {
      "cell_type": "markdown",
      "source": [
        "# Download the historical data from Yahoo finance for 15 years data, replace  'days=15' to change the years accordingly"
      ],
      "metadata": {
        "collapsed": false,
        "id": "d88345d162a0dc09"
      },
      "id": "d88345d162a0dc09"
    },
    {
      "cell_type": "code",
      "execution_count": null,
      "outputs": [],
      "source": [
        "ticker_symbol = \"RELIANCE.NS\"\n",
        "start_date = datetime.datetime.now() - datetime.timedelta(days=15 * 365)\n",
        "end_date = datetime.datetime.now()\n",
        "\n",
        "df1 = yf.download(ticker_symbol, start=start_date, end=end_date)"
      ],
      "metadata": {
        "ExecuteTime": {
          "end_time": "2024-03-08T08:55:57.228321Z",
          "start_time": "2024-03-08T08:55:57.208284Z"
        },
        "id": "41c61a5c9d638a5b"
      },
      "id": "41c61a5c9d638a5b"
    },
    {
      "cell_type": "code",
      "execution_count": null,
      "outputs": [],
      "source": [
        "df = df1.copy()"
      ],
      "metadata": {
        "ExecuteTime": {
          "end_time": "2024-03-08T08:56:04.291635Z",
          "start_time": "2024-03-08T08:56:02.654355Z"
        },
        "id": "f7d7ca20a88f90a3"
      },
      "id": "f7d7ca20a88f90a3"
    },
    {
      "cell_type": "code",
      "source": [
        "device = torch.device(\"cuda\" if torch.cuda.is_available() else \"cpu\")\n",
        "print(f\"Using device: {device}\")"
      ],
      "metadata": {
        "id": "aw6VexOP8i3h"
      },
      "id": "aw6VexOP8i3h",
      "execution_count": null,
      "outputs": []
    },
    {
      "cell_type": "markdown",
      "source": [
        "# To experiment with various features keep original copy safe so you don't need to download the file from yahoo server everytime you want to change the features."
      ],
      "metadata": {
        "id": "yj63QE1m8HyV"
      },
      "id": "yj63QE1m8HyV"
    },
    {
      "cell_type": "markdown",
      "source": [
        "# Alternate method to download historical data You need Alpha Vantage free API key. Store that key in the text folder and replace the path. For this script I have Used  the Yahoo finance data the only difference will be the column name which will be capitalized Or in small letters"
      ],
      "metadata": {
        "collapsed": false,
        "id": "f06eee203466f08"
      },
      "id": "f06eee203466f08"
    },
    {
      "cell_type": "code",
      "execution_count": null,
      "outputs": [],
      "source": [
        "#!pip install pandas-dataloader\n",
        "#from pandas_datareader import data\n",
        "# Download stock market data (e.g., Apple Inc.)\n",
        "# with open('G:/anaconda/Scripts/data/alpha_vantage/key.txt', 'r') as f:\n",
        "#     key = f.read()\n",
        "# symbol = 'AAPL'  # Ticker symbol for Apple Inc.\n",
        "# df = data.DataReader(symbol, \"av-daily\", start=datetime(2017, 2, 9),\n",
        "#                     end=datetime(2024, 2, 26),\n",
        "#                     api_key=key)"
      ],
      "metadata": {
        "id": "ac3091694c200fab"
      },
      "id": "ac3091694c200fab"
    },
    {
      "cell_type": "markdown",
      "source": [
        "# We will try to normalize the values without calculating the returns. It just for the demonstration to see how it will be difficult for the LSTM model to learn effectively"
      ],
      "metadata": {
        "collapsed": false,
        "id": "4c894feaee84b881"
      },
      "id": "4c894feaee84b881"
    },
    {
      "cell_type": "markdown",
      "source": [
        "# Let's plot unscaled  data 1st"
      ],
      "metadata": {
        "collapsed": false,
        "id": "37e1c4d83951501c"
      },
      "id": "37e1c4d83951501c"
    },
    {
      "cell_type": "code",
      "execution_count": null,
      "outputs": [],
      "source": [
        "# df['Close'].plot()\n",
        "# plt.show()"
      ],
      "metadata": {
        "id": "8fc02961dc36558"
      },
      "id": "8fc02961dc36558"
    },
    {
      "cell_type": "markdown",
      "source": [
        "# Now we will normalize it without calculating the returns and plot the normalized closed value.This is the most frequent error I have seen traders do as you can see even after transforming the data only the scale will be different but you are not essentially removing any underlying trend.Model is still highly sensitive to the price itself so imagine if the price 0.2 in the skilled format has never come what is the point of the model to train on that kind of data"
      ],
      "metadata": {
        "collapsed": false,
        "id": "3cddb5cdea98ee7a"
      },
      "id": "3cddb5cdea98ee7a"
    },
    {
      "cell_type": "code",
      "execution_count": null,
      "outputs": [],
      "source": [
        "# scaler = MinMaxScaler(feature_range=(-1, 1))\n",
        "# df_test = df.copy()\n",
        "# scaled_data = scaler.fit_transform(df_test[['Open', 'High', 'Low', 'Close','Volume']])\n",
        "# plt.plot(scaled_data[:, 3])"
      ],
      "metadata": {
        "ExecuteTime": {
          "end_time": "2024-03-08T07:38:51.863191700Z",
          "start_time": "2024-03-08T07:38:51.833851200Z"
        },
        "id": "666e0abae777abdf"
      },
      "id": "666e0abae777abdf"
    },
    {
      "cell_type": "markdown",
      "source": [
        "# Add candlestick patterns using pandas-ta and ta-lib"
      ],
      "metadata": {
        "collapsed": false,
        "id": "bfe7f52ae541e0ec"
      },
      "id": "bfe7f52ae541e0ec"
    },
    {
      "cell_type": "code",
      "execution_count": null,
      "outputs": [],
      "source": [
        "!pip install pandas_ta"
      ],
      "metadata": {
        "id": "7b41933480b28ce5"
      },
      "id": "7b41933480b28ce5"
    },
    {
      "cell_type": "markdown",
      "source": [
        "# To install TA_Lib in terminal use this line\n",
        "# conda install -c conda-forge ta-lib\n",
        "# (pip install TA-Lib will give errors on Windows)"
      ],
      "metadata": {
        "collapsed": false,
        "id": "fdbd9447028e917"
      },
      "id": "fdbd9447028e917"
    },
    {
      "cell_type": "markdown",
      "source": [
        "# Create Various columns with indicators based on pandas_ta  library, binary output method that is less noise but less opportunities to learn the pattern due to loss of information"
      ],
      "metadata": {
        "collapsed": false,
        "id": "d17ce6d6fd0e52b0"
      },
      "id": "d17ce6d6fd0e52b0"
    },
    {
      "cell_type": "code",
      "execution_count": null,
      "outputs": [],
      "source": [
        "# df['sma_small_delta'] = np.where(df.ta.sma(length=5) > df.ta.sma(length=10),1,0)\n",
        "# df['wma_small_delta'] = np.where(df.ta.wma(length=10) > df.ta.wma(length=20),1,0)\n",
        "# df['sma_long_delta'] = np.where(df.ta.sma(length=20) > df.ta.sma(length=50),1,0)\n",
        "# df['rsi_delta'] = np.where(df.ta.rsi(length=7) > df.ta.rsi(length=14),1,0)\n",
        "# df['vwma_small_delta'] = np.where(df.ta.vwma(length=5) > df.ta.vwma(length=10),1,0)\n",
        "# df['vwma_long_delta'] = np.where(df.ta.vwma(length=10) > df.ta.vwma(length=20),1,0)\n",
        "#df['percent_return_20'] = df.ta.percent_return(length=20)\n",
        "# df_vortex = df.ta.vortex(length=14)  # Vortex indicator has two oscillators positive and negative. We calculate the delta\n",
        "# df_vortex['plus_delta'] = np.where(df_vortex['VTXP_14'] > df_vortex['VTXM_14'],1,0)\n",
        "# df['vortex_plus_delta'] = df_vortex['plus_delta']\n"
      ],
      "metadata": {
        "ExecuteTime": {
          "end_time": "2024-03-08T09:01:49.835217Z",
          "start_time": "2024-03-08T09:01:49.810991Z"
        },
        "id": "36bf30c6c7035383"
      },
      "id": "36bf30c6c7035383"
    },
    {
      "cell_type": "markdown",
      "source": [
        "# Create columns best on pandas_ta library, non binary method that is more noise but more opportunities to learn the pattern"
      ],
      "metadata": {
        "collapsed": false,
        "id": "1ec33e3025847641"
      },
      "id": "1ec33e3025847641"
    },
    {
      "cell_type": "code",
      "outputs": [],
      "source": [
        "import pandas_ta as ta\n",
        "df['sma_small_delta'] = (df.ta.sma(length=5) - df.ta.sma(length=10))/df.ta.sma(length=10)\n",
        "df['wma_small_delta'] = (df.ta.wma(length=10) - df.ta.wma(length=20))/df.ta.wma(length=20)\n",
        "df['sma_long_delta'] = (df.ta.sma(length=20) - df.ta.sma(length=50))/df.ta.sma(length=50)\n",
        "df['rsi_delta'] = (df.ta.rsi(length=7) - df.ta.rsi(length=14)) / df.ta.rsi(length=14)\n",
        "df['vwma_small_delta'] = (df.ta.vwma(length=5) - df.ta.vwma(length=10))/df.ta.vwma(length=10) # Volume weighted moving average\n",
        "df['vwma_long_delta'] = (df.ta.vwma(length=10) - df.ta.vwma(length=20))/df.ta.vwma(length=20)\n",
        "df['percent_return_20'] = df.ta.percent_return(length=20)\n",
        "# df_vortex = df.ta.vortex(length=14)  # Vortex indicator has two oscillators positive and negative. We calculate the delta\n",
        "# df_vortex['plus_delta'] = (df_vortex['VTXP_14'] - df_vortex['VTXM_14'])/df_vortex['VTXM_14']\n",
        "# df['vortex_plus_delta'] = df_vortex['plus_delta']\n",
        "df['atr'] = df.ta.atr()/df['Close']\n",
        "df['roc5'] = df.ta.roc(length=5)\n",
        "df['roc'] = df.ta.roc()\n",
        "df= df.dropna()\n"
      ],
      "metadata": {
        "ExecuteTime": {
          "end_time": "2024-03-08T11:37:54.441214Z",
          "start_time": "2024-03-08T11:37:54.408883Z"
        },
        "id": "8f0231de7f836460"
      },
      "id": "8f0231de7f836460",
      "execution_count": null
    },
    {
      "cell_type": "markdown",
      "source": [
        "# plot 1 by 1 to confirm stationary properties"
      ],
      "metadata": {
        "collapsed": false,
        "id": "f392100af22e15b8"
      },
      "id": "f392100af22e15b8"
    },
    {
      "cell_type": "code",
      "execution_count": null,
      "outputs": [],
      "source": [
        "#df[['sma_small_delta']].tail(200).plot() # Zoom in view to see if there is randomness or some cyclical pattern\n"
      ],
      "metadata": {
        "id": "30ff6d23611cf146"
      },
      "id": "30ff6d23611cf146"
    },
    {
      "cell_type": "code",
      "execution_count": null,
      "outputs": [],
      "source": [
        "#df.ta.percent_return(length=20)"
      ],
      "metadata": {
        "id": "59823321b443b3ac"
      },
      "id": "59823321b443b3ac"
    },
    {
      "cell_type": "code",
      "execution_count": null,
      "outputs": [],
      "source": [
        "#df.ta.indicators()"
      ],
      "metadata": {
        "id": "10faaa5702a76674"
      },
      "id": "10faaa5702a76674"
    },
    {
      "cell_type": "code",
      "execution_count": null,
      "outputs": [],
      "source": [
        "#help(ta.vwma)\n"
      ],
      "metadata": {
        "id": "52fbb2a9ad0712f"
      },
      "id": "52fbb2a9ad0712f"
    },
    {
      "cell_type": "code",
      "execution_count": null,
      "outputs": [],
      "source": [
        "# df.ta.roc().tail(200).plot()\n",
        "# plt.show()"
      ],
      "metadata": {
        "ExecuteTime": {
          "end_time": "2024-03-08T09:01:58.320357Z",
          "start_time": "2024-03-08T09:01:58.033339Z"
        },
        "id": "b90f1b00b2445db7"
      },
      "id": "b90f1b00b2445db7"
    },
    {
      "cell_type": "code",
      "execution_count": null,
      "outputs": [],
      "source": [
        "df = df.dropna()"
      ],
      "metadata": {
        "ExecuteTime": {
          "end_time": "2024-03-08T11:38:03.925367Z",
          "start_time": "2024-03-08T11:38:03.915367Z"
        },
        "id": "5ec35e89dac95f85"
      },
      "id": "5ec35e89dac95f85"
    },
    {
      "cell_type": "markdown",
      "source": [
        "# check what dataframe looks like because we are going to normalize the remaining data later\n",
        "# Most of the values have positive and negative numbers. So we will use minmax scaler range is equal to -1, 1"
      ],
      "metadata": {
        "collapsed": false,
        "id": "b2240803c95ce304"
      },
      "id": "b2240803c95ce304"
    },
    {
      "cell_type": "code",
      "execution_count": null,
      "outputs": [],
      "source": [
        "scaler = MinMaxScaler(feature_range=(0, 1))"
      ],
      "metadata": {
        "ExecuteTime": {
          "end_time": "2024-03-08T11:38:34.526219Z",
          "start_time": "2024-03-08T11:38:34.509220Z"
        },
        "id": "64a8263100287c9f"
      },
      "id": "64a8263100287c9f"
    },
    {
      "cell_type": "code",
      "outputs": [],
      "source": [
        "print(df.columns.to_list())"
      ],
      "metadata": {
        "ExecuteTime": {
          "end_time": "2024-03-08T11:39:17.966195Z",
          "start_time": "2024-03-08T11:39:17.961194Z"
        },
        "id": "2817bcddaf640bea"
      },
      "id": "2817bcddaf640bea",
      "execution_count": null
    },
    {
      "cell_type": "code",
      "execution_count": null,
      "outputs": [],
      "source": [
        "columns_to_norm = ['sma_small_delta', 'wma_small_delta', 'sma_long_delta', 'rsi_delta', 'vwma_small_delta', 'vwma_long_delta', 'percent_return_20', 'atr', 'roc5', 'roc']\n",
        "#columns_to_norm = ['All_Candle_Patterns']\n",
        "\n",
        "for col in columns_to_norm:\n",
        "    df[[col]] = scaler.fit_transform(df[[col]])\n"
      ],
      "metadata": {
        "ExecuteTime": {
          "end_time": "2024-03-08T11:39:21.808683Z",
          "start_time": "2024-03-08T11:39:21.768380Z"
        },
        "id": "c18f3474b3023e8a"
      },
      "id": "c18f3474b3023e8a"
    },
    {
      "cell_type": "markdown",
      "source": [
        "# Create 5 day sma for target"
      ],
      "metadata": {
        "collapsed": false,
        "id": "b10e0987a2fffa2f"
      },
      "id": "b10e0987a2fffa2f"
    },
    {
      "cell_type": "code",
      "execution_count": null,
      "outputs": [],
      "source": [
        "df['5sma'] = df['Close'].shift(-5).rolling(5).mean()"
      ],
      "metadata": {
        "ExecuteTime": {
          "end_time": "2024-03-08T11:39:28.025611Z",
          "start_time": "2024-03-08T11:39:28.017119Z"
        },
        "id": "b33b790f9726f29b"
      },
      "id": "b33b790f9726f29b"
    },
    {
      "cell_type": "markdown",
      "source": [
        "# create binary target"
      ],
      "metadata": {
        "collapsed": false,
        "id": "ac5f5ae8a3808d4d"
      },
      "id": "ac5f5ae8a3808d4d"
    },
    {
      "cell_type": "code",
      "execution_count": null,
      "outputs": [],
      "source": [
        "df['target'] = (df['5sma'] > df['Close']).astype(int)"
      ],
      "metadata": {
        "ExecuteTime": {
          "end_time": "2024-03-08T11:39:33.515157Z",
          "start_time": "2024-03-08T11:39:33.495287Z"
        },
        "id": "ff90722e61d7dd6c"
      },
      "id": "ff90722e61d7dd6c"
    },
    {
      "cell_type": "code",
      "execution_count": null,
      "outputs": [],
      "source": [
        "df = df.dropna()\n",
        "print(df[['Close','5sma','target']].head(10))"
      ],
      "metadata": {
        "ExecuteTime": {
          "end_time": "2024-03-08T11:39:38.804670Z",
          "start_time": "2024-03-08T11:39:38.791656Z"
        },
        "id": "b27c0410305400ff"
      },
      "id": "b27c0410305400ff"
    },
    {
      "cell_type": "markdown",
      "source": [
        "# drop unwanted columns"
      ],
      "metadata": {
        "collapsed": false,
        "id": "d43b73565e06bd49"
      },
      "id": "d43b73565e06bd49"
    },
    {
      "cell_type": "code",
      "execution_count": null,
      "outputs": [],
      "source": [
        "df = df.drop(['Open', 'High','Low', 'Close', 'Adj Close', 'Volume','5sma','atr'],axis=1)"
      ],
      "metadata": {
        "ExecuteTime": {
          "end_time": "2024-03-08T11:40:37.989664Z",
          "start_time": "2024-03-08T11:40:37.978665Z"
        },
        "id": "c7cbe55f7a05f8ad"
      },
      "id": "c7cbe55f7a05f8ad"
    },
    {
      "cell_type": "code",
      "execution_count": null,
      "outputs": [],
      "source": [
        "df = df.dropna()"
      ],
      "metadata": {
        "ExecuteTime": {
          "end_time": "2024-03-08T11:41:02.895414Z",
          "start_time": "2024-03-08T11:41:02.882414Z"
        },
        "id": "ad64184d035e6747"
      },
      "id": "ad64184d035e6747"
    },
    {
      "cell_type": "markdown",
      "source": [
        "# Create target and features"
      ],
      "metadata": {
        "collapsed": false,
        "id": "2eda59574e7365d9"
      },
      "id": "2eda59574e7365d9"
    },
    {
      "cell_type": "code",
      "execution_count": null,
      "outputs": [],
      "source": [
        "features = df.drop('target', axis=1).values\n",
        "target = df['target'].values"
      ],
      "metadata": {
        "ExecuteTime": {
          "end_time": "2024-03-08T11:41:05.114920Z",
          "start_time": "2024-03-08T11:41:05.104919Z"
        },
        "id": "46a977f111f7d888"
      },
      "id": "46a977f111f7d888"
    },
    {
      "cell_type": "markdown",
      "source": [],
      "metadata": {
        "id": "p8ebrKmd9V5y"
      },
      "id": "p8ebrKmd9V5y"
    },
    {
      "cell_type": "code",
      "execution_count": null,
      "outputs": [],
      "source": [
        "def create_sequences(features, target, sequence_length):\n",
        "    X = []\n",
        "    y = []\n",
        "    for i in range(len(features) - sequence_length):\n",
        "        X.append(features[i:i+sequence_length])\n",
        "        y.append(target[i+(sequence_length-1)])\n",
        "    return np.array(X), np.array(y)\n",
        "\n",
        "sequence_length = 10\n",
        "X, y = create_sequences(features, target, sequence_length)"
      ],
      "metadata": {
        "ExecuteTime": {
          "end_time": "2024-03-08T11:42:03.390256Z",
          "start_time": "2024-03-08T11:42:03.367256Z"
        },
        "id": "654eb5a943f22991"
      },
      "id": "654eb5a943f22991"
    },
    {
      "cell_type": "markdown",
      "source": [
        "# split X and Y into training and validation sets"
      ],
      "metadata": {
        "collapsed": false,
        "id": "d6dc44a26c1dc982"
      },
      "id": "d6dc44a26c1dc982"
    },
    {
      "cell_type": "code",
      "execution_count": null,
      "outputs": [],
      "source": [
        "from sklearn.model_selection import train_test_split\n",
        "X_train, X_val, y_train, y_val = train_test_split(X, y, test_size=0.4,shuffle=False)\n"
      ],
      "metadata": {
        "ExecuteTime": {
          "end_time": "2024-03-08T11:42:06.469871Z",
          "start_time": "2024-03-08T11:42:06.463853Z"
        },
        "id": "e555a4a424d364f0"
      },
      "id": "e555a4a424d364f0"
    },
    {
      "cell_type": "code",
      "execution_count": null,
      "outputs": [],
      "source": [
        "print(\"Training shape:\", X_train.shape)\n",
        "print(\"Validation shape:\", X_val.shape)"
      ],
      "metadata": {
        "ExecuteTime": {
          "end_time": "2024-03-08T11:18:01.565514Z",
          "start_time": "2024-03-08T11:18:01.546504Z"
        },
        "id": "8ca4c5fd359407e"
      },
      "id": "8ca4c5fd359407e"
    },
    {
      "cell_type": "code",
      "execution_count": null,
      "outputs": [],
      "source": [
        "num_features = X_train.shape[2]\n",
        "print(num_features)"
      ],
      "metadata": {
        "ExecuteTime": {
          "end_time": "2024-03-08T11:43:30.979813Z",
          "start_time": "2024-03-08T11:43:30.970241Z"
        },
        "id": "782d09d5d89c3fa1"
      },
      "id": "782d09d5d89c3fa1"
    },
    {
      "cell_type": "code",
      "execution_count": null,
      "outputs": [],
      "source": [
        "from keras.optimizers import Adam\n",
        "from keras.regularizers import l1_l2,l1,l2\n",
        "from keras.layers import LeakyReLU\n",
        "# inputs = Input(shape=(sequence_length, X_train.sha))  # Replace with appropriate values\n",
        "\n",
        "\n",
        "# Build the LSTM model\n",
        "model = Sequential()\n",
        "# model.add(LSTM(64, return_sequences=True, input_shape=(sequence_length, num_features), activation='relu', kernel_regularizer=l1_l2(l1=0.01, l2=0.01)))\n",
        "#model.add(LSTM(64, return_sequences=True, input_shape=(sequence_length, num_features), activation='relu', kernel_regularizer=l1(0.001)))\n",
        "# model.add(LSTM(152, return_sequences=True, activation='relu'))  # Add an extra LSTM layer\n",
        "#model.add(Dropout(0.5))\n",
        "#model.add(LSTM(92, return_sequences=True, activation='relu'))  # Add an extra LSTM layer\n",
        "#model.add(Dropout(0.4))\n",
        "model.add(LSTM(64, return_sequences=True, activation='relu'))  # Add an extra LSTM layer\n",
        "# # model.add(Dropout(0.4))\n",
        "# model.add(LSTM(32, return_sequences=True, activation='relu'))  # Add an extra LSTM layer\n",
        "# # model.add(Dropout(0.4))\n",
        "# model.add(LSTM(8, return_sequences=True, activation='tanh'))  # Add an extra LSTM layer\n",
        "# # # model.add(Dropout(0.4))\n",
        "model.add(LSTM(8))  # Add an extra LSTM layer\n",
        "# model.add(Dense(1, activation='sigmoid',  kernel_regularizer=l1_l2(l1=0.01, l2=0.01)))\n",
        "model.add(Dense(1, activation='sigmoid'))\n",
        "optimizer = Adam(learning_rate=0.001) # default is 0.001\n",
        "model.compile(optimizer=optimizer, loss='binary_crossentropy', metrics=['accuracy'])"
      ],
      "metadata": {
        "ExecuteTime": {
          "end_time": "2024-03-08T11:43:44.643323Z",
          "start_time": "2024-03-08T11:43:44.609073Z"
        },
        "id": "3d8b1598cf5ade1f"
      },
      "id": "3d8b1598cf5ade1f"
    },
    {
      "cell_type": "code",
      "execution_count": null,
      "outputs": [],
      "source": [
        "early_stopping = EarlyStopping(monitor='val_loss',    # Monitor the val loss\n",
        "                               patience=150,           # Num epochs; if no improvement training will be stopped\n",
        "                               verbose=1,\n",
        "                               mode='min',            # The training will stop when the quantity monitored has stopped decreasing\n",
        "                               restore_best_weights=True) # Restores model weights from the epoch with the best value of the monitored quantity."
      ],
      "metadata": {
        "ExecuteTime": {
          "end_time": "2024-03-08T11:18:10.030170Z",
          "start_time": "2024-03-08T11:18:10.019171Z"
        },
        "id": "9aa67cde5d85bfc8"
      },
      "id": "9aa67cde5d85bfc8"
    },
    {
      "cell_type": "code",
      "execution_count": null,
      "outputs": [],
      "source": [
        "\n",
        "# Model checkpoint callback\n",
        "model_checkpoint = ModelCheckpoint('/content/best_model.keras',   # Path where to save the model\n",
        "                                   monitor='val_loss',   # Monitor the validation loss\n",
        "                                   save_best_only=True,  # The latest best model according to the quantity monitored will not be overwritten\n",
        "                                   mode='min',           # The training will save the model when the quantity monitored has decreased\n",
        "                                   verbose=1)\n"
      ],
      "metadata": {
        "ExecuteTime": {
          "end_time": "2024-03-08T11:18:10.973183Z",
          "start_time": "2024-03-08T11:18:10.968181Z"
        },
        "id": "1536e75f7b9f13c5"
      },
      "id": "1536e75f7b9f13c5"
    },
    {
      "cell_type": "code",
      "execution_count": null,
      "outputs": [],
      "source": [
        "history = model.fit(X_train, y_train,\n",
        "                    epochs=1000,\n",
        "                    batch_size=4,\n",
        "                    validation_data=(X_val, y_val),\n",
        "                    callbacks=[early_stopping, model_checkpoint],\n",
        "                    verbose=1)\n"
      ],
      "metadata": {
        "is_executing": true,
        "ExecuteTime": {
          "start_time": "2024-03-08T11:43:49.078451Z"
        },
        "id": "e0525fda238b3308"
      },
      "id": "e0525fda238b3308"
    },
    {
      "cell_type": "markdown",
      "source": [
        "# plot val and train accuracy"
      ],
      "metadata": {
        "collapsed": false,
        "id": "25fb0890dc9a64fc"
      },
      "id": "25fb0890dc9a64fc"
    },
    {
      "cell_type": "code",
      "execution_count": null,
      "outputs": [],
      "source": [
        "plt.plot(history.history['accuracy'], label='Training Accuracy')\n",
        "plt.plot(history.history['val_accuracy'], label='Validation Accuracy')\n",
        "plt.xlabel('Epochs')\n",
        "plt.ylabel('Accuracy')\n",
        "plt.title('Training and Validation Accuracy')\n",
        "plt.legend()\n",
        "plt.show()\n"
      ],
      "metadata": {
        "ExecuteTime": {
          "end_time": "2024-03-08T11:14:51.263097Z",
          "start_time": "2024-03-08T11:14:51.063333Z"
        },
        "id": "6662615c470de959"
      },
      "id": "6662615c470de959"
    },
    {
      "cell_type": "markdown",
      "source": [
        "#plot model architecture"
      ],
      "metadata": {
        "collapsed": false,
        "id": "73272159e33e1d05"
      },
      "id": "73272159e33e1d05"
    },
    {
      "cell_type": "code",
      "execution_count": null,
      "outputs": [],
      "source": [
        "plot_model(model, to_file='lstm_model.png', show_shapes=True, show_layer_names=True)\n"
      ],
      "metadata": {
        "id": "814ec0626ef56309"
      },
      "id": "814ec0626ef56309"
    }
  ],
  "metadata": {
    "kernelspec": {
      "display_name": "Python 3",
      "name": "python3"
    },
    "language_info": {
      "codemirror_mode": {
        "name": "ipython",
        "version": 2
      },
      "file_extension": ".py",
      "mimetype": "text/x-python",
      "name": "python",
      "nbconvert_exporter": "python",
      "pygments_lexer": "ipython2",
      "version": "2.7.6"
    },
    "colab": {
      "provenance": [],
      "gpuType": "T4",
      "include_colab_link": true
    },
    "accelerator": "GPU"
  },
  "nbformat": 4,
  "nbformat_minor": 5
}