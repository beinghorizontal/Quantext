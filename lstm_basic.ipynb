{
  "nbformat": 4,
  "nbformat_minor": 0,
  "metadata": {
    "colab": {
      "provenance": [],
      "gpuType": "T4",
      "authorship_tag": "ABX9TyMrmZ3Hk5YBWQvwgMJn+BEy",
      "include_colab_link": true
    },
    "kernelspec": {
      "name": "python3",
      "display_name": "Python 3"
    },
    "language_info": {
      "name": "python"
    },
    "accelerator": "GPU"
  },
  "cells": [
    {
      "cell_type": "markdown",
      "metadata": {
        "id": "view-in-github",
        "colab_type": "text"
      },
      "source": [
        "<a href=\"https://colab.research.google.com/github/beinghorizontal/Quantext/blob/main/lstm_basic.ipynb\" target=\"_parent\"><img src=\"https://colab.research.google.com/assets/colab-badge.svg\" alt=\"Open In Colab\"/></a>"
      ]
    },
    {
      "cell_type": "code",
      "source": [
        "import tensorflow as tf\n",
        "physical_devices = tf.config.list_physical_devices('GPU')\n",
        "\n",
        "print(\"GPU:\", tf.config.list_physical_devices('GPU'))\n",
        "print(\"Num GPUs:\", len(physical_devices))"
      ],
      "metadata": {
        "colab": {
          "base_uri": "https://localhost:8080/"
        },
        "id": "KzWBdJHKCxvy",
        "outputId": "e48f356b-d59c-47ba-bae1-2f22573426b7"
      },
      "execution_count": 1,
      "outputs": [
        {
          "output_type": "stream",
          "name": "stdout",
          "text": [
            "GPU: [PhysicalDevice(name='/physical_device:GPU:0', device_type='GPU')]\n",
            "Num GPUs: 1\n"
          ]
        }
      ]
    },
    {
      "cell_type": "code",
      "execution_count": 3,
      "metadata": {
        "id": "1PwrS4hYMiR7"
      },
      "outputs": [],
      "source": [
        "# Import necessary libraries\n",
        "import numpy as np\n",
        "import matplotlib.pyplot as plt\n",
        "import tensorflow as tf\n",
        "from pandas_datareader import data\n",
        "import datetime as dt\n",
        "from datetime import datetime\n",
        "from sklearn.preprocessing import StandardScaler\n",
        "from tensorflow.keras.models import Sequential\n",
        "from tensorflow.keras.layers import LSTM, Dense\n"
      ]
    },
    {
      "cell_type": "markdown",
      "source": [
        "get free API key from alpha- vantage and save in local file safely and import the file  https://www.alphavantage.co/support/#api-key"
      ],
      "metadata": {
        "id": "izMUMZGPEHI6"
      }
    },
    {
      "cell_type": "code",
      "source": [
        "from google.colab import files\n",
        "\n",
        "# Choose the file from your local machine to upload\n",
        "uploaded = files.upload()\n"
      ],
      "metadata": {
        "colab": {
          "base_uri": "https://localhost:8080/",
          "height": 72
        },
        "id": "AVmCi2KEEaAZ",
        "outputId": "44ad2a22-3b74-4502-f716-273577b5a249"
      },
      "execution_count": 5,
      "outputs": [
        {
          "output_type": "display_data",
          "data": {
            "text/plain": [
              "<IPython.core.display.HTML object>"
            ],
            "text/html": [
              "\n",
              "     <input type=\"file\" id=\"files-4dd83557-9854-4b1b-86d7-f83ca32cbdf0\" name=\"files[]\" multiple disabled\n",
              "        style=\"border:none\" />\n",
              "     <output id=\"result-4dd83557-9854-4b1b-86d7-f83ca32cbdf0\">\n",
              "      Upload widget is only available when the cell has been executed in the\n",
              "      current browser session. Please rerun this cell to enable.\n",
              "      </output>\n",
              "      <script>// Copyright 2017 Google LLC\n",
              "//\n",
              "// Licensed under the Apache License, Version 2.0 (the \"License\");\n",
              "// you may not use this file except in compliance with the License.\n",
              "// You may obtain a copy of the License at\n",
              "//\n",
              "//      http://www.apache.org/licenses/LICENSE-2.0\n",
              "//\n",
              "// Unless required by applicable law or agreed to in writing, software\n",
              "// distributed under the License is distributed on an \"AS IS\" BASIS,\n",
              "// WITHOUT WARRANTIES OR CONDITIONS OF ANY KIND, either express or implied.\n",
              "// See the License for the specific language governing permissions and\n",
              "// limitations under the License.\n",
              "\n",
              "/**\n",
              " * @fileoverview Helpers for google.colab Python module.\n",
              " */\n",
              "(function(scope) {\n",
              "function span(text, styleAttributes = {}) {\n",
              "  const element = document.createElement('span');\n",
              "  element.textContent = text;\n",
              "  for (const key of Object.keys(styleAttributes)) {\n",
              "    element.style[key] = styleAttributes[key];\n",
              "  }\n",
              "  return element;\n",
              "}\n",
              "\n",
              "// Max number of bytes which will be uploaded at a time.\n",
              "const MAX_PAYLOAD_SIZE = 100 * 1024;\n",
              "\n",
              "function _uploadFiles(inputId, outputId) {\n",
              "  const steps = uploadFilesStep(inputId, outputId);\n",
              "  const outputElement = document.getElementById(outputId);\n",
              "  // Cache steps on the outputElement to make it available for the next call\n",
              "  // to uploadFilesContinue from Python.\n",
              "  outputElement.steps = steps;\n",
              "\n",
              "  return _uploadFilesContinue(outputId);\n",
              "}\n",
              "\n",
              "// This is roughly an async generator (not supported in the browser yet),\n",
              "// where there are multiple asynchronous steps and the Python side is going\n",
              "// to poll for completion of each step.\n",
              "// This uses a Promise to block the python side on completion of each step,\n",
              "// then passes the result of the previous step as the input to the next step.\n",
              "function _uploadFilesContinue(outputId) {\n",
              "  const outputElement = document.getElementById(outputId);\n",
              "  const steps = outputElement.steps;\n",
              "\n",
              "  const next = steps.next(outputElement.lastPromiseValue);\n",
              "  return Promise.resolve(next.value.promise).then((value) => {\n",
              "    // Cache the last promise value to make it available to the next\n",
              "    // step of the generator.\n",
              "    outputElement.lastPromiseValue = value;\n",
              "    return next.value.response;\n",
              "  });\n",
              "}\n",
              "\n",
              "/**\n",
              " * Generator function which is called between each async step of the upload\n",
              " * process.\n",
              " * @param {string} inputId Element ID of the input file picker element.\n",
              " * @param {string} outputId Element ID of the output display.\n",
              " * @return {!Iterable<!Object>} Iterable of next steps.\n",
              " */\n",
              "function* uploadFilesStep(inputId, outputId) {\n",
              "  const inputElement = document.getElementById(inputId);\n",
              "  inputElement.disabled = false;\n",
              "\n",
              "  const outputElement = document.getElementById(outputId);\n",
              "  outputElement.innerHTML = '';\n",
              "\n",
              "  const pickedPromise = new Promise((resolve) => {\n",
              "    inputElement.addEventListener('change', (e) => {\n",
              "      resolve(e.target.files);\n",
              "    });\n",
              "  });\n",
              "\n",
              "  const cancel = document.createElement('button');\n",
              "  inputElement.parentElement.appendChild(cancel);\n",
              "  cancel.textContent = 'Cancel upload';\n",
              "  const cancelPromise = new Promise((resolve) => {\n",
              "    cancel.onclick = () => {\n",
              "      resolve(null);\n",
              "    };\n",
              "  });\n",
              "\n",
              "  // Wait for the user to pick the files.\n",
              "  const files = yield {\n",
              "    promise: Promise.race([pickedPromise, cancelPromise]),\n",
              "    response: {\n",
              "      action: 'starting',\n",
              "    }\n",
              "  };\n",
              "\n",
              "  cancel.remove();\n",
              "\n",
              "  // Disable the input element since further picks are not allowed.\n",
              "  inputElement.disabled = true;\n",
              "\n",
              "  if (!files) {\n",
              "    return {\n",
              "      response: {\n",
              "        action: 'complete',\n",
              "      }\n",
              "    };\n",
              "  }\n",
              "\n",
              "  for (const file of files) {\n",
              "    const li = document.createElement('li');\n",
              "    li.append(span(file.name, {fontWeight: 'bold'}));\n",
              "    li.append(span(\n",
              "        `(${file.type || 'n/a'}) - ${file.size} bytes, ` +\n",
              "        `last modified: ${\n",
              "            file.lastModifiedDate ? file.lastModifiedDate.toLocaleDateString() :\n",
              "                                    'n/a'} - `));\n",
              "    const percent = span('0% done');\n",
              "    li.appendChild(percent);\n",
              "\n",
              "    outputElement.appendChild(li);\n",
              "\n",
              "    const fileDataPromise = new Promise((resolve) => {\n",
              "      const reader = new FileReader();\n",
              "      reader.onload = (e) => {\n",
              "        resolve(e.target.result);\n",
              "      };\n",
              "      reader.readAsArrayBuffer(file);\n",
              "    });\n",
              "    // Wait for the data to be ready.\n",
              "    let fileData = yield {\n",
              "      promise: fileDataPromise,\n",
              "      response: {\n",
              "        action: 'continue',\n",
              "      }\n",
              "    };\n",
              "\n",
              "    // Use a chunked sending to avoid message size limits. See b/62115660.\n",
              "    let position = 0;\n",
              "    do {\n",
              "      const length = Math.min(fileData.byteLength - position, MAX_PAYLOAD_SIZE);\n",
              "      const chunk = new Uint8Array(fileData, position, length);\n",
              "      position += length;\n",
              "\n",
              "      const base64 = btoa(String.fromCharCode.apply(null, chunk));\n",
              "      yield {\n",
              "        response: {\n",
              "          action: 'append',\n",
              "          file: file.name,\n",
              "          data: base64,\n",
              "        },\n",
              "      };\n",
              "\n",
              "      let percentDone = fileData.byteLength === 0 ?\n",
              "          100 :\n",
              "          Math.round((position / fileData.byteLength) * 100);\n",
              "      percent.textContent = `${percentDone}% done`;\n",
              "\n",
              "    } while (position < fileData.byteLength);\n",
              "  }\n",
              "\n",
              "  // All done.\n",
              "  yield {\n",
              "    response: {\n",
              "      action: 'complete',\n",
              "    }\n",
              "  };\n",
              "}\n",
              "\n",
              "scope.google = scope.google || {};\n",
              "scope.google.colab = scope.google.colab || {};\n",
              "scope.google.colab._files = {\n",
              "  _uploadFiles,\n",
              "  _uploadFilesContinue,\n",
              "};\n",
              "})(self);\n",
              "</script> "
            ]
          },
          "metadata": {}
        },
        {
          "output_type": "stream",
          "name": "stdout",
          "text": [
            "Saving key.txt to key.txt\n"
          ]
        }
      ]
    },
    {
      "cell_type": "markdown",
      "source": [
        "read the api key file ang get api key"
      ],
      "metadata": {
        "id": "QzeFGf7hE-Z3"
      }
    },
    {
      "cell_type": "code",
      "source": [
        "with open('key.txt', 'r') as f:\n",
        "  key = f.read()"
      ],
      "metadata": {
        "id": "pP0wy5-_FCxH"
      },
      "execution_count": null,
      "outputs": []
    },
    {
      "cell_type": "markdown",
      "source": [
        "download the data, nse data wont work but we will use ouw own file for next project anyway"
      ],
      "metadata": {
        "id": "kugQJyS2FgUr"
      }
    },
    {
      "cell_type": "code",
      "source": [
        "# Download stock market data (e.g., Apple Inc.)\n",
        "start_date = dt.datetime(2018, 1, 1)\n",
        "end_date = dt.datetime(2024, 2, 28)\n",
        "symbol = 'TSLA'  # Ticker symbol for Apple Inc.\n",
        "df = data.DataReader(symbol, \"av-daily\", start=datetime(2017, 2, 9),\n",
        "                    end=datetime(2024, 2, 26),\n",
        "                    api_key=key)\n",
        "\n"
      ],
      "metadata": {
        "id": "iRFn7uBTMuO2"
      },
      "execution_count": 12,
      "outputs": []
    },
    {
      "cell_type": "markdown",
      "source": [
        "plot the data"
      ],
      "metadata": {
        "id": "UHTZ5OghF3c_"
      }
    },
    {
      "cell_type": "code",
      "source": [
        "import matplotlib.pyplot as plt\n",
        "df.close.plot()"
      ],
      "metadata": {
        "colab": {
          "base_uri": "https://localhost:8080/",
          "height": 447
        },
        "id": "j0np2jE3F1_a",
        "outputId": "3a498fe3-07f2-41c0-93b8-efc5fc466f21"
      },
      "execution_count": 13,
      "outputs": [
        {
          "output_type": "execute_result",
          "data": {
            "text/plain": [
              "<Axes: >"
            ]
          },
          "metadata": {},
          "execution_count": 13
        },
        {
          "output_type": "display_data",
          "data": {
            "text/plain": [
              "<Figure size 640x480 with 1 Axes>"
            ],
            "image/png": "[encoded data removed]"
          },
          "metadata": {}
        }
      ]
    },
    {
      "cell_type": "markdown",
      "source": [
        "transform periodical timeseris data to stationary data by calculating % return"
      ],
      "metadata": {
        "id": "WMxeus-0GzG-"
      }
    },
    {
      "cell_type": "code",
      "source": [
        "df['Open_pct'] = df['open'].pct_change()\n",
        "df['High_pct'] = df['high'].pct_change()\n",
        "df['Low_pct'] = df['low'].pct_change()\n",
        "df['Close_pct'] = df['close'].pct_change()\n",
        "df['volume_pct'] = df['volume'].pct_change()\n",
        "\n",
        "# Drop NaN values\n",
        "df.dropna(inplace=True)\n"
      ],
      "metadata": {
        "id": "fvbvGvFJFygp"
      },
      "execution_count": 15,
      "outputs": []
    },
    {
      "cell_type": "markdown",
      "source": [
        "print df and see columns (features)"
      ],
      "metadata": {
        "id": "u2yf3mRgGkj9"
      }
    },
    {
      "cell_type": "code",
      "source": [
        "from tabulate import tabulate\n",
        "print(tabulate(df.head(10), headers='keys', tablefmt='fancy_grid'))\n"
      ],
      "metadata": {
        "colab": {
          "base_uri": "https://localhost:8080/"
        },
        "id": "-dQdLb_hGrdU",
        "outputId": "7d073b1f-3517-49a9-94da-aed87cdfa9db"
      },
      "execution_count": 29,
      "outputs": [
        {
          "output_type": "stream",
          "name": "stdout",
          "text": [
            "╒════════════╤════════╤════════╤════════╤═════════╤═════════════╤═════════════╤══════════════╤══════════════╤══════════════╤══════════════╕\n",
            "│            │   open │   high │    low │   close │      volume │    Open_pct │     High_pct │      Low_pct │    Close_pct │   volume_pct │\n",
            "╞════════════╪════════╪════════╪════════╪═════════╪═════════════╪═════════════╪══════════════╪══════════════╪══════════════╪══════════════╡\n",
            "│ 2017-02-10 │ 269.79 │ 270.95 │ 266.11 │  269.23 │ 3.61974e+06 │  0.0132958  │ -0.000848145 │ -0.000150291 │  0.000111441 │   -0.537131  │\n",
            "├────────────┼────────┼────────┼────────┼─────────┼─────────────┼─────────────┼──────────────┼──────────────┼──────────────┼──────────────┤\n",
            "│ 2017-02-13 │ 270.74 │ 280.79 │ 270.51 │  280.6  │ 7.0296e+06  │  0.00352126 │  0.0363163   │  0.0165345   │  0.0422315   │    0.94202   │\n",
            "├────────────┼────────┼────────┼────────┼─────────┼─────────────┼─────────────┼──────────────┼──────────────┼──────────────┼──────────────┤\n",
            "│ 2017-02-14 │ 279.03 │ 287.39 │ 278.61 │  280.98 │ 7.34522e+06 │  0.0306198  │  0.0235055   │  0.0299434   │  0.00135424  │    0.0448985 │\n",
            "├────────────┼────────┼────────┼────────┼─────────┼─────────────┼─────────────┼──────────────┼──────────────┼──────────────┼──────────────┤\n",
            "│ 2017-02-15 │ 280    │ 282.24 │ 276.44 │  279.76 │ 4.94786e+06 │  0.00347633 │ -0.0179199   │ -0.00778867  │ -0.00434195  │   -0.326385  │\n",
            "├────────────┼────────┼────────┼────────┼─────────┼─────────────┼─────────────┼──────────────┼──────────────┼──────────────┼──────────────┤\n",
            "│ 2017-02-16 │ 277.6  │ 280    │ 268.5  │  268.95 │ 7.07732e+06 │ -0.00857143 │ -0.00793651  │ -0.0287223   │ -0.0386403   │    0.430382  │\n",
            "├────────────┼────────┼────────┼────────┼─────────┼─────────────┼─────────────┼──────────────┼──────────────┼──────────────┼──────────────┤\n",
            "│ 2017-02-17 │ 265.8  │ 272.89 │ 264.15 │  272.23 │ 6.25715e+06 │ -0.0425072  │ -0.0253929   │ -0.0162011   │  0.0121956   │   -0.115887  │\n",
            "├────────────┼────────┼────────┼────────┼─────────┼─────────────┼─────────────┼──────────────┼──────────────┼──────────────┼──────────────┤\n",
            "│ 2017-02-21 │ 275.45 │ 281.4  │ 274.01 │  277.39 │ 5.67675e+06 │  0.0363055  │  0.0311847   │  0.0373273   │  0.0189546   │   -0.0927582 │\n",
            "├────────────┼────────┼────────┼────────┼─────────┼─────────────┼─────────────┼──────────────┼──────────────┼──────────────┼──────────────┤\n",
            "│ 2017-02-22 │ 280.31 │ 283.45 │ 272.6  │  273.51 │ 8.75498e+06 │  0.0176439  │  0.007285    │ -0.0051458   │ -0.0139875   │    0.542252  │\n",
            "├────────────┼────────┼────────┼────────┼─────────┼─────────────┼─────────────┼──────────────┼──────────────┼──────────────┼──────────────┤\n",
            "│ 2017-02-23 │ 264    │ 264.66 │ 255.56 │  255.99 │ 1.49152e+07 │ -0.0581856  │ -0.0662904   │ -0.0625092   │ -0.0640562   │    0.703631  │\n",
            "├────────────┼────────┼────────┼────────┼─────────┼─────────────┼─────────────┼──────────────┼──────────────┼──────────────┼──────────────┤\n",
            "│ 2017-02-24 │ 252.66 │ 258.25 │ 250.2  │  257    │ 8.17163e+06 │ -0.0429545  │ -0.0242198   │ -0.0209735   │  0.00394547  │   -0.452129  │\n",
            "╘════════════╧════════╧════════╧════════╧═════════╧═════════════╧═════════════╧══════════════╧══════════════╧══════════════╧══════════════╛\n"
          ]
        }
      ]
    },
    {
      "cell_type": "markdown",
      "source": [
        "Give same scale to retun data so it's machine readable\n"
      ],
      "metadata": {
        "id": "GS3bI-IOHA8v"
      }
    },
    {
      "cell_type": "code",
      "source": [
        "scaler = StandardScaler()\n",
        "scaled_data = scaler.fit_transform(df[['Open_pct', 'High_pct', 'Low_pct', 'Close_pct', 'volume_pct']])\n"
      ],
      "metadata": {
        "id": "H9BU2AhMMzpD"
      },
      "execution_count": 52,
      "outputs": []
    },
    {
      "cell_type": "code",
      "source": [
        "# Create sequences of length 10\n",
        "sequence_length = 2\n",
        "X, y = [], []\n",
        "for i in range(len(scaled_data) - sequence_length):\n",
        "    #i=1\n",
        "    X.append(scaled_data[i:i + sequence_length])\n",
        "    y.append(1 if df['close'].iloc[i + sequence_length] > df['close'].iloc[i + sequence_length - 1] else 0)\n",
        "\n",
        "X = np.array(X)\n",
        "y = np.array(y)\n"
      ],
      "metadata": {
        "id": "8rSI6BwkM2nk"
      },
      "execution_count": 53,
      "outputs": []
    },
    {
      "cell_type": "code",
      "source": [
        "# Split data into train and validation sets\n",
        "split_ratio = 0.7\n",
        "split_index = int(split_ratio * len(X))\n",
        "X_train, y_train = X[:split_index], y[:split_index]\n",
        "X_val, y_val = X[split_index:], y[split_index:]\n",
        "\n"
      ],
      "metadata": {
        "id": "j469VsEQM5el"
      },
      "execution_count": null,
      "outputs": []
    },
    {
      "cell_type": "code",
      "source": [
        "model = Sequential()\n",
        "model.add(LSTM(64, return_sequences=True, input_shape=(sequence_length, 4), activation='relu'))\n",
        "model.add(LSTM(64, return_sequences=True, activation='relu'))  # Add an extra LSTM layer\n",
        "model.add(LSTM(64, return_sequences=True, activation='relu'))  # Add an extra LSTM layer\n",
        "model.add(LSTM(64, return_sequences=True, activation='relu'))  # Add an extra LSTM layer\n",
        "model.add(LSTM(64, return_sequences=True, activation='relu'))  # Add an extra LSTM layer\n",
        "model.add(LSTM(64))  # Last LSTM layer (no return_sequences)\n",
        "model.add(Dense(1, activation='sigmoid'))\n",
        "\n",
        "model.compile(optimizer='adam', loss='binary_crossentropy', metrics=['accuracy'])\n"
      ],
      "metadata": {
        "id": "3L_GaK9qM8UG"
      },
      "execution_count": null,
      "outputs": []
    },
    {
      "cell_type": "code",
      "source": [
        "train_loss_list = []\n",
        "val_loss_list = []\n",
        "\n",
        "# Custom training loop\n",
        "num_epochs = 500\n",
        "for epoch in range(num_epochs):\n",
        "    # Train the model\n",
        "    history = model.fit(X_train, y_train, epochs=1, batch_size=32, validation_data=(X_val, y_val))\n",
        "    train_loss = history.history['loss'][0]\n",
        "    train_loss_list.append(train_loss)\n",
        "\n",
        "    # Calculate validation loss (use your validation data)\n",
        "    # val_loss = model.evaluate(X_val, y_val, verbose=0)\n",
        "    # val_loss_list.append(val_loss)\n",
        "\n",
        "    # Update the plot\n",
        "    plt.clf()  # Clear the previous plot\n",
        "    plt.plot(train_loss_list, label='Training Loss')\n",
        "    # plt.plot(val_loss_list, label='Validation Loss')  # Uncomment for validation loss\n",
        "    plt.xlabel('Epochs')\n",
        "    plt.ylabel('Loss')\n",
        "    plt.title('Training and Validation Loss')\n",
        "    plt.legend()\n",
        "    plt.pause(0.01)  # Pause to update the plot\n",
        "\n",
        "# Show the final plot\n",
        "plt.show()"
      ],
      "metadata": {
        "id": "9kdy38jDNAEI"
      },
      "execution_count": null,
      "outputs": []
    }
  ]
}