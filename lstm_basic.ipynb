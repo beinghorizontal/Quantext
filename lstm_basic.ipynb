{
  "nbformat": 4,
  "nbformat_minor": 0,
  "metadata": {
    "colab": {
      "provenance": [],
      "authorship_tag": "ABX9TyPJJ2aCn1b5/holj2OYnHnb",
      "include_colab_link": true
    },
    "kernelspec": {
      "name": "python3",
      "display_name": "Python 3"
    },
    "language_info": {
      "name": "python"
    }
  },
  "cells": [
    {
      "cell_type": "markdown",
      "metadata": {
        "id": "view-in-github",
        "colab_type": "text"
      },
      "source": [
        "<a href=\"https://colab.research.google.com/github/beinghorizontal/Quantext/blob/main/lstm_basic.ipynb\" target=\"_parent\"><img src=\"https://colab.research.google.com/assets/colab-badge.svg\" alt=\"Open In Colab\"/></a>"
      ]
    },
    {
      "cell_type": "code",
      "execution_count": null,
      "metadata": {
        "id": "1PwrS4hYMiR7"
      },
      "outputs": [],
      "source": [
        "# Import necessary libraries\n",
        "import numpy as np\n",
        "import matplotlib.pyplot as plt\n",
        "import tensorflow as tf\n",
        "from pandas_datareader import data\n",
        "import datetime as dt\n",
        "from datetime import datetime\n",
        "from sklearn.preprocessing import StandardScaler\n",
        "from tensorflow.keras.models import Sequential\n",
        "from tensorflow.keras.layers import LSTM, Dense\n"
      ]
    },
    {
      "cell_type": "code",
      "source": [
        "# Download stock market data (e.g., Apple Inc.)\n",
        "start_date = dt.datetime(2022, 1, 1)\n",
        "end_date = dt.datetime(2024, 2, 28)\n",
        "with open('G:/anaconda/Scripts/data/alpha_vantage/key.txt', 'r') as f:\n",
        "    key = f.read()\n",
        "symbol = 'AAPL'  # Ticker symbol for Apple Inc.\n",
        "df = data.DataReader(\"AAPL\", \"av-daily\", start=datetime(2017, 2, 9),\n",
        "                    end=datetime(2024, 2, 26),\n",
        "                    api_key=key)\n",
        "\n",
        "df['Open_pct'] = df['open'].pct_change()\n",
        "df['High_pct'] = df['high'].pct_change()\n",
        "df['Low_pct'] = df['low'].pct_change()\n",
        "df['Close_pct'] = df['close'].pct_change()\n",
        "\n",
        "# Drop NaN values\n",
        "df.dropna(inplace=True)\n"
      ],
      "metadata": {
        "id": "iRFn7uBTMuO2"
      },
      "execution_count": null,
      "outputs": []
    },
    {
      "cell_type": "code",
      "source": [
        "scaler = StandardScaler()\n",
        "scaled_data = scaler.fit_transform(df[['Open_pct', 'High_pct', 'Low_pct', 'Close_pct']])\n"
      ],
      "metadata": {
        "id": "H9BU2AhMMzpD"
      },
      "execution_count": null,
      "outputs": []
    },
    {
      "cell_type": "code",
      "source": [
        "# Create sequences of length 10\n",
        "sequence_length = 100\n",
        "X, y = [], []\n",
        "for i in range(len(scaled_data) - sequence_length):\n",
        "    X.append(scaled_data[i:i + sequence_length])\n",
        "    y.append(1 if df['close'].iloc[i + sequence_length] > df['close'].iloc[i + sequence_length - 1] else 0)\n",
        "\n",
        "X = np.array(X)\n",
        "y = np.array(y)\n"
      ],
      "metadata": {
        "id": "8rSI6BwkM2nk"
      },
      "execution_count": null,
      "outputs": []
    },
    {
      "cell_type": "code",
      "source": [
        "# Split data into train and validation sets\n",
        "split_ratio = 0.7\n",
        "split_index = int(split_ratio * len(X))\n",
        "X_train, y_train = X[:split_index], y[:split_index]\n",
        "X_val, y_val = X[split_index:], y[split_index:]\n",
        "\n"
      ],
      "metadata": {
        "id": "j469VsEQM5el"
      },
      "execution_count": null,
      "outputs": []
    },
    {
      "cell_type": "code",
      "source": [
        "model = Sequential()\n",
        "model.add(LSTM(64, return_sequences=True, input_shape=(sequence_length, 4), activation='relu'))\n",
        "model.add(LSTM(64, return_sequences=True, activation='relu'))  # Add an extra LSTM layer\n",
        "model.add(LSTM(64, return_sequences=True, activation='relu'))  # Add an extra LSTM layer\n",
        "model.add(LSTM(64, return_sequences=True, activation='relu'))  # Add an extra LSTM layer\n",
        "model.add(LSTM(64, return_sequences=True, activation='relu'))  # Add an extra LSTM layer\n",
        "model.add(LSTM(64))  # Last LSTM layer (no return_sequences)\n",
        "model.add(Dense(1, activation='sigmoid'))\n",
        "\n",
        "model.compile(optimizer='adam', loss='binary_crossentropy', metrics=['accuracy'])\n"
      ],
      "metadata": {
        "id": "3L_GaK9qM8UG"
      },
      "execution_count": null,
      "outputs": []
    },
    {
      "cell_type": "code",
      "source": [
        "train_loss_list = []\n",
        "val_loss_list = []\n",
        "\n",
        "# Custom training loop\n",
        "num_epochs = 500\n",
        "for epoch in range(num_epochs):\n",
        "    # Train the model\n",
        "    history = model.fit(X_train, y_train, epochs=1, batch_size=32, validation_data=(X_val, y_val))\n",
        "    train_loss = history.history['loss'][0]\n",
        "    train_loss_list.append(train_loss)\n",
        "\n",
        "    # Calculate validation loss (use your validation data)\n",
        "    # val_loss = model.evaluate(X_val, y_val, verbose=0)\n",
        "    # val_loss_list.append(val_loss)\n",
        "\n",
        "    # Update the plot\n",
        "    plt.clf()  # Clear the previous plot\n",
        "    plt.plot(train_loss_list, label='Training Loss')\n",
        "    # plt.plot(val_loss_list, label='Validation Loss')  # Uncomment for validation loss\n",
        "    plt.xlabel('Epochs')\n",
        "    plt.ylabel('Loss')\n",
        "    plt.title('Training and Validation Loss')\n",
        "    plt.legend()\n",
        "    plt.pause(0.01)  # Pause to update the plot\n",
        "\n",
        "# Show the final plot\n",
        "plt.show()"
      ],
      "metadata": {
        "id": "9kdy38jDNAEI"
      },
      "execution_count": null,
      "outputs": []
    }
  ]
}